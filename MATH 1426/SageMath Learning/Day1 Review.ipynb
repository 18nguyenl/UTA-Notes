{
 "cells": [
  {
   "cell_type": "code",
   "execution_count": 7,
   "metadata": {},
   "outputs": [
    {
     "name": "stdout",
     "output_type": "stream",
     "text": [
      "Integral of xdx 0 to 1\n"
     ]
    },
    {
     "data": {
      "text/html": [
       "<html><script type=\"math/tex; mode=display\">\\newcommand{\\Bold}[1]{\\mathbf{#1}}\\frac{1}{2}</script></html>"
      ],
      "text/plain": [
       "1/2"
      ]
     },
     "metadata": {},
     "output_type": "display_data"
    }
   ],
   "source": [
    "from sage.symbolic.integration.integral import definite_integral\n",
    "print('Integral of xdx 0 to 1')\n",
    "show(definite_integral(x, x, 0, 1))"
   ]
  },
  {
   "cell_type": "code",
   "execution_count": 8,
   "metadata": {},
   "outputs": [
    {
     "name": "stdout",
     "output_type": "stream",
     "text": [
      "Integral of xdx -1 to 1\n"
     ]
    },
    {
     "data": {
      "text/html": [
       "<html><script type=\"math/tex; mode=display\">\\newcommand{\\Bold}[1]{\\mathbf{#1}}0</script></html>"
      ],
      "text/plain": [
       "0"
      ]
     },
     "metadata": {},
     "output_type": "display_data"
    }
   ],
   "source": [
    "print('Integral of xdx -1 to 1')\n",
    "show(definite_integral(x, x, -1, 1))"
   ]
  },
  {
   "cell_type": "code",
   "execution_count": 9,
   "metadata": {},
   "outputs": [
    {
     "data": {
      "text/html": [
       "<html><script type=\"math/tex; mode=display\">\\newcommand{\\Bold}[1]{\\mathbf{#1}}2 \\, x - 4</script></html>"
      ],
      "text/plain": [
       "2*x - 4"
      ]
     },
     "metadata": {},
     "output_type": "display_data"
    }
   ],
   "source": [
    "show(2*x - 4)"
   ]
  },
  {
   "cell_type": "code",
   "execution_count": 1,
   "metadata": {},
   "outputs": [
    {
     "data": {
      "text/html": [
       "<html><script type=\"math/tex; mode=display\">\\newcommand{\\Bold}[1]{\\mathbf{#1}}\\frac{9 \\, k}{n^{2}}</script></html>"
      ],
      "text/plain": [
       "9*k/n^2"
      ]
     },
     "metadata": {},
     "output_type": "display_data"
    },
    {
     "data": {
      "text/html": [
       "<html><script type=\"math/tex; mode=display\">\\newcommand{\\Bold}[1]{\\mathbf{#1}}\\frac{9 \\, {\\left(n + 1\\right)}}{2 \\, n}</script></html>"
      ],
      "text/plain": [
       "9/2*(n + 1)/n"
      ]
     },
     "metadata": {},
     "output_type": "display_data"
    }
   ],
   "source": [
    "n, k = var('n', 'k')\n",
    "show(0+((3*k)/n)*(3/n))\n",
    "show(sum(0+((3*k)/n)*(3/n), k, 1, n))"
   ]
  },
  {
   "cell_type": "code",
   "execution_count": 15,
   "metadata": {},
   "outputs": [
    {
     "data": {
      "text/html": [
       "<html><script type=\"math/tex; mode=display\">\\newcommand{\\Bold}[1]{\\mathbf{#1}}\\frac{8}{5} \\, x^{5} - 3 \\, x^{4} + 2 \\, x^{3} - \\frac{1}{2} \\, x^{2}</script></html>"
      ],
      "text/plain": [
       "8/5*x^5 - 3*x^4 + 2*x^3 - 1/2*x^2"
      ]
     },
     "metadata": {},
     "output_type": "display_data"
    }
   ],
   "source": [
    "show(integral(x * (2*x-1)^3, x))"
   ]
  },
  {
   "cell_type": "code",
   "execution_count": 17,
   "metadata": {},
   "outputs": [
    {
     "data": {
      "text/html": [
       "<html><script type=\"math/tex; mode=display\">\\newcommand{\\Bold}[1]{\\mathbf{#1}}\\frac{1}{32} \\, {\\left(2 \\, x - 1\\right)}^{8}</script></html>"
      ],
      "text/plain": [
       "1/32*(2*x - 1)^8"
      ]
     },
     "metadata": {},
     "output_type": "display_data"
    }
   ],
   "source": [
    "show((1/2) * integral((2 * x -1)^7, x))"
   ]
  },
  {
   "cell_type": "code",
   "execution_count": 2,
   "metadata": {},
   "outputs": [
    {
     "data": {
      "text/html": [
       "<html><script type=\"math/tex; mode=display\">\\newcommand{\\Bold}[1]{\\mathbf{#1}}\\begin{array}{l}\n",
       "\\phantom{\\verb!x!}\\\\\n",
       "\\verb|ewcommand{\\Bold}[1]{\\mathbf{#1}}\\sqrt{{\\left(7|\\phantom{\\verb!x!}\\verb|\\,|\\phantom{\\verb!x!}\\verb|x|\\phantom{\\verb!x!}\\verb|+|\\phantom{\\verb!x!}\\verb|6\r",
       "ight)}^{2}|\\phantom{\\verb!x!}\\verb|+|\\phantom{\\verb!x!}\\verb|x^{2}}}}\n",
       "\\end{arra|</script></html>"
      ],
      "text/plain": [
       "'\\newcommand{\\\\Bold}[1]{\\\\mathbf{#1}}\\\\sqrt{{\\\\left(7 \\\\, x + 6\\right)}^{2} + x^{2}}'"
      ]
     },
     "metadata": {},
     "output_type": "display_data"
    }
   ],
   "source": [
    "show('\\newcommand{\\Bold}[1]{\\mathbf{#1}}\\sqrt{{\\left(7 \\, x + 6\\right)}^{2} + x^{2}}')"
   ]
  },
  {
   "cell_type": "markdown",
   "metadata": {},
   "source": [
    "$\\newcommand{\\Bold}[1]{\\mathbf{#1}}\\sqrt{50 \\, x^{2} + 84 \\, x + 36}$"
   ]
  },
  {
   "cell_type": "code",
   "execution_count": 67,
   "metadata": {},
   "outputs": [
    {
     "data": {
      "text/html": [
       "<html><script type=\"math/tex; mode=display\">\\newcommand{\\Bold}[1]{\\mathbf{#1}}\\sqrt{{\\left(x - 34\\right)}^{2} + 16 \\, x^{2}}</script></html>"
      ],
      "text/plain": [
       "sqrt((x - 34)^2 + 16*x^2)"
      ]
     },
     "metadata": {},
     "output_type": "display_data"
    },
    {
     "data": {
      "text/html": [
       "<html><script type=\"math/tex; mode=display\">\\newcommand{\\Bold}[1]{\\mathbf{#1}}2</script></html>"
      ],
      "text/plain": [
       "2"
      ]
     },
     "metadata": {},
     "output_type": "display_data"
    },
    {
     "data": {
      "text/html": [
       "<html><script type=\"math/tex; mode=display\">\\newcommand{\\Bold}[1]{\\mathbf{#1}}8</script></html>"
      ],
      "text/plain": [
       "8"
      ]
     },
     "metadata": {},
     "output_type": "display_data"
    },
    {
     "data": {
      "text/html": [
       "<html><script type=\"math/tex; mode=display\">\\newcommand{\\Bold}[1]{\\mathbf{#1}}32.9848450049413</script></html>"
      ],
      "text/plain": [
       "32.9848450049413"
      ]
     },
     "metadata": {},
     "output_type": "display_data"
    }
   ],
   "source": [
    "# Solving Parabola Optimization\n",
    "y = 4 * x\n",
    "x2 = 34\n",
    "y2 = 0\n",
    "x = var('x')\n",
    "D = sqrt((x - x2)^2 + ((y)-y2)^2)\n",
    "show(D)\n",
    "for i in solve([D.diff()], x):\n",
    "    if(i.rhs().is_real()):\n",
    "        show(i.rhs())\n",
    "        show(y(i.rhs()))\n",
    "        show(N(D(i.rhs())))\n"
   ]
  },
  {
   "cell_type": "code",
   "execution_count": 95,
   "metadata": {},
   "outputs": [
    {
     "data": {
      "text/html": [
       "<html><script type=\"math/tex; mode=display\">\\newcommand{\\Bold}[1]{\\mathbf{#1}}\\frac{x}{2 \\, \\sqrt{x^{2} + 25}} - \\frac{1}{3}</script></html>"
      ],
      "text/plain": [
       "1/2*x/sqrt(x^2 + 25) - 1/3"
      ]
     },
     "metadata": {},
     "output_type": "display_data"
    }
   ],
   "source": [
    "x = var('x')\n",
    "T = (sqrt((25+x^2))/2)+((15-x)/3)\n",
    "show(T.diff())\n",
    "#for i in solve([T.diff()], x):\n",
    "#    if(T.diff(2)(i.rhs()) > 0):\n",
    "       #show(T(i.rhs()))"
   ]
  },
  {
   "cell_type": "code",
   "execution_count": 105,
   "metadata": {},
   "outputs": [
    {
     "data": {
      "text/html": [
       "<html><script type=\"math/tex; mode=display\">\\newcommand{\\Bold}[1]{\\mathbf{#1}}5 \\, \\sqrt{10}</script></html>"
      ],
      "text/plain": [
       "5*sqrt(10)"
      ]
     },
     "metadata": {},
     "output_type": "display_data"
    },
    {
     "data": {
      "text/html": [
       "<html><script type=\"math/tex; mode=display\">\\newcommand{\\Bold}[1]{\\mathbf{#1}}\\frac{3 \\, \\sqrt{10}}{10 \\, x} - \\frac{1}{3}</script></html>"
      ],
      "text/plain": [
       "3/10*sqrt(10)/x - 1/3"
      ]
     },
     "metadata": {},
     "output_type": "display_data"
    },
    {
     "data": {
      "text/html": [
       "<html><script type=\"math/tex; mode=display\">\\newcommand{\\Bold}[1]{\\mathbf{#1}}\\left[x = \\frac{9}{10} \\, \\sqrt{10}\\right]</script></html>"
      ],
      "text/plain": [
       "[x == 9/10*sqrt(10)]"
      ]
     },
     "metadata": {},
     "output_type": "display_data"
    }
   ],
   "source": [
    "T=(15/(x*sqrt(15^2+25)))-1/3\n",
    "show(sqrt(15^2+25))\n",
    "show(T)\n",
    "show(solve(T, x), to_poly_solve=true)"
   ]
  },
  {
   "cell_type": "code",
   "execution_count": 125,
   "metadata": {},
   "outputs": [
    {
     "data": {
      "text/html": [
       "<html><script type=\"math/tex; mode=display\">\\newcommand{\\Bold}[1]{\\mathbf{#1}}-1500 \\, x + 3000 \\, \\sqrt{x^{2} + 36} + 18000</script></html>"
      ],
      "text/plain": [
       "-1500*x + 3000*sqrt(x^2 + 36) + 18000"
      ]
     },
     "metadata": {},
     "output_type": "display_data"
    },
    {
     "data": {
      "text/html": [
       "<html><script type=\"math/tex; mode=display\">\\newcommand{\\Bold}[1]{\\mathbf{#1}}\\frac{3000 \\, x}{\\sqrt{x^{2} + 36}} - 1500</script></html>"
      ],
      "text/plain": [
       "3000*x/sqrt(x^2 + 36) - 1500"
      ]
     },
     "metadata": {},
     "output_type": "display_data"
    },
    {
     "data": {
      "text/html": [
       "<html><script type=\"math/tex; mode=display\">\\newcommand{\\Bold}[1]{\\mathbf{#1}}\\left[x = 2 \\, \\sqrt{3}\\right]</script></html>"
      ],
      "text/plain": [
       "[x == 2*sqrt(3)]"
      ]
     },
     "metadata": {},
     "output_type": "display_data"
    },
    {
     "data": {
      "text/html": [
       "<html><script type=\"math/tex; mode=display\">\\newcommand{\\Bold}[1]{\\mathbf{#1}}33588.4572681199</script></html>"
      ],
      "text/plain": [
       "33588.4572681199"
      ]
     },
     "metadata": {},
     "output_type": "display_data"
    }
   ],
   "source": [
    "x = var('x')\n",
    "C = (3000*sqrt(6^2 + x^2)) + (1500*(12 - x))\n",
    "show(C)\n",
    "show(C.diff().simplify())\n",
    "show(C.diff().solve(x, to_poly_solve=true))\n",
    "show(N(C(C.diff().solve(x, to_poly_solve=true)[0].rhs())))"
   ]
  },
  {
   "cell_type": "code",
   "execution_count": 133,
   "metadata": {},
   "outputs": [
    {
     "data": {
      "text/html": [
       "<html><script type=\"math/tex; mode=display\">\\newcommand{\\Bold}[1]{\\mathbf{#1}}4 \\, h + \\frac{260}{h} + 138</script></html>"
      ],
      "text/plain": [
       "4*h + 260/h + 138"
      ]
     },
     "metadata": {},
     "output_type": "display_data"
    },
    {
     "data": {
      "text/html": [
       "<html><script type=\"math/tex; mode=display\">\\newcommand{\\Bold}[1]{\\mathbf{#1}}-\\frac{130 \\, {\\left(h + 2\\right)}}{h^{2}} + \\frac{130}{h} + 4</script></html>"
      ],
      "text/plain": [
       "-130*(h + 2)/h^2 + 130/h + 4"
      ]
     },
     "metadata": {},
     "output_type": "display_data"
    },
    {
     "data": {
      "text/html": [
       "<html><script type=\"math/tex; mode=display\">\\newcommand{\\Bold}[1]{\\mathbf{#1}}\\left[h = -\\sqrt{65}, h = \\sqrt{65}\\right]</script></html>"
      ],
      "text/plain": [
       "[h == -sqrt(65), h == sqrt(65)]"
      ]
     },
     "metadata": {},
     "output_type": "display_data"
    }
   ],
   "source": [
    "h = var('h')\n",
    "A = (h+2)*((130/h)+4)\n",
    "show(A.expand())\n",
    "show(A.diff())\n",
    "show(A.diff().solve(h, to_poly_solve=true))"
   ]
  },
  {
   "cell_type": "code",
   "execution_count": 146,
   "metadata": {},
   "outputs": [
    {
     "data": {
      "text/html": [
       "<html><script type=\"math/tex; mode=display\">\\newcommand{\\Bold}[1]{\\mathbf{#1}}{\\left(s - 2 \\, x\\right)}^{2} x</script></html>"
      ],
      "text/plain": [
       "(s - 2*x)^2*x"
      ]
     },
     "metadata": {},
     "output_type": "display_data"
    },
    {
     "data": {
      "text/html": [
       "<html><script type=\"math/tex; mode=display\">\\newcommand{\\Bold}[1]{\\mathbf{#1}}{\\left(s - 2 \\, x\\right)}^{2} - 4 \\, {\\left(s - 2 \\, x\\right)} x</script></html>"
      ],
      "text/plain": [
       "(s - 2*x)^2 - 4*(s - 2*x)*x"
      ]
     },
     "metadata": {},
     "output_type": "display_data"
    },
    {
     "data": {
      "text/html": [
       "<html><script type=\"math/tex; mode=display\">\\newcommand{\\Bold}[1]{\\mathbf{#1}}\\left[x = \\frac{1}{6} \\, s, x = \\frac{1}{2} \\, s\\right]</script></html>"
      ],
      "text/plain": [
       "[x == 1/6*s, x == 1/2*s]"
      ]
     },
     "metadata": {},
     "output_type": "display_data"
    },
    {
     "data": {
      "text/html": [
       "<html><script type=\"math/tex; mode=display\">\\newcommand{\\Bold}[1]{\\mathbf{#1}}\\frac{1}{4} \\, {\\left(s - 4 \\, x\\right)}^{2} x</script></html>"
      ],
      "text/plain": [
       "1/4*(s - 4*x)^2*x"
      ]
     },
     "metadata": {},
     "output_type": "display_data"
    }
   ],
   "source": [
    "x, s = var('x', 's')\n",
    "V = x * (21 - 2 * x) * (39 - 2 * x)\n",
    "V = x * (s - 2 * x) ^ 2\n",
    "show(V)\n",
    "show(V.diff(x))\n",
    "sol=V.diff(x).solve(x, to_poly_solve=true)\n",
    "show(sol)\n",
    "show((V(sol[1].rhs())))"
   ]
  },
  {
   "cell_type": "code",
   "execution_count": 39,
   "metadata": {},
   "outputs": [
    {
     "data": {
      "text/html": [
       "<html><script type=\"math/tex; mode=display\">\\newcommand{\\Bold}[1]{\\mathbf{#1}}x + 1</script></html>"
      ],
      "text/plain": [
       "x + 1"
      ]
     },
     "metadata": {},
     "output_type": "display_data"
    },
    {
     "data": {
      "text/html": [
       "<html><script type=\"math/tex; mode=display\">\\newcommand{\\Bold}[1]{\\mathbf{#1}}1.08000000000000</script></html>"
      ],
      "text/plain": [
       "1.08000000000000"
      ]
     },
     "metadata": {},
     "output_type": "display_data"
    },
    {
     "data": {
      "text/html": [
       "<html><script type=\"math/tex; mode=display\">\\newcommand{\\Bold}[1]{\\mathbf{#1}}1.08328706767496</script></html>"
      ],
      "text/plain": [
       "1.08328706767496"
      ]
     },
     "metadata": {},
     "output_type": "display_data"
    },
    {
     "data": {
      "text/html": [
       "<html><script type=\"math/tex; mode=display\">\\newcommand{\\Bold}[1]{\\mathbf{#1}}0.303434590243337</script></html>"
      ],
      "text/plain": [
       "0.303434590243337"
      ]
     },
     "metadata": {},
     "output_type": "display_data"
    }
   ],
   "source": [
    "f(x) = exp(x)\n",
    "y = f.diff()(0) * (x - 0) + f(0) \n",
    "show(y)\n",
    "show((y(0.08)))\n",
    "show((f(0.08)))\n",
    "show(N(100 * (abs(y(0.08) - f(0.08))/abs(f(0.08)))))"
   ]
  },
  {
   "cell_type": "code",
   "execution_count": 54,
   "metadata": {},
   "outputs": [
    {
     "data": {
      "text/html": [
       "<html><script type=\"math/tex; mode=display\">\\newcommand{\\Bold}[1]{\\mathbf{#1}}361 \\, \\pi h</script></html>"
      ],
      "text/plain": [
       "361*pi*h"
      ]
     },
     "metadata": {},
     "output_type": "display_data"
    },
    {
     "data": {
      "text/html": [
       "<html><script type=\"math/tex; mode=display\">\\newcommand{\\Bold}[1]{\\mathbf{#1}}-36.1000000000000 \\, \\pi</script></html>"
      ],
      "text/plain": [
       "-36.1000000000000*pi"
      ]
     },
     "metadata": {},
     "output_type": "display_data"
    }
   ],
   "source": [
    "V(h)=pi * 19^2 * h\n",
    "show(V(h))\n",
    "show((V.diff()(11) * -.1))"
   ]
  },
  {
   "cell_type": "code",
   "execution_count": 61,
   "metadata": {},
   "outputs": [
    {
     "data": {
      "text/html": [
       "<html><script type=\"math/tex; mode=display\">\\newcommand{\\Bold}[1]{\\mathbf{#1}}-\\sin\\left(4 \\, x\\right)</script></html>"
      ],
      "text/plain": [
       "-sin(4*x)"
      ]
     },
     "metadata": {},
     "output_type": "display_data"
    },
    {
     "data": {
      "text/html": [
       "<html><script type=\"math/tex; mode=display\">\\newcommand{\\Bold}[1]{\\mathbf{#1}}\\left[x = \\frac{1}{8} \\, \\pi\\right]</script></html>"
      ],
      "text/plain": [
       "[x == 1/8*pi]"
      ]
     },
     "metadata": {},
     "output_type": "display_data"
    }
   ],
   "source": [
    "f(x)=-sin(4*x)\n",
    "show(f(x))\n",
    "show(solve(f(x).diff(), x, to_poly_solve=true))"
   ]
  },
  {
   "cell_type": "code",
   "execution_count": 71,
   "metadata": {},
   "outputs": [
    {
     "data": {
      "text/html": [
       "<html><script type=\"math/tex; mode=display\">\\newcommand{\\Bold}[1]{\\mathbf{#1}}73.0434782608696</script></html>"
      ],
      "text/plain": [
       "73.0434782608696"
      ]
     },
     "metadata": {},
     "output_type": "display_data"
    }
   ],
   "source": [
    "show(N(28/(23/60)))"
   ]
  },
  {
   "cell_type": "code",
   "execution_count": 76,
   "metadata": {},
   "outputs": [
    {
     "data": {
      "text/html": [
       "<html><script type=\"math/tex; mode=display\">\\newcommand{\\Bold}[1]{\\mathbf{#1}}-\\frac{2}{\\pi}</script></html>"
      ],
      "text/plain": [
       "-2/pi"
      ]
     },
     "metadata": {},
     "output_type": "display_data"
    }
   ],
   "source": [
    "show((1/((pi/2)-(-pi/2)))*integral(-cos(x), x, -pi/2, pi/2))"
   ]
  },
  {
   "cell_type": "code",
   "execution_count": 79,
   "metadata": {},
   "outputs": [
    {
     "data": {
      "image/png": "[encoded data removed]",
      "text/plain": [
       "Graphics object consisting of 1 graphics primitive"
      ]
     },
     "execution_count": 79,
     "metadata": {},
     "output_type": "execute_result"
    }
   ],
   "source": [
    "plot(-cos(x), -10, 10)"
   ]
  },
  {
   "cell_type": "code",
   "execution_count": 82,
   "metadata": {},
   "outputs": [
    {
     "data": {
      "text/html": [
       "<html><script type=\"math/tex; mode=display\">\\newcommand{\\Bold}[1]{\\mathbf{#1}}\\frac{26}{\\pi}</script></html>"
      ],
      "text/plain": [
       "26/pi"
      ]
     },
     "metadata": {},
     "output_type": "display_data"
    }
   ],
   "source": [
    "show((1/(pi-0))*(integral(13*sin(x), x, 0, pi)))"
   ]
  },
  {
   "cell_type": "code",
   "execution_count": 84,
   "metadata": {},
   "outputs": [
    {
     "data": {
      "text/html": [
       "<html><script type=\"math/tex; mode=display\">\\newcommand{\\Bold}[1]{\\mathbf{#1}}-4 \\, x + 5</script></html>"
      ],
      "text/plain": [
       "-4*x + 5"
      ]
     },
     "metadata": {},
     "output_type": "display_data"
    },
    {
     "data": {
      "text/html": [
       "<html><script type=\"math/tex; mode=display\">\\newcommand{\\Bold}[1]{\\mathbf{#1}}-3</script></html>"
      ],
      "text/plain": [
       "-3"
      ]
     },
     "metadata": {},
     "output_type": "display_data"
    }
   ],
   "source": [
    "f(x)=5-4*x\n",
    "show(f(x))\n",
    "show((1/4)*(integral(f(x), x, 0, 4)))\n"
   ]
  },
  {
   "cell_type": "code",
   "execution_count": 85,
   "metadata": {},
   "outputs": [
    {
     "data": {
      "text/html": [
       "<html><script type=\"math/tex; mode=display\">\\newcommand{\\Bold}[1]{\\mathbf{#1}}1</script></html>"
      ],
      "text/plain": [
       "1"
      ]
     },
     "metadata": {},
     "output_type": "display_data"
    }
   ],
   "source": [
    "show(integral(abs(x), x, -1, 1))"
   ]
  }
 ],
 "metadata": {
  "kernelspec": {
   "display_name": "SageMath 8.4",
   "language": "",
   "name": "sagemath"
  },
  "language_info": {
   "codemirror_mode": {
    "name": "ipython",
    "version": 2
   },
   "file_extension": ".py",
   "mimetype": "text/x-python",
   "name": "python",
   "nbconvert_exporter": "python",
   "pygments_lexer": "ipython2",
   "version": "2.7.15"
  }
 },
 "nbformat": 4,
 "nbformat_minor": 2
}
