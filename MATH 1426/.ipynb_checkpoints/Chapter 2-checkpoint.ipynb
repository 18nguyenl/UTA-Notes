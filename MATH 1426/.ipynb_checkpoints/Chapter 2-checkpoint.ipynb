{
 "cells": [
  {
   "cell_type": "markdown",
   "metadata": {},
   "source": [
    "# Limits\n"
   ]
  },
  {
   "cell_type": "markdown",
   "metadata": {},
   "source": [
    "## 2.1 The Idea of Limits"
   ]
  },
  {
   "cell_type": "markdown",
   "metadata": {},
   "source": [
    "### Average Velocity"
   ]
  },
  {
   "cell_type": "markdown",
   "metadata": {},
   "source": [
    "$$v_{av}=\\frac{s(t_1)-s(t_0)}{t_1-t_0}$$"
   ]
  },
  {
   "cell_type": "markdown",
   "metadata": {},
   "source": [
    "Given $s(t)$, the equation for some distance, this is how you calculate the average velocity for any time interval  $[t_0,t_1]$. "
   ]
  },
  {
   "cell_type": "markdown",
   "metadata": {},
   "source": [
    "#### Secant Line"
   ]
  },
  {
   "cell_type": "markdown",
   "metadata": {},
   "source": [
    "When you calculate the average velocity using these coordinates $(t_0, s(t_0))$ and $(t_1, s(t_1))$ in the $v_{av}$ equation, you get a ***secant line*** which is a line that connects 2 specific points on a graph.\n",
    "\n",
    "Slope of a secant line, $m_{sec}$ is = to $v_{av}$"
   ]
  },
  {
   "cell_type": "code",
   "execution_count": 10,
   "metadata": {},
   "outputs": [],
   "source": [
    "#I'm going to add plots here later using a python plot.ly and other math libraries to let me put in quadratics"
   ]
  },
  {
   "cell_type": "markdown",
   "metadata": {},
   "source": [
    "### Instantaneous Velocity"
   ]
  },
  {
   "cell_type": "markdown",
   "metadata": {},
   "source": [
    "The instantaneous velocity is the velocity of something at a singple point in time. You calculate this by computing multiple average velocities on intervals $[t_0, t_1]$ that get smaller and smaller. As $t_1$ approaches $t_0$, it eventually reaches the **limit**, the instantaneous velocity."
   ]
  },
  {
   "cell_type": "markdown",
   "metadata": {},
   "source": [
    "| Time interval | Average Velocity |\n",
    "| ---| --- |\n",
    "| [1,2] | 48 ft/s |\n",
    "| [1,1.5] | 56 ft/s |\n",
    "| [1,1.1] | 62.4 ft/s |\n",
    "| [1,1.01] | 63.84 ft/s |\n",
    "| [1,1.001] | 63.984 ft/s |\n",
    "| [1, 1.001] | 63.9984 ft/s |"
   ]
  },
  {
   "cell_type": "markdown",
   "metadata": {},
   "source": [
    "Note how in this graph, as the intervals get smaller, it seems to approach to 64 ft/s. Considering that there are multiple values that are close to 64 ft/s, it's reasonable to assume that this is the instantaneous velocity. "
   ]
  },
  {
   "cell_type": "markdown",
   "metadata": {},
   "source": [
    "$$v_{inst}=\\lim_{t\\rightarrow1}v_{av}=\\lim_{t\\rightarrow1}\\frac{s(t_1)-s(t_0)}{t-1}$$"
   ]
  },
  {
   "cell_type": "markdown",
   "metadata": {},
   "source": [
    "#### Tangent Line"
   ]
  },
  {
   "cell_type": "markdown",
   "metadata": {},
   "source": [
    "Following the example where $t_1$ approaches $t_0$, the secant line approaches the ***tangent line***. The secant line becomes a tangent line when the secant line touches 1 single point on the function. Consequently, the $m_{sec}$ is = to the $m_{tan}$.\n",
    "\n",
    "Slope of a tangent line = $m_{tan}$ = $v_{inst}$"
   ]
  },
  {
   "cell_type": "markdown",
   "metadata": {},
   "source": [
    "# 2.2 Definitions of Limits"
   ]
  },
  {
   "cell_type": "markdown",
   "metadata": {},
   "source": [
    "> Say that there's a function $f$ that's defined for all $x$'s near $a$ where $a$ may or may not exist. If $f(x)$ is close to $L$ for all $x$ decently close (but not equal) to $a$, we write\n",
    "> $$\\lim_{x\\rightarrow a}f(x)=L$$\n",
    "> and say the limit of $f(x)$ as $x$ approaches $a$ equals $L$"
   ]
  },
  {
   "cell_type": "markdown",
   "metadata": {},
   "source": [
    "Informally, we'll say that $\\lim_{x\\rightarrow a}f(x)=L$ if $f(x)$ gets closer and closer to $L$ as $x$ gets closer and closer to $a$ from both sides. The values of $\\lim_{x\\rightarrow a}f(x)=L$ rely on the values of $f$ near $a$, but that doesn't mean it relies on the actual $f(a)$. Meaning sometimes $\\lim_{x\\rightarrow a}f(x)=L$ could equal $f(a)$ or be different (sometimes $f(a)$ may not even exist)"
   ]
  },
  {
   "cell_type": "markdown",
   "metadata": {},
   "source": [
    "## One-Sided Limits"
   ]
  },
  {
   "cell_type": "markdown",
   "metadata": {},
   "source": [
    "The limit $\\lim_{x\\rightarrow a}f(x)=L$ is referred as a *two-sided* limit because $f(x)$ approaches $L$ as $x$ approaches $a$ for values $x$ is greater and less than a."
   ]
  },
  {
   "cell_type": "markdown",
   "metadata": {},
   "source": [
    "### Right-Sided Limits"
   ]
  },
  {
   "cell_type": "markdown",
   "metadata": {},
   "source": [
    "> Assuming $f$ is defined for all $x$ near $a$ where $x>a$. If $f(x)$ approaches $L$ close enough where the values are similar like in the table when $x>a$, we write\n",
    "> $$\\lim_{x\\rightarrow a^+}f(x)=L$$\n",
    "> and say the limit of $f(x)$ as $x$ approaches $a$ from the right equals $L$."
   ]
  },
  {
   "cell_type": "markdown",
   "metadata": {},
   "source": [
    "### Left-Sided Limits"
   ]
  },
  {
   "cell_type": "markdown",
   "metadata": {},
   "source": [
    "> Assuming $f$ is defined for all $x$ near $a$ where $x<a$. If $f(x)$ approaches $L$ close enough where the values are similar like in the table when $x<a$, we write\n",
    "> $$\\lim_{x\\rightarrow a^-}f(x)=L$$\n",
    "> and say the limit of $f(x)$ as $x$ approaches $a$ from the right equals $L$."
   ]
  },
  {
   "cell_type": "markdown",
   "metadata": {},
   "source": [
    "## Relationship Between One-Sided and Two-Sided Limits"
   ]
  },
  {
   "cell_type": "markdown",
   "metadata": {},
   "source": [
    "#### Therem 2.1 Relationship Between ONe-Sided and Two-Sided Limits\n",
    "> Say that there's a function $f$ that's defined for all $x$'s near $a$ where $a$ may or may not exist. Then $\\lim_{x\\rightarrow a}f(x)=L$ if and only if $\\lim_{x\\rightarrow a^+}f(x)=L$ and $\\lim_{x\\rightarrow a^-}f(x)=L$\n",
    "> $$\\lim_{x\\rightarrow a^-}f(x)=\\lim_{x\\rightarrow a^+}f(x)=\\lim_{x\\rightarrow a}f(x)=L$$"
   ]
  },
  {
   "cell_type": "markdown",
   "metadata": {},
   "source": [
    "# 2.3 Techniques for Computing Limits"
   ]
  },
  {
   "cell_type": "markdown",
   "metadata": {},
   "source": [
    "The methods we used before were estimations and therefore sometimes incorrect. In this section, we're going to learn precies methods for calculating limits."
   ]
  },
  {
   "cell_type": "markdown",
   "metadata": {},
   "source": [
    "## Limits of Linear Functions"
   ]
  },
  {
   "cell_type": "markdown",
   "metadata": {},
   "source": [
    "Linear functions follow the form $y=mx+b$ and because it's a straight line that goes infinitely (meaning all points exist, no holes, no weird stuff), the limit for $L$ can be found by plugging $a$ into $f(x)$.\n",
    "$$\\lim_{x\\rightarrow a}f(x)=f(a)$$"
   ]
  },
  {
   "cell_type": "markdown",
   "metadata": {},
   "source": [
    "#### Theorem 2.2 Limits of Linear Functions\n",
    ">Let $a$,$b$, and $m$ be $\\mathbb{R}$. For linear functions $f(x)=mx+b$\n",
    "> $$\\lim_{x\\rightarrow a}f(x)=f(a) = ma + b$$"
   ]
  },
  {
   "cell_type": "markdown",
   "metadata": {},
   "source": [
    "## Limit Laws"
   ]
  },
  {
   "cell_type": "markdown",
   "metadata": {},
   "source": [
    "Think of these as \"tricks\" you can use when working with limits"
   ]
  },
  {
   "cell_type": "markdown",
   "metadata": {},
   "source": [
    "#### Theorem 2.3 Limit Laws\n",
    "> Assume $\\displaystyle\\lim{x\\rightarrow a}f(x)$ and $\\displaystyle\\lim{x\\rightarrow a}g(x)$ exist, the following properties hold where $c$ is a real number, and $n>0$ is an $\\mathbb{z}$ (integer)\n",
    "> 1. **Sum** $\\displaystyle{\\lim_{x\\rightarrow a}(f(x)+g(x)=\\lim_{x\\rightarrow a}f(x)+\\lim_{x\\rightarrow a}g(x)}$\n",
    "> 2. **Differene** $\\displaystyle{\\lim_{x\\rightarrow a}(f(x)-g(x))=\\lim_{x\\rightarrow a}f(x)-\\lim_{x\\rightarrow a}g(x)}$\n",
    "> 3. **Constant multiple** $\\displaystyle{\\lim_{x\\rightarrow a}(cf(x))=c\\lim_{x\\rightarrow a}f(x)}$\n",
    "> 4. **Product** $\\displaystyle{\\lim_{x\\rightarrow a}(f(x)g(x))=\\left(\\lim_{x\\rightarrow a}f(x)\\right)\\left(\\lim_{x\\rightarrow a}g(x)\\right)}$\n",
    "> 5. **Quotient** $\\displaystyle{\\lim_{x\\rightarrow a}\\left(\\frac{f(x)}{g(x)}\\right)=\\frac{\\displaystyle\\lim_{x\\rightarrow a}f(x)}{\\displaystyle\\lim_{x\\rightarrow a}g(x)}}$\n",
    "> 6. **Power** $\\displaystyle{\\lim_{x\\rightarrow a}(f(x))^n=\\left(\\lim_{x\\rightarrow a}f(x)\\right)^n}$\n",
    "> 7. **Root** $\\displaystyle{\\lim_{x\\rightarrow a}(f(x))^{1/n}=\\left(\\lim_{x\\rightarrow a}f(x)\\right)^{1/n}}$, provided $f(x)>0$, for $x$ near $a$, if $n$ is even"
   ]
  },
  {
   "cell_type": "markdown",
   "metadata": {},
   "source": [
    "## Limits of Polynomial and Rational Functions"
   ]
  },
  {
   "cell_type": "markdown",
   "metadata": {},
   "source": [
    "Similar to limits of linear functions, polynomials also extend infinitely and exist everywhere. Meaning as $x$ approaches $a$ anywhere, there will be a value. Like linear functions, we can figure this value out by plug n' chug."
   ]
  },
  {
   "cell_type": "markdown",
   "metadata": {},
   "source": [
    "#### Theorem 2.4 Limits of Polynomial and Rational Functions\n",
    "> Assume $p$ and $q$ are polynomials and $a$ is a constant.\n",
    ">\n",
    "> a. **Polynomial functions:** $\\displaystyle\\lim_{x\\rightarrow a}p(x)=p(a)$\n",
    ">\n",
    "> b. **Rational functions:** $\\displaystyle\\lim_{x\\rightarrow a}\\frac{p(x)}{q(x)}=\\frac{p(a)}{q(a)}$, provided $q(a)\\neq0$"
   ]
  },
  {
   "cell_type": "code",
   "execution_count": null,
   "metadata": {},
   "outputs": [],
   "source": []
  }
 ],
 "metadata": {
  "kernelspec": {
   "display_name": "Python 3",
   "language": "python",
   "name": "python3"
  },
  "language_info": {
   "codemirror_mode": {
    "name": "ipython",
    "version": 3
   },
   "file_extension": ".py",
   "mimetype": "text/x-python",
   "name": "python",
   "nbconvert_exporter": "python",
   "pygments_lexer": "ipython3",
   "version": "3.6.5"
  }
 },
 "nbformat": 4,
 "nbformat_minor": 2
}
