{
 "cells": [
  {
   "cell_type": "markdown",
   "metadata": {},
   "source": [
    "# Aggregate Types"
   ]
  },
  {
   "cell_type": "markdown",
   "metadata": {},
   "source": [
    "# Structure\n",
    "* can concurrently hold multiple data values of diff types"
   ]
  },
  {
   "cell_type": "code",
   "execution_count": 4,
   "metadata": {},
   "outputs": [],
   "source": [
    "#include <stdio.h>\n",
    "\n",
    "int main(void) {\n",
    "    \n",
    "    // This is how you name and define a \"struct\" using the \"struct\" keyword\n",
    "    struct tshirt\n",
    "    {\n",
    "        char size[5];\n",
    "        char color[10];\n",
    "        char design[100];\n",
    "        char fittype;\n",
    "        float price;\n",
    "        int inventory_level;\n",
    "    };\n",
    "    \n",
    "    // You can use it like an user-defined type and declare variables normally\n",
    "    struct tshirt MyTShirts;\n",
    "    struct tshirt YourTShirts;\n",
    "    struct tshirt TheirTShirts;\n",
    "    struct tshirt OurTShirts;\n",
    "    struct tshirt NobodysTShirts;\n",
    "    \n",
    "    return 0;\n",
    "}"
   ]
  },
  {
   "cell_type": "markdown",
   "metadata": {},
   "source": [
    "## Initializing Structures"
   ]
  },
  {
   "cell_type": "code",
   "execution_count": 3,
   "metadata": {},
   "outputs": [],
   "source": [
    "#include <stdio.h>\n",
    "\n",
    "int main(void) {\n",
    "    struct tshirt\n",
    "    {\n",
    "        char size[5];\n",
    "        char color[10];\n",
    "        char design[100];\n",
    "        char fittype;\n",
    "        float price;\n",
    "        int inventory_level;\n",
    "    };\n",
    "    \n",
    "    // You can initialize values at the same time a struct is declared\n",
    "    struct tshirt NobodysTShirts;\n",
    "    struct tshirt YourTShirts = {};\n",
    "    struct tshirt TheirTShirts = {\"S\"};\n",
    "    struct tshirt OurTShirts = {\"\",\"GREEN\"};\n",
    "    struct tshirt MyTShirts = {\"XS\", \"BLUE\", \"DISNEY\", 'Y', 14.99, 1987};\n",
    "    \n",
    "    return 0;\n",
    "}"
   ]
  },
  {
   "cell_type": "markdown",
   "metadata": {},
   "source": [
    "## Other Syntax for Declaring and Defining Variables for Structures"
   ]
  },
  {
   "cell_type": "code",
   "execution_count": 5,
   "metadata": {},
   "outputs": [],
   "source": [
    "#include <stdio.h>\n",
    "\n",
    "int main(void) {\n",
    "    struct tshirt1\n",
    "    {\n",
    "        char size[5];\n",
    "        char color[10];\n",
    "        char design[100];\n",
    "        char fittype;\n",
    "        float price;\n",
    "        int inventory_level;\n",
    "    };\n",
    "    \n",
    "    // You can define struct variables like this\n",
    "    struct tshirt1 MyTShirts, YourTShirts;\n",
    "    \n",
    "    // How to do the above in shorthand\n",
    "    struct tshirt2\n",
    "    {\n",
    "        char size[5];\n",
    "        char color[10];\n",
    "        char design[100];\n",
    "        char fittype;\n",
    "        float price;\n",
    "        int inventory_level;\n",
    "    }\n",
    "    TheirTShirts, OurTShirts;\n",
    "    return 0;\n",
    "}"
   ]
  },
  {
   "cell_type": "markdown",
   "metadata": {},
   "source": [
    "## One time use structures"
   ]
  },
  {
   "cell_type": "markdown",
   "metadata": {},
   "source": [
    "The above examples have a name `tshirt` applied to the structure. This makes a structure reusable. Without the name, you can only define and use the structure once.\n",
    "```C\n",
    "struct {\n",
    "    char size[5];\n",
    "    char color[10];\n",
    "    char design[100];\n",
    "    char fittype;\n",
    "    float price;\n",
    "    int inventory_level;\n",
    "}\n",
    "TheirTShirts, OurTShirts;\n",
    "```\n",
    "The above example creates a 1 time use struct that's immediately stored into `TheirTShirts` and `OurTShirts`"
   ]
  },
  {
   "cell_type": "markdown",
   "metadata": {},
   "source": [
    "## Restrictions on a structure"
   ]
  },
  {
   "cell_type": "markdown",
   "metadata": {},
   "source": [
    "* a member of a strucutre cannot be a function\n",
    "* a structure can't nest a structure of its own type \n",
    " * you can't nest a `tshirt` inside a `tshirt` structure"
   ]
  },
  {
   "cell_type": "markdown",
   "metadata": {},
   "source": [
    "# Operations of a Structure"
   ]
  },
  {
   "cell_type": "code",
   "execution_count": 10,
   "metadata": {},
   "outputs": [
    {
     "name": "stdout",
     "output_type": "stream",
     "text": [
      "M\n",
      "Red\n",
      "Marvel\n",
      "Y\n",
      "15.750000\n",
      "250\n"
     ]
    }
   ],
   "source": [
    "#include <stdio.h>\n",
    "\n",
    "int main(void) {\n",
    "    struct tshirt\n",
    "    {\n",
    "        char size[5];\n",
    "        char color[10];\n",
    "        char design[100];\n",
    "        char fittype;\n",
    "        float price;\n",
    "        int inventory_level;\n",
    "    };\n",
    "    \n",
    "    // Setting values to structure\n",
    "    struct tshirt MyTShirts = {\"M\", \"Red\", \"Marvel\", 'Y', 15.75, 250};    \n",
    "    \n",
    "    /*\n",
    "    You cannot do this \n",
    "    MyTShirts = {\"M\", \"Red\", \"Marvel\", \"Y\", 15.75, 250}; \n",
    "    */\n",
    "    \n",
    "    /* \n",
    "    You cannot assign values like this\n",
    "    MyTShirts.size = \"M\";\n",
    "    MyTShirts.color = \"Red\";\n",
    "    MyTShirts.design = \"Marvel\";\n",
    "    MyTShirts.fittype = \"Y\";\n",
    "    MyTShirts.price = 15.75;\n",
    "    MyTShirts.inventory_level = 250;\n",
    "    */\n",
    "    \n",
    "    // Accessing structure content\n",
    "    printf(\"%s\\n\", MyTShirts.size);\n",
    "    printf(\"%s\\n\", MyTShirts.color);\n",
    "    printf(\"%s\\n\", MyTShirts.design);\n",
    "    printf(\"%c\\n\", MyTShirts.fittype);\n",
    "    printf(\"%f\\n\", MyTShirts.price);\n",
    "    printf(\"%d\\n\", MyTShirts.inventory_level);\n",
    "    \n",
    "    return 0;\n",
    "}"
   ]
  },
  {
   "cell_type": "markdown",
   "metadata": {},
   "source": [
    "* very few operations operate on structures as a whole\n",
    "* the selection operator, `.`, access a single member\n",
    "* the assignment operator, `=`, assigns content from 1 structure to another\n",
    " * a `struct` can only be assigned another `struct`\n",
    "* the address operator, `&`, can be used w/ a structure variable in most interfaces \n",
    "* `sizeof()` operator is defined for `struct`"
   ]
  },
  {
   "cell_type": "markdown",
   "metadata": {},
   "source": [
    "## sizeof() on Structures"
   ]
  },
  {
   "cell_type": "markdown",
   "metadata": {},
   "source": [
    "Even if you don't use all the allocated space of a structure or array in a structure, a structure will allocate as much space as it needs to contain the maximum values of all the members"
   ]
  },
  {
   "cell_type": "markdown",
   "metadata": {},
   "source": [
    "# Arrays of Structures\n",
    "Super straightforward. Each cell of the array has a structure. You can access and use these by combining the `[]` and `.` operators."
   ]
  },
  {
   "cell_type": "markdown",
   "metadata": {},
   "source": [
    "# Pointers to Structures"
   ]
  },
  {
   "cell_type": "code",
   "execution_count": 7,
   "metadata": {},
   "outputs": [
    {
     "name": "stdout",
     "output_type": "stream",
     "text": [
      "DCComicsTShirts[3].design\tAQUAMAN\n",
      "*(tshirtarrayptr).design\tAQUAMAN\n",
      "\n",
      "tshirtarrayptr->design\tAQUAMAN\n"
     ]
    }
   ],
   "source": [
    "#include <stdio.h>\n",
    "\n",
    "int main(void) {\n",
    "    struct tshirt\n",
    "    {\n",
    "        char size[5];\n",
    "        char color[10];\n",
    "        char design[100];\n",
    "        char fittype;\n",
    "        float price;\n",
    "        int inventory_level;\n",
    "    };\n",
    "    \n",
    "    struct tshirt DCComicsTShirts[5] = {{\"XS\",\"BLACK\",\"BATMAN\",'Y',12.99,198},\n",
    "                                        {\"S\",\"BLUE\",\"SUPERMAN\",'M',24.99,34},\n",
    "                                        {\"M\",\"RED\",\"WONDER WOMAN\",'W',27.99,87},\n",
    "                                        {\"L\",\"YELLOW\",\"AQUAMAN\",'M',26.99,65},\n",
    "                                        {\"XL\",\"GREEN\",\"GREEN LANTERN\",'Y',15.99,81}\n",
    "                                       };\n",
    "    struct tshirt *tshirtarrayptr;\n",
    "    tshirtarrayptr = &DCComicsTShirts[3];\n",
    "    \n",
    "    // () needed because \".\" operator has more precedence than \"()\"\n",
    "    printf(\"DCComicsTShirts[3].design\\t%s\\n\", DCComicsTShirts[3].design);\n",
    "    printf(\"*(tshirtarrayptr).design\\t%s\\n\", (*tshirtarrayptr).design);\n",
    "    \n",
    "    // (*structure).member == structure->member\n",
    "    printf(\"\\ntshirtarrayptr->design\\t%s\\n\", tshirtarrayptr->design);\n",
    "\n",
    "    return 0;\n",
    "}"
   ]
  }
 ],
 "metadata": {
  "kernelspec": {
   "display_name": "C",
   "language": "c",
   "name": "c"
  },
  "language_info": {
   "file_extension": ".c",
   "mimetype": "text/plain",
   "name": "c"
  }
 },
 "nbformat": 4,
 "nbformat_minor": 2
}
