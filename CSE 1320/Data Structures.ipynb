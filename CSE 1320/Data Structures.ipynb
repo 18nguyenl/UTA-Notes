{
 "cells": [
  {
   "cell_type": "markdown",
   "metadata": {},
   "source": [
    "# Linked List"
   ]
  },
  {
   "cell_type": "markdown",
   "metadata": {},
   "source": [
    "* linked list is linear data structure consisting og groups of nodes in a sequence\n",
    "* each node holds its own data and address of next node\n",
    "  * this forms chain-like structure\n",
    "  \n",
    "| Advantages                                                  | Disadvantages                                             |\n",
    "|-------------------------------------------------------------|-----------------------------------------------------------|\n",
    "| Dynamic; therefore, only allocate memory when required      | Memory is wasted due to extra storage needed for pointers |\n",
    "| Insertion and deletion operations can easily be implemented | No element can be accessed randomly - sequential access   |\n",
    "| Stacks and queues can be easily executed                    |                                                           |\n",
    "\n",
    "![Single Linked List](Images/Data Structures/Single_Linked_List.png)\n",
    "![Double Linked List](Images/Data Structures/Double_Linked_List.png)\n",
    "![Circular Linked List](Images/Data Structures/Circular_Linked_List.png)"
   ]
  },
  {
   "cell_type": "code",
   "execution_count": null,
   "metadata": {},
   "outputs": [],
   "source": []
  }
 ],
 "metadata": {
  "kernelspec": {
   "display_name": "C",
   "language": "c",
   "name": "c"
  },
  "language_info": {
   "file_extension": ".c",
   "mimetype": "text/plain",
   "name": "c"
  }
 },
 "nbformat": 4,
 "nbformat_minor": 2
}
