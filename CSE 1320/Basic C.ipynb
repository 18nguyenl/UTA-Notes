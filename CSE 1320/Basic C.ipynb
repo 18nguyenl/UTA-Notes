{
 "cells": [
  {
   "cell_type": "markdown",
   "metadata": {},
   "source": [
    "# Character Variables"
   ]
  },
  {
   "cell_type": "markdown",
   "metadata": {},
   "source": [
    "## ASCII Character Set\n",
    "* 1288 chars.\n",
    "* each char has integer val btwn. 0 and 127\n",
    "* C provides int type `char` to rep. chars.\n",
    "* `char` is stored in one byte of memory\n",
    "* works like Java when it comes to `int` and `char` relationships\n",
    " * `char` can be treated as an `int` depending on context"
   ]
  },
  {
   "cell_type": "markdown",
   "metadata": {},
   "source": [
    "## Unsigned Types"
   ]
  },
  {
   "cell_type": "markdown",
   "metadata": {},
   "source": [
    "### Signed Types\n",
    "* `short`\n",
    "* `int`\n",
    "* `long`\n",
    "\n",
    "### `unsigned` keyword\n",
    "* `unsigned short`\n",
    "* `unsigned int`\n",
    "* `unsigned long`\n",
    "* removes negative values in original signed types to increase the range for unsigned values\n",
    "* adding 1 to unsigned types at maximum loops it back to 0\n",
    "\n",
    "### `sizeof()`\n",
    "* sizeof() signed types is the same as unsigned"
   ]
  },
  {
   "cell_type": "markdown",
   "metadata": {},
   "source": [
    "## ANSI C and Integer Types"
   ]
  },
  {
   "cell_type": "markdown",
   "metadata": {},
   "source": [
    "* there's a file called \"limits.h\" that determines the max and min ranges for many things."
   ]
  },
  {
   "cell_type": "markdown",
   "metadata": {},
   "source": [
    "## printf() - field width specifier"
   ]
  },
  {
   "cell_type": "markdown",
   "metadata": {},
   "source": [
    "### field width\n",
    "* optional\n",
    "* decimal int const. spec. min. field width.\n",
    "* output will be right justified "
   ]
  },
  {
   "cell_type": "markdown",
   "metadata": {},
   "source": [
    "## Floating POint Types"
   ]
  },
  {
   "cell_type": "markdown",
   "metadata": {},
   "source": [
    "### Keywords\n",
    "* `float` - singple precision\n",
    "* `double` - doulbe precision\n",
    "* `long double` - extra precision\n",
    "* `float.h` determines the limits of each type"
   ]
  },
  {
   "cell_type": "markdown",
   "metadata": {},
   "source": [
    "# Introduction to the C Library"
   ]
  },
  {
   "cell_type": "markdown",
   "metadata": {},
   "source": [
    "* a library is a collection of function that can easily be used in different programs\n",
    "* standard library defined by ANSI includes functions on:\n",
    "* file handling  \n",
    "• formatted input and output  \n",
    "• character input and output  \n",
    "• block input and output  \n",
    "• error handling and diagnostic function  \n",
    "• character testing  \n",
    "• string handling  \n",
    "• mathematical functions  \n",
    "• general utility functions  \n",
    "• date and time functions  "
   ]
  },
  {
   "cell_type": "markdown",
   "metadata": {},
   "source": [
    "## ANSI\n",
    "* **ANSI C**, **ISO C**, and **Standard C** refer to successive standards for C programming language\n",
    "  * published by American National Standards Institute and International Organization for Standardization \n",
    "  * historically, names referred specifically to original and best-supported version of standard (known as **C89** or **C90**)\n",
    "  * software devs writing in C are encouraged to conform to standards  \n",
    "    * helps portablility between compilers"
   ]
  },
  {
   "cell_type": "markdown",
   "metadata": {},
   "source": [
    "## Using Mathematical Functions\n",
    "* most math functions return type `double`\n",
    "* must include `<math.h>`\n",
    "* Omega requries math library be explicity linked (unless compiler optimizes out the call to the math library function) object code"
   ]
  },
  {
   "cell_type": "markdown",
   "metadata": {},
   "source": [
    "## Error Handling with the Mathematical Functions\n",
    "* when error occurs in math function, external variable `errno` is set to indicate spcific error\n",
    "  * must include `errno.h` to access `errno`\n",
    "* primarily 2 types of errors\n",
    "  * when parametr passed to math function not in domain of that function\n",
    "    * example: giving `sqrt()` a negative value \n",
    "      * `errno` would be set to `EDOM` to indicate domain error\n",
    "  * when calculated, value to large for computer to handle\n",
    "    * example: using `pow(x, y)` to calculate large value\n",
    "      * `pow()` would return value of `HUGE_VAL` and `errno` would be set to `ERANGE`\n",
    "### perror(char string)\n",
    "* will display the string follwowed by a colon, a space and an error message"
   ]
  },
  {
   "cell_type": "code",
   "execution_count": 4,
   "metadata": {},
   "outputs": [
    {
     "name": "stderr",
     "output_type": "stream",
     "text": [
      "/tmp/tmpn3igamle.out: symbol lookup error: /tmp/tmp8dlfm25f.out: undefined symbol: pow\n",
      "[C kernel] Executable exited with code 127"
     ]
    }
   ],
   "source": [
    "/* errno Demo */\n",
    "#include <stdio.h>\n",
    "#include <math.h>\n",
    "#include <string.h>\n",
    "#include <errno.h>\n",
    "\n",
    "int main(void)\n",
    "{\n",
    "\tdouble result, base, exponent, square;\n",
    "\t\n",
    "\tbase = 2;\n",
    "\t\n",
    "\tbase = 4;\n",
    "\t\n",
    "\tresult = pow(base, exponent);\n",
    "\t\n",
    "\tif (errno)\n",
    "\t{\n",
    "\t\tperror(\"errno returned \");\n",
    "\t\terrno = 0;\n",
    "\t}\n",
    "\telse\n",
    "\t{\n",
    "\t\tprintf(\"\\n\\n%.0f to the power of %.0f is %.0f\\n\\n\", base, exponent, result);\n",
    "\t}\n",
    "\n",
    "\tprintf(\"\\n\\nEnter a value for sqrt() \");\n",
    "\tscanf(\"%lf\", &square);\n",
    "\t\n",
    "\tresult = sqrt(square);\n",
    "\n",
    "\tif (errno)\n",
    "\t{\n",
    "\t\tperror(\"errno returned \");\n",
    "\t\terrno = 0;\n",
    "\t}\n",
    "\telse\n",
    "\t{\n",
    "\t\tprintf(\"\\n\\nThe square root of %.0f is %.0f\\n\\n\", square, result);\n",
    "\t}\n",
    "\t\n",
    "\t\n",
    "\treturn 0;\n",
    "}"
   ]
  },
  {
   "cell_type": "markdown",
   "metadata": {},
   "source": [
    "## time.h\n",
    "* functions that allow program to know current date and time\n",
    "`time()`  \n",
    "* measurement of current time  \n",
    "`ctime()`  \n",
    "* accepts address of value return by `time()` & returns string w/ date in readable format\n",
    "`localtime()`  \n",
    "* accepts address of value returned by `time()` and return a `struct` w/ date broken into its components"
   ]
  },
  {
   "cell_type": "code",
   "execution_count": 8,
   "metadata": {},
   "outputs": [],
   "source": [
    "/* time1 Demo */\n",
    "#include <stdio.h>\n",
    "#include <time.h>\n",
    "\n",
    "int main(void)\n",
    "{\n",
    "    // declaring a variable of type time_t\n",
    "\ttime_t TimetVar1, TimetVar2;\n",
    "\t\n",
    "    // address of variable type time_t. Current calendar time returned in timePtr\n",
    "\tTimetVar1 =  time((time_t *)0);\n",
    "\ttime(&TimetVar2);\n",
    "\t\n",
    "\treturn 0;\n",
    "}"
   ]
  },
  {
   "cell_type": "markdown",
   "metadata": {},
   "source": [
    "## epoch\n",
    "* Unix time (also known as POSIX time or UNIX **Epoch** time)\n",
    "  * system for describing a point in time, defined as num of seconds that have elapsed since\n",
    "  00:00:00 Coordinated Universal Time (UTC), Thursday, 1 January 1970\n",
    "  minus the number of leap seconds that have taken place since then"
   ]
  },
  {
   "cell_type": "markdown",
   "metadata": {},
   "source": [
    "## About UNIX Time and Date\n",
    "* early versions of UNIX measure system time in 1/60th s intervals\n",
    "  * meant 32-bit `uint` could only represent a span of time < 829 days\n",
    "* for this reason, time is represented by number 0 (called the *epoch*) had to be set in very recent past\n",
    "  * this was early 1970s\n",
    "  * the epoch was set to 1971-1-1\n",
    "* Later system time changed to increment every second, which increased span of time that could be represented w/ 32-bit `uint` to around 136 years\n",
    "  * since it no longer important to sqeeze every second out of counter, counter was rounded down the nearest decade becoming 1970-1-1\n",
    "* one must assume this was considered a bit neater than 1971-1-1\n",
    "* note that 32-bit *signed* integer using 1970-1-1 as its epoch can reprsent dates up to 2038-1-19 on which date it will wrap around to 1901-12-13"
   ]
  },
  {
   "cell_type": "markdown",
   "metadata": {},
   "source": [
    "## ctime()\n",
    "* accepts address of value returned by `time()` & returns a string w/ date in readable format\n",
    "```C\n",
    "time_t TimeVar;\n",
    "char *TimeDAteString;\n",
    "time(&TimeVar);\n",
    "\n",
    "```\n",
    "\n",
    "## localtime()\n",
    "\n",
    "## clock()\n",
    "* returns mreasure of processor time used by program since beginning of executiong\n",
    "```C\n",
    "clock_t ProcessorTime;\n",
    "ProcessorTime = clock();\n",
    "\n",
    "```\n",
    "\n"
   ]
  }
 ],
 "metadata": {
  "kernelspec": {
   "display_name": "C",
   "language": "c",
   "name": "c"
  },
  "language_info": {
   "file_extension": ".c",
   "mimetype": "text/plain",
   "name": "c"
  }
 },
 "nbformat": 4,
 "nbformat_minor": 2
}
