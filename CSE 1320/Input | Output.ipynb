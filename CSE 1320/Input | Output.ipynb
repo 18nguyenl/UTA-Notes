{
 "cells": [
  {
   "cell_type": "markdown",
   "metadata": {},
   "source": [
    "# File Input and Output"
   ]
  },
  {
   "cell_type": "markdown",
   "metadata": {},
   "source": [
    "* storage of data in mem is tmp\n",
    "* files are used for *data persistence*\n",
    "  * paremenant retention of data\n",
    "* computers store files on secondary stoarge devices like:\n",
    "  * hard disks\n",
    "  * CDs\n",
    "  * DVDs\n",
    "  * flash drives\n",
    "  * tapes\n",
    "* C no impose structure on a file\n",
    "  * file just sequence of data\n",
    "* concept of a record in a file not exist\n",
    "* application using file imposes structure/record on file  \n",
    "Example:\n",
    "* Word doc just a sequence of data \n",
    "  * Word knows how to interpret, display, & manipulate that data\n",
    "* C views ea. file simply as sequence of bytes\n",
    "* ea. file ends w/ either *end-of-file* (EOF) or at spcific byte num recorded in an operatin-system-maintainted administrative database\n",
    "* when file open, a file handle is associated w/ that file & is used by C program to refer to file"
   ]
  },
  {
   "cell_type": "markdown",
   "metadata": {},
   "source": [
    "## Using Files\n",
    "* when file open for use in program, programmer must declare new var of type `FILE *`\n",
    "```C\n",
    "FILE *myfile, *yourfile;\n",
    "```"
   ]
  },
  {
   "cell_type": "markdown",
   "metadata": {},
   "source": [
    "## Definitino of FILE *\n",
    "```C\n",
    "type = struct _IO_FILE {\n",
    "    int _flags;\n",
    "    char *_IO_read_ptr;\n",
    "    char *_IO_read_end;\n",
    "    char *_IO_read_base;\n",
    "    char *_IO_write_base;\n",
    "    char *_IO_write_ptr;\n",
    "    char *_IO_write_end;\n",
    "    char *_IO_buf_base;\n",
    "    char *_IO_buf_end;\n",
    "    char *_IO_save_base;\n",
    "    char *_IO_backup_base;\n",
    "    char *_IO_save_end;\n",
    "    struct _IO_marker *_markers;\n",
    "    struct _IO_FILE *_chain;\n",
    "    int _fileno;\n",
    "    int _flags2;\n",
    "    __off_t _old_offset;\n",
    "    short unsigned int _cur_column;\n",
    "    signed char _vtable_offset;\n",
    "    char _shortbuf[1];\n",
    "    _IO_lock_t *_lock;\n",
    "    __off64_t _offset;\n",
    "    void *__pad1;\n",
    "    void *__pad2;\n",
    "    void *__pad3;\n",
    "    void *__pad4;\n",
    "    size_t __pad5;\n",
    "    int _mode;\n",
    "    char _unused2[20];\n",
    "} *\n",
    "```"
   ]
  },
  {
   "cell_type": "markdown",
   "metadata": {},
   "source": [
    "## Special File Handling Functionsd\n",
    "`myfile = fopen(\"filename\", \"mode\")`  \n",
    "* connect `FILE *` declarations w/ files on disk\n",
    "* makes a file avaible for use by program\n",
    "```C\n",
    "myfile = fopen(\"filename\", \"mode\");\n",
    "\n",
    "myFile = fopen(\"it.txt\", \"r\");\n",
    "```\n",
    "\n",
    "* we will refer `myfile` as file's handle or file handle\n",
    "`\"mode\"`  \n",
    "* determines whether file is open for reading, writing, or mix of both  \n",
    "\n",
    "| `\"mode\"` | description                                                |\n",
    "|----------|------------------------------------------------------------|\n",
    "| `\"r\"`    | open an existing file for reading only                     |\n",
    "| `\"w\"`    | open new file for writing only                             |\n",
    "| `\"a\"`    | open a file for appending (writing at the end of the file) |\n",
    "| `\"r+\"`   | open an exiting file for update (reading and writing)      |\n",
    "| `\"w+\"`   | open (create) a new file for update                        |\n",
    "| `\"a+\"`   | open a (new or existing) file for reading and appending    |"
   ]
  },
  {
   "cell_type": "markdown",
   "metadata": {},
   "source": [
    "## Formatted Input and Output\n",
    "`fscanf(fp, control_string, args, ...)`  \n",
    "`fprintf(fp, control_string, args, ...)`  \n",
    "\n",
    "| arguments        | description                                          |\n",
    "|------------------|------------------------------------------------------|\n",
    "| `fp`             | file handle (`FILE *`) -- associated w/ an open file |\n",
    "| `control_string` | conversion specifier                                 |\n",
    "| `args`           | argument to conversion specifier                     |"
   ]
  },
  {
   "cell_type": "markdown",
   "metadata": {},
   "source": [
    "`sscanf(buffer, control_string, args, ...)`  \n",
    "`sprintf(buffer, control_string, args, ...)`  \n",
    "\n",
    "| arguments        | description                      |\n",
    "|------------------|----------------------------------|\n",
    "| `buffer`         | buffer in memory                 |\n",
    "| `control_string` | conversion specifier             |\n",
    "| `args`           | argument to conversion specifier |\n",
    "\n"
   ]
  },
  {
   "cell_type": "markdown",
   "metadata": {},
   "source": [
    "## Error Detection w/ printf() and scanf() Families\n",
    "* `printf()` family will return `int` val indicating total num of char written by ea. particular call.\n",
    "* `scanf()` family will return `int` indicating num of conversions that were made which should match conversion spec in its control string\n",
    "* depending on crticality of the app, adding this level of error checking might not be worth the added complexity"
   ]
  },
  {
   "cell_type": "markdown",
   "metadata": {},
   "source": [
    "## More on File Handling\n",
    "* part of struct defined in `typedef FILE` is a val that traccks current pos in the file\n",
    "  * this called the ***file pointer***\n",
    "* file pointer moves as reads and writes are done"
   ]
  },
  {
   "cell_type": "markdown",
   "metadata": {},
   "source": [
    "## Two Types of Access\n",
    "### Sequential Access\n",
    "* when file opened, reading (or writing) starts at beginning of file and proceeds through file in sequential manner\n",
    "* when read done, the file pointer moves to point to next element in file to be read\n",
    "### Random Access\n",
    "* allows reading of records in any order"
   ]
  },
  {
   "cell_type": "markdown",
   "metadata": {},
   "source": [
    "## Random Access in Files\n",
    "* 2 library functions in standard C library help w/ random access of files\n",
    "`fseek(fp, offset, start)`  \n",
    "\n",
    "| arguments | description                                                                                     |\n",
    "|-----------|-------------------------------------------------------------------------------------------------|\n",
    "| `fp`      | file handle (`FILE *`) - associated w/ an open file                                             |\n",
    "| `offset`  | var of type `long` representing the byte offset or num of bytes that the pointer is to be moved |\n",
    "| `start`   | indicates the beginning position for the file pointer                                           |\n",
    "\n",
    "`ftell(fp)`  \n",
    "\n",
    "| arguments | description                                         |\n",
    "|-----------|-----------------------------------------------------|\n",
    "| `fp`      | file handle (`FILE *`) - associated w/ an open file |\n",
    "\n",
    "### Defines from stdio.h that can be used w/ file access\n",
    "```C\n",
    "#define SEEK_SET 0 /* Seek from beginning of file. */\n",
    "#define SEEK_CUR 1 /* Seek from current position. */\n",
    "#define SEEK_END 2 /* Seek from end of file. */\n",
    "```\n"
   ]
  }
 ],
 "metadata": {
  "kernelspec": {
   "display_name": "C",
   "language": "c",
   "name": "c"
  },
  "language_info": {
   "file_extension": ".c",
   "mimetype": "text/plain",
   "name": "c"
  }
 },
 "nbformat": 4,
 "nbformat_minor": 2
}
