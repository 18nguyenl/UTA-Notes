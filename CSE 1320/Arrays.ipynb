{
 "cells": [
  {
   "cell_type": "markdown",
   "metadata": {},
   "source": [
    "# Arrays"
   ]
  },
  {
   "cell_type": "markdown",
   "metadata": {},
   "source": [
    "When declaring an array, it sets aside memory large enough to store the amount of elements defined in the array.\n",
    "\n",
    "The first cell in the array is also the address of the array\n",
    "* Anywhere an array is not used without the `[]`, the array name evaluates to the address of the first cell in the array"
   ]
  },
  {
   "cell_type": "markdown",
   "metadata": {},
   "source": [
    "# Passing Arrays into Functions"
   ]
  },
  {
   "cell_type": "code",
   "execution_count": 37,
   "metadata": {},
   "outputs": [
    {
     "name": "stdout",
     "output_type": "stream",
     "text": [
      "Passing array references\n",
      "Array b contains: 0 1 2\n",
      "\n",
      "Passing array values\n",
      "Array c in the PassPointFunction contains: 1 2 3 \n",
      "Array c outside the function containscontains: 1 2 3\n",
      "\n"
     ]
    }
   ],
   "source": [
    "// Passing Array2 Demo\n",
    "#include <stdio.h>\n",
    "#include <limits.h>\n",
    "\n",
    "void PassArrayFunction(int a[], int b[])\n",
    "{\n",
    "    int i = 0;\n",
    "    for (i = 0; i < 3; i++) {\n",
    "        b[i] = a[i];\n",
    "    }\n",
    "\treturn;\n",
    "}\n",
    "\n",
    "void PassPointerFunction(int *a, int *b)\n",
    "{\n",
    "    int i = 0;\n",
    "    printf(\"Array c in the PassPointFunction contains: \");\n",
    "    for (i = 0; i < 3; i++) {\n",
    "        b[i] = a[i] + 1;\n",
    "        printf(\"%d \", b[i]);\n",
    "    }   \n",
    "    printf(\"\\n\");\n",
    "\treturn;\n",
    "}\n",
    "\n",
    "int main(void)\n",
    "{\n",
    "    // Passing Array Values\n",
    "    printf(\"Passing array references\\n\");\n",
    "    int a[3] = {0, 1, 2};\n",
    "    int b[3];\n",
    "    PassArrayFunction(a, b);\n",
    "    printf(\"Array b contains: %d %d %d\\n\\n\", b[0], b[1], b[2]);\n",
    "    \n",
    "    // Passing Pointer Values\n",
    "    int c[3];\n",
    "    printf(\"Passing array values\\n\");\n",
    "    PassPointerFunction(a, c);\n",
    "    printf(\"Array c outside the function containscontains: %d %d %d\\n\\n\", c[0], c[1], c[2]);\n",
    "\treturn 0;\n",
    "}\n"
   ]
  },
  {
   "cell_type": "code",
   "execution_count": null,
   "metadata": {},
   "outputs": [],
   "source": []
  }
 ],
 "metadata": {
  "kernelspec": {
   "display_name": "C",
   "language": "c",
   "name": "c"
  },
  "language_info": {
   "file_extension": ".c",
   "mimetype": "text/plain",
   "name": "c"
  }
 },
 "nbformat": 4,
 "nbformat_minor": 2
}
