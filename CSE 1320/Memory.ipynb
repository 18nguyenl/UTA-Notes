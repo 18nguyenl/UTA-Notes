{
 "cells": [
  {
   "cell_type": "markdown",
   "metadata": {},
   "source": [
    "# Memory"
   ]
  },
  {
   "cell_type": "markdown",
   "metadata": {},
   "source": [
    "![Memory Layout](Images/Memory/Memory_Layout.png)  "
   ]
  },
  {
   "cell_type": "markdown",
   "metadata": {},
   "source": [
    "## Heap Memory vs Stack Memory\n",
    "![Stack Vs. Heap](Images/Memory/Stack_Heap.png)\n",
    "* **Stack** is used for static memory allocation\n",
    "  * static var, strings, local var, function parameters\n",
    "  * faster than heap\n",
    "  * LIFO\n",
    "    * Last In First Out\n",
    "  * do not deallocate variables\n",
    "  * managed by CPU & won't become fragmented\n",
    "  * has predetermined size\n",
    "* **Heap** used for dynamic memory allocation\n",
    "  * `malloc(), calloc(), realloc(), free()`\n",
    "  * slower than stack\n",
    "  * random access\n",
    "  * must free allocated memory\n",
    "  * managed by programmer- can become fragmented\n",
    "  * size only limited by machine's memory\n",
    "* both stored in computer's RAM"
   ]
  },
  {
   "cell_type": "markdown",
   "metadata": {},
   "source": [
    "## Dynamic Allocation and De-Allocation of Memory\n",
    "* Functions for dynamic allocation and de-allocation of memory\n",
    "`malloc()`  \n",
    "`calloc()`  \n",
    "`realloc()`  \n",
    "`free()`  \n",
    "* must include `stdlib.h` to use these"
   ]
  },
  {
   "cell_type": "markdown",
   "metadata": {},
   "source": [
    "`void *malloc(size_t size)`\n",
    "* 1 parameter - the num bytes to allocate\n",
    "* return value - address of first byte in newly allocated buffer\n",
    "* mem allocated is **unintialized**"
   ]
  },
  {
   "cell_type": "code",
   "execution_count": 2,
   "metadata": {},
   "outputs": [],
   "source": [
    "#include <stdio.h>\n",
    "#include <stdlib.h>\n",
    "\n",
    "int main(void)\n",
    "{\n",
    "    int StackVar1;\n",
    "    int StackVar2 = 0;\n",
    "    int *HeapPtr1 = NULL;\n",
    "    int *HeapPtr2 = NULL;\n",
    "    HeapPtr1 = malloc(sizeof(int));\n",
    "    HeapPtr2 = malloc(sizeof(int));\n",
    "    return 0;\n",
    "}"
   ]
  },
  {
   "cell_type": "code",
   "execution_count": 4,
   "metadata": {},
   "outputs": [
    {
     "name": "stdout",
     "output_type": "stream",
     "text": [
      "StackVar1 = 0\n",
      "StackVar2 = 0\n",
      "HeapPtr1 = 0\n",
      "HeapPtr2 = 0\n",
      "HeapPtr1 = 100\n",
      "HeapPtr2 = 200\n"
     ]
    }
   ],
   "source": [
    "#include <stdio.h>\n",
    "#include <stdlib.h>\n",
    "\n",
    "int main(void)\n",
    "{\n",
    "    int StackVar1 = 0;\n",
    "    int StackVar2 = 0;\n",
    "    int *HeapPtr1 = NULL;\n",
    "    int *HeapPtr2 = NULL;\n",
    "    HeapPtr1 = malloc(sizeof(int));\n",
    "    HeapPtr2 = malloc(sizeof(int));\n",
    "    printf(\"StackVar1 = %d\\nStackVar2 = %d\"\n",
    "        \"\\nHeapPtr1 = %d\\nHeapPtr2 = %d\",\n",
    "        StackVar1, StackVar2,\n",
    "        *HeapPtr1, *HeapPtr2);\n",
    "    *HeapPtr1 = 100;\n",
    "    *HeapPtr2 = 200;\n",
    "    printf(\"\\nHeapPtr1 = %d\\nHeapPtr2 = %d\\n\",\n",
    "        *HeapPtr1, *HeapPtr2);\n",
    "}"
   ]
  },
  {
   "cell_type": "markdown",
   "metadata": {},
   "source": [
    "`void *calloc(size_t n, size_t size)`\n",
    "* 1st paramter - the num of items\n",
    "* 2nd paramter - size of ea. item\n",
    "* return value - address of first byte in newly allocated buffer\n",
    "* memory allocated is **initialized to 0**"
   ]
  },
  {
   "cell_type": "markdown",
   "metadata": {},
   "source": [
    "## malloc() vs calloc()\n",
    "* `malloc()` doesn't initialize the memory it allocates\n",
    "* `calloc()` does initialize the memory it allocates"
   ]
  },
  {
   "cell_type": "markdown",
   "metadata": {},
   "source": [
    "## When to use malloc() vs calloc()?\n",
    "* Zeroing out memory may take little time, so using `malloc()`\n",
    "  * maybe use when performance is an issue\n",
    "* initializing the memory is more important, use `calloc()`"
   ]
  },
  {
   "cell_type": "markdown",
   "metadata": {},
   "source": [
    "`void free(void *ptr)`\n",
    "* 1 paramter- pointer to allocated space\n",
    "* `free()` should be used when allocated memory no longer needed\n",
    "  * avoided memory leaks\n",
    "* memory leak cased when program fails to release discarded memory causing impaired performance or failure"
   ]
  },
  {
   "cell_type": "markdown",
   "metadata": {},
   "source": [
    "`void *realloc(void *ptr, size_t newsize)`\n",
    "* 1st parameter - pointer to first byte of mem previously allocated using `malloc()` or `calloc()`\n",
    "* 2nd parameter - new size of block in bytes\n",
    "* return value - pointer to new blocck of mem\n",
    "  * will hange if pointer needed to allocate new contiguous block of memory\n",
    "* old data not lost & newly allocated memory not initialized\n",
    "* if `realloc()` faills, then `NULL` returned & old memory remains unaffected\n",
    "### Relationship with malloc()\n",
    "* when we `malloc()` memory, it is contiguous\n",
    "* when we `realloc()`, we can add more memory to the end of the contiguous block"
   ]
  }
 ],
 "metadata": {
  "kernelspec": {
   "display_name": "C",
   "language": "c",
   "name": "c"
  },
  "language_info": {
   "file_extension": ".c",
   "mimetype": "text/plain",
   "name": "c"
  }
 },
 "nbformat": 4,
 "nbformat_minor": 2
}
