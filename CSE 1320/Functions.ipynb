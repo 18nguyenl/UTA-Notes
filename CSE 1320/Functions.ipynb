{
 "cells": [
  {
   "cell_type": "markdown",
   "metadata": {},
   "source": [
    "# Functions"
   ]
  },
  {
   "cell_type": "markdown",
   "metadata": {},
   "source": [
    "## Pass by value\n",
    "* parameter is called a *value parameter*\n",
    "* copy is made for the current value of the parameter\n",
    "* operations done on the value of the copy\n",
    " * the original does not change\n",
    "* all parameters are passed by value in C\n",
    " * pass by reference does not exist in C\n",
    " * we can simulate this by passing pointers however lol\n",
    "   * honestly this is basically pass by reference, they just being specific"
   ]
  },
  {
   "cell_type": "markdown",
   "metadata": {},
   "source": [
    "## Pass by reference\n",
    "* parameter is called a *variable parameter*\n",
    "* address of the parameter's storage location is used as an argument\n",
    "* operations done on this value directly affects the original"
   ]
  },
  {
   "cell_type": "code",
   "execution_count": 1,
   "metadata": {},
   "outputs": [
    {
     "name": "stderr",
     "output_type": "stream",
     "text": [
      "/tmp/tmpq93hfeez.c: In function ‘main’:\n",
      "/tmp/tmpq93hfeez.c:24:2: warning: implicit declaration of function ‘system’ [-Wimplicit-function-declaration]\n",
      "  system(\"clear\");\n",
      "  ^~~~~~\n"
     ]
    },
    {
     "name": "stdout",
     "output_type": "stream",
     "text": [
      "\u001b[3J\u001b[H\u001b[2JBefore PassByValue call\tMyMainNum = 0\n",
      "Inside PassByValue\tMyNum     = 100\n",
      "After  PassByValue call\tMyMainNum = 0\n",
      "Before PassByRef   call\tMyMainNum = 0\n",
      "Inside PassByRef\tMyNumPtr  = 100\n",
      "After  PassByRef   call\tMyMainNum = 100\n"
     ]
    }
   ],
   "source": [
    "/* simulating pass by reference */\n",
    "\n",
    "#include <stdio.h>\n",
    "\n",
    "int PassByValue(int ValueVar);\n",
    "int PassByRef(int *RefVar);\n",
    "\n",
    "int PassByValue(int MyNum)\n",
    "{\n",
    "\tMyNum += 100;\n",
    "\tprintf(\"Inside PassByValue\\tMyNum     = %d\\n\", MyNum);\n",
    "}\n",
    "\n",
    "int PassByRef(int *MyNumPtr)\n",
    "{\n",
    "\t*MyNumPtr += 100;\n",
    "\tprintf(\"Inside PassByRef\\tMyNumPtr  = %d\\n\", *MyNumPtr);\n",
    "}\n",
    "\n",
    "int main(void)\n",
    "{\n",
    "\tint MyMainNum = 0;\n",
    "\t\n",
    "\tsystem(\"clear\");\n",
    "\t\n",
    "\tprintf(\"Before PassByValue call\\tMyMainNum = %d\\n\", MyMainNum);\n",
    "\tPassByValue(MyMainNum);\n",
    "\tprintf(\"After  PassByValue call\\tMyMainNum = %d\\n\", MyMainNum);\n",
    "\tgetchar();\n",
    "\tprintf(\"Before PassByRef   call\\tMyMainNum = %d\\n\", MyMainNum);\n",
    "\tPassByRef(&MyMainNum);\n",
    "\tprintf(\"After  PassByRef   call\\tMyMainNum = %d\\n\", MyMainNum);\n",
    "\t\n",
    "\treturn 0;\n",
    "}\n"
   ]
  },
  {
   "cell_type": "markdown",
   "metadata": {},
   "source": [
    "# Function Prototypes\n",
    "It's basically a java abstract defined function  \n",
    "A function frame essentially  \n",
    "\n",
    "The C compiler has this to:\n",
    "* ensure the function definition matches w/ the prototype\n",
    "* check if things are in the right order (so prehistoric intellisense)\n",
    "* ensure that the value returned as an rvalue is used correctly in the expression\n",
    "* ensure the parameter types are right (prehistoric intellisense)\n",
    "* **if the arguments passed don't match, the compiler will try to convet the arugments to those types**"
   ]
  },
  {
   "cell_type": "code",
   "execution_count": 4,
   "metadata": {},
   "outputs": [
    {
     "name": "stderr",
     "output_type": "stream",
     "text": [
      "/tmp/tmpxy7qggfu.c: In function ‘main’:\n",
      "/tmp/tmpxy7qggfu.c:9:5: warning: implicit declaration of function ‘PassArrayFunction’ [-Wimplicit-function-declaration]\n",
      "     PassArrayFunction(a, b);\n",
      "     ^~~~~~~~~~~~~~~~~\n",
      "/tmp/tmpxy7qggfu.c:11:5: warning: implicit declaration of function ‘PassPointerFunction’ [-Wimplicit-function-declaration]\n",
      "     PassPointerFunction(a, c);\n",
      "     ^~~~~~~~~~~~~~~~~~~\n",
      "/tmp/tmpxy7qggfu.c: At top level:\n",
      "/tmp/tmpxy7qggfu.c:16:6: warning: conflicting types for ‘PassArrayFunction’\n",
      " void PassArrayFunction(int a[], int b[])\n",
      "      ^~~~~~~~~~~~~~~~~\n",
      "/tmp/tmpxy7qggfu.c:9:5: note: previous implicit declaration of ‘PassArrayFunction’ was here\n",
      "     PassArrayFunction(a, b);\n",
      "     ^~~~~~~~~~~~~~~~~\n",
      "/tmp/tmpxy7qggfu.c:25:6: warning: conflicting types for ‘PassPointerFunction’\n",
      " void PassPointerFunction(int *a, int *b)\n",
      "      ^~~~~~~~~~~~~~~~~~~\n",
      "/tmp/tmpxy7qggfu.c:11:5: note: previous implicit declaration of ‘PassPointerFunction’ was here\n",
      "     PassPointerFunction(a, c);\n",
      "     ^~~~~~~~~~~~~~~~~~~\n"
     ]
    },
    {
     "name": "stdout",
     "output_type": "stream",
     "text": [
      "\n"
     ]
    }
   ],
   "source": [
    "// Passing Array2 Demo\n",
    "#include <stdio.h>\n",
    "#include <limits.h>\n",
    "\n",
    "int main(void)\n",
    "{\n",
    "    int a[3] = {0, 1, 2};\n",
    "    int b[3];\n",
    "    PassArrayFunction(a, b);\n",
    "    int c[3];\n",
    "    PassPointerFunction(a, c);\n",
    "\treturn 0;\n",
    "}\n",
    "\n",
    "\n",
    "    \n",
    "void PassArrayFunction(int a[], int b[])\n",
    "{\n",
    "    int i = 0;\n",
    "    for (i = 0; i < 3; i++) {\n",
    "        b[i] = a[i];\n",
    "    }\n",
    "\treturn;\n",
    "}\n",
    "\n",
    "void PassPointerFunction(int *a, int *b)\n",
    "{\n",
    "    int i = 0;\n",
    "    for (i = 0; i < 3; i++) {\n",
    "        b[i] = a[i] + 1;\n",
    "    }   \n",
    "    printf(\"\\n\");\n",
    "\treturn;\n",
    "}\n"
   ]
  },
  {
   "cell_type": "markdown",
   "metadata": {},
   "source": [
    "In the above code, there's a bunch of implicit declarations and conflicting types warnings listed, the C compiler cannot make any guarantees on how these functions are used if they are defined past the `main()`\n",
    "\n",
    "It's kind of janky, but C needs one to be *very* specific and disciplined"
   ]
  },
  {
   "cell_type": "markdown",
   "metadata": {},
   "source": [
    "# Special Functions"
   ]
  },
  {
   "cell_type": "markdown",
   "metadata": {},
   "source": [
    "## scanf(string, reference)\n",
    "* takes a string like `printf()` and inputs modifiers based on the `%` flags from the string\n",
    "* the user inputs what he wants and the result is stored in `reference`\n",
    "* `reference` is the address of a variable  that matches the order of the `%` flags\n",
    "\n",
    "examples:  \n",
    "```C\n",
    "char character;\n",
    "scanf(\"%c\", &character);\n",
    "```  \n",
    "This takes a character and stores it in `character`\n",
    "\n",
    "```C\n",
    "int number;\n",
    "scanf(\"%d\", &number);\n",
    "```  \n",
    "This takes a number, excluding whitespace special characters like `\\n` and stores it in number"
   ]
  },
  {
   "cell_type": "markdown",
   "metadata": {},
   "source": [
    "## Pointers to Functions\n",
    "* when C program compiles and loads -> memory, executable code organized in a way an address is associated w/ every identifier with either external linkage or `static` storage class\n",
    "* this is true for identifiers representing variables or identifieres representing **functions**\n",
    "* When name of function mention in C src code, it interpreated as address of code for function in memory\n",
    "* Unlike normal pointer, function pointer points to code, not data\n",
    " * typically pointer store start of executable code this way\n",
    "* Unlike normal pointers, we do not allocate/de-allocate memory when using function pointers\n",
    "* like normal pointers, we can have array of function pointers\n",
    "* like normal data pointers, a function pointer can be passed as argument and can be returned from a function"
   ]
  },
  {
   "cell_type": "code",
   "execution_count": 5,
   "metadata": {},
   "outputs": [
    {
     "name": "stdout",
     "output_type": "stream",
     "text": [
      "Value of a is 10\n"
     ]
    }
   ],
   "source": [
    "#include <stdio.h>\n",
    "\n",
    "void MyFunction(int a) {\n",
    "    printf(\"Value of a is %d\\n\", a);\n",
    "}\n",
    "\n",
    "int main(void) {\n",
    "    // function_ptr is a pointer to function MyFunction()\n",
    "    void (*function_ptr)(int) = MyFunction;\n",
    "    \n",
    "    // Invoking MyFunction() using function_ptr\n",
    "    function_ptr(10);\n",
    "    \n",
    "    return 0;    \n",
    "}"
   ]
  },
  {
   "cell_type": "code",
   "execution_count": 8,
   "metadata": {},
   "outputs": [
    {
     "name": "stdout",
     "output_type": "stream",
     "text": [
      "Value of a is 10\n",
      "Value of a is 20\n",
      "Output from Multiplier 8\n"
     ]
    }
   ],
   "source": [
    "#include <stdio.h>\n",
    "\n",
    "void MyFunction(int a) {\n",
    "    printf(\"Value of a is %d\\n\", a);\n",
    "}\n",
    "\n",
    "int Multiplier(int y, int z)\n",
    "{\n",
    "    return y*z;\n",
    "}\n",
    "\n",
    "int main(void) {\n",
    "    // function_ptr is a pointer to function MyFunction()\n",
    "    void (*function_ptr)(int) = MyFunction;\n",
    "    \n",
    "    //return type (pointer name) (parameter list) = (original function name);\n",
    "    \n",
    "    // You can split the declaration and initialization\n",
    "    void (*function_ptr2) (int);\n",
    "    function_ptr2 = MyFunction;\n",
    "    \n",
    "    // Invoking MyFunction() using function_ptr\n",
    "    function_ptr(10);\n",
    "    function_ptr2(20);\n",
    "    \n",
    "    // Using Function pointers w/ 2 arguments\n",
    "    int (*MultiPtr) (int, int) = Multiplier;\n",
    "    printf(\"Output from Multiplier %d\\n\", MultiPtr(2, 4));\n",
    "    \n",
    "    return 0;    \n",
    "}"
   ]
  },
  {
   "cell_type": "code",
   "execution_count": 11,
   "metadata": {},
   "outputs": [
    {
     "name": "stdout",
     "output_type": "stream",
     "text": [
      "\n",
      "\n",
      "10\n",
      "\n",
      "\n",
      "\n",
      "0\n",
      "\n",
      "\n",
      "\n",
      "25\n",
      "\n",
      "\n",
      "\n",
      "1\n",
      "\n"
     ]
    }
   ],
   "source": [
    "/* function pointer 2 Demo */\n",
    "#include <stdio.h>\n",
    "\n",
    "int FunAdd(int a, int b)\n",
    "{\n",
    "\treturn a+b;\n",
    "}\n",
    "\n",
    "int FunSub(int a, int b)\n",
    "{\n",
    "\treturn a-b;\n",
    "}\n",
    "\n",
    "int FunMult(int a, int b)\n",
    "{\n",
    "\treturn a*b;\n",
    "}\n",
    "\n",
    "int FunDiv(int a, int b)\n",
    "{\n",
    "\treturn a/b;\n",
    "}\n",
    "\n",
    "int main(void)\n",
    "{\n",
    "\tint a = 5, b = 5;\n",
    "\t\n",
    "\tint (*PtrArray[4]) (int, int) = {FunAdd, FunSub, FunMult, FunDiv};\n",
    "\t\n",
    "\tprintf(\"\\n\\n%d\\n\\n\", (*PtrArray[0])(a,b)); \n",
    "    printf(\"\\n\\n%d\\n\\n\", (*PtrArray[1])(a,b));\n",
    "    printf(\"\\n\\n%d\\n\\n\", (*PtrArray[2])(a,b));\n",
    "    printf(\"\\n\\n%d\\n\\n\", (*PtrArray[3])(a,b));\n",
    "\t\n",
    "\treturn 0;\n",
    "}"
   ]
  }
 ],
 "metadata": {
  "kernelspec": {
   "display_name": "C",
   "language": "c",
   "name": "c"
  },
  "language_info": {
   "file_extension": ".c",
   "mimetype": "text/plain",
   "name": "c"
  }
 },
 "nbformat": 4,
 "nbformat_minor": 2
}
