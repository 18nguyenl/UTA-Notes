{
 "cells": [
  {
   "cell_type": "markdown",
   "metadata": {},
   "source": [
    "# Pointers"
   ]
  },
  {
   "cell_type": "markdown",
   "metadata": {},
   "source": [
    "## & and %p\n",
    "The `&` operator used on a variable refers to the address of the variable  \n",
    "`%p` will print out the address of a variable"
   ]
  },
  {
   "cell_type": "markdown",
   "metadata": {},
   "source": [
    "```C\n",
    "int variable1 = 5;\n",
    "printf(\"%p\\n\", &variable1);\n",
    "```  \n",
    "  "
   ]
  },
  {
   "cell_type": "markdown",
   "metadata": {},
   "source": [
    "This is just an observation, but what I think is going is that\n",
    "the & actually returns an integer-typed value that is equal to the\n",
    "hexadecimal representation of the memory adress of the variable\n",
    "%p takes this raw integer value, and formats it into more recognizable\n",
    "memory address values  \n",
    "\n",
    "This statement test that as the value is just 0x5. It is equal to the value\n",
    "stored inside the variable."
   ]
  },
  {
   "cell_type": "markdown",
   "metadata": {},
   "source": [
    "```C \n",
    "printf(\"%p\\n\", variable1);\n",
    "```  \n",
    "  "
   ]
  },
  {
   "cell_type": "markdown",
   "metadata": {},
   "source": [
    "pointers contain an address, but not the value \n",
    "pointers point to another variable\n",
    "this is a direct initialization"
   ]
  },
  {
   "cell_type": "markdown",
   "metadata": {},
   "source": [
    "# Pointer Arithmetic"
   ]
  },
  {
   "cell_type": "markdown",
   "metadata": {},
   "source": [
    "A pointer could be incremented (++) or decremented (--)\n",
    "\n",
    "the amount of ++ or -- is relative to the `sizeof()` the type the pointer is pointing to"
   ]
  },
  {
   "cell_type": "markdown",
   "metadata": {},
   "source": [
    "```C\n",
    "IntVarPtr++;\n",
    "IntVarPtr--;\n",
    "++IntVarPtr;\n",
    "--IntVarPtr;\n",
    "```"
   ]
  },
  {
   "cell_type": "markdown",
   "metadata": {},
   "source": [
    "You can add / subtract integers from a pointer"
   ]
  },
  {
   "cell_type": "markdown",
   "metadata": {},
   "source": [
    "```C\n",
    "IntVarPtr += 2;\n",
    "IntVarPtr = IntVarPtr - 45;\n",
    "```"
   ]
  },
  {
   "cell_type": "markdown",
   "metadata": {},
   "source": [
    "Pointers of the same type can be subtracted from one another"
   ]
  },
  {
   "cell_type": "markdown",
   "metadata": {},
   "source": [
    "```C\n",
    "IntVarPtr1 = IntVarPtr2 - IntVarPtr3;\n",
    "```"
   ]
  },
  {
   "cell_type": "code",
   "execution_count": 6,
   "metadata": {},
   "outputs": [
    {
     "name": "stderr",
     "output_type": "stream",
     "text": [
      "/tmp/tmpvyz0wgcr.c: In function ‘main’:\n",
      "/tmp/tmpvyz0wgcr.c:13:2: warning: implicit declaration of function ‘system’ [-Wimplicit-function-declaration]\n",
      "  system(\"clear\");\n",
      "  ^~~~~~\n"
     ]
    },
    {
     "name": "stdout",
     "output_type": "stream",
     "text": [
      "\u001b[3J\u001b[H\u001b[2JIntArray[0] = 134\tIntArrayPtr + 0 = 134\tIntArray + 0 = 134\n",
      "IntArray[1] = 278\tIntArrayPtr + 1 = 278\tIntArray + 1 = 278\n",
      "IntArray[2] = 312\tIntArrayPtr + 2 = 312\tIntArray + 2 = 312\n",
      "IntArray[3] = 467\tIntArrayPtr + 3 = 467\tIntArray + 3 = 467\n",
      "IntArray[4] = 523\tIntArrayPtr + 4 = 523\tIntArray + 4 = 523\n",
      "IntArray[5] = 687\tIntArrayPtr + 5 = 687\tIntArray + 5 = 687\n",
      "IntArray[6] = 789\tIntArrayPtr + 6 = 789\tIntArray + 6 = 789\n",
      "IntArray[7] = 811\tIntArrayPtr + 7 = 811\tIntArray + 7 = 811\n",
      "IntArray[8] = 987\tIntArrayPtr + 8 = 987\tIntArray + 8 = 987\n",
      "IntArray[9] = 101\tIntArrayPtr + 9 = 101\tIntArray + 9 = 101\n"
     ]
    }
   ],
   "source": [
    "/* pointer arithmetic 1 */\n",
    "\n",
    "#include <stdio.h>\n",
    "\n",
    "#define MAX_CELLS 10\n",
    "\n",
    "int main(void)\n",
    "{\n",
    "\tint  *IntVarPtr = NULL;\n",
    "\tint  IntArray[MAX_CELLS] = {134,278,312,467,523,687,789,811,987,101};\n",
    "\tint i;\n",
    "\t\n",
    "\tsystem(\"clear\");\n",
    "\n",
    "\tIntVarPtr = IntArray;\n",
    "\t\n",
    "\tfor (i = 0; i < MAX_CELLS; i++)\n",
    "\t{\n",
    "\t\tprintf(\"IntArray[%d] = %d\\t\", i, IntArray[i]);\n",
    "\t\tprintf(\"IntArrayPtr + %d = %d\\t\", i, *(IntVarPtr + i));\n",
    "\t\tprintf(\"IntArray + %d = %d\\n\", i, *(IntArray + i));\n",
    "\t}\t\n",
    "\n",
    "\t\n",
    "\t\n",
    "\treturn 0;\n",
    "}"
   ]
  },
  {
   "cell_type": "markdown",
   "metadata": {},
   "source": [
    "As shown in the above example, you can modify different indices of the array through pointer arithmetic.\n",
    "\n",
    "This functionality is easy and possible in arrays because the memory addresses for each cell in the array are consecutively next to each other in memory. Point arithmetic is very predictable here in other words."
   ]
  },
  {
   "cell_type": "markdown",
   "metadata": {},
   "source": [
    "## Why not pointer addition?\n",
    "Pointer addition as in (this does not work)\n",
    "```C\n",
    "int *finalptr = ptr1 + ptr2;\n",
    "```\n",
    "It's straight up not defined in the language"
   ]
  },
  {
   "cell_type": "markdown",
   "metadata": {},
   "source": [
    "## Array Pointer Arithmetic\n",
    "We want to use pointer arithmetic here because the order of the cells and memory is guaranteed.  \n",
    "Do not use pointer arithmetic to travel between arrays.  \n",
    "If you do go out of bounds, the referenced memory address might not be the next declaration; memory is not arranged in order of the declarations we make"
   ]
  },
  {
   "cell_type": "markdown",
   "metadata": {},
   "source": []
  }
 ],
 "metadata": {
  "kernelspec": {
   "display_name": "C",
   "language": "c",
   "name": "c"
  },
  "language_info": {
   "file_extension": ".c",
   "mimetype": "text/plain",
   "name": "c"
  }
 },
 "nbformat": 4,
 "nbformat_minor": 2
}
