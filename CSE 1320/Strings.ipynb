{
 "cells": [
  {
   "cell_type": "markdown",
   "metadata": {},
   "source": [
    "# Strings"
   ]
  },
  {
   "cell_type": "markdown",
   "metadata": {},
   "source": [
    "A string is a sequence of characters"
   ]
  },
  {
   "cell_type": "markdown",
   "metadata": {},
   "source": [
    "## Facts\n",
    "* Strings in C are terminated by a null character `\\0`\n",
    "* Strings are accesed via a pointer to its first character\n",
    "* Strings are like an array of characters\n",
    " * they are both stored in contiguous memory\n",
    "* Arrays do not require a null character\n",
    "* **Strings must have a `\\0` at the end**"
   ]
  },
  {
   "cell_type": "markdown",
   "metadata": {},
   "source": [
    "```C\n",
    "\"Today is string day\"\n",
    "[T, o, d, a, y, , i, s, , s, t, r, i, n, g, , d, a, y, \\0]\n",
    "```"
   ]
  },
  {
   "cell_type": "markdown",
   "metadata": {},
   "source": [
    "When using double quotes, the characters in between the quotes are converted into an array with a `\\0` added at the end"
   ]
  },
  {
   "cell_type": "markdown",
   "metadata": {},
   "source": [
    "What happens when we try to interrupt a string?"
   ]
  },
  {
   "cell_type": "code",
   "execution_count": 43,
   "metadata": {},
   "outputs": [
    {
     "name": "stdout",
     "output_type": "stream",
     "text": [
      "Today is "
     ]
    }
   ],
   "source": [
    "#include <stdio.h>\n",
    "\n",
    "int main(void) {\n",
    "    printf(\"Today is \\0 string day\");\n",
    "    return 0;\n",
    "}"
   ]
  },
  {
   "cell_type": "markdown",
   "metadata": {},
   "source": [
    "You can use Strings just like an array"
   ]
  },
  {
   "cell_type": "code",
   "execution_count": 44,
   "metadata": {},
   "outputs": [
    {
     "name": "stdout",
     "output_type": "stream",
     "text": [
      "Today is string day\u0000\n",
      "Today is string day"
     ]
    }
   ],
   "source": [
    "#include <stdio.h>\n",
    "\n",
    "int main(void) {\n",
    "    int i;\n",
    "    char *StringPtr = \"Today is string day\";\n",
    "    for (i = 0; i < 20; i++) {\n",
    "        printf(\"%c\", StringPtr[i]);\n",
    "    }\n",
    "    \n",
    "    printf(\"\\n\");\n",
    "    \n",
    "    for (i = 0; StringPtr[i] != '\\0'; i++) {\n",
    "        printf(\"%c\", StringPtr[i]);\n",
    "    }\n",
    "    return 0;\n",
    "}"
   ]
  },
  {
   "cell_type": "markdown",
   "metadata": {},
   "source": [
    "You can use pointer arithmetic and dereferencing to acces individual characters in a string"
   ]
  },
  {
   "cell_type": "code",
   "execution_count": 45,
   "metadata": {},
   "outputs": [
    {
     "name": "stdout",
     "output_type": "stream",
     "text": [
      "The first character of the string is T\n",
      "The second character of the string is o\n",
      "The third character of the string is d\n"
     ]
    }
   ],
   "source": [
    "#include <stdio.h>\n",
    "\n",
    "int main(void) {\n",
    "    char *StringPtr = \"Today is string day\";\n",
    "    printf(\"The first character of the string is %c\\n\", *StringPtr);\n",
    "    printf(\"The second character of the string is %c\\n\", *(StringPtr+1));\n",
    "    printf(\"The third character of the string is %c\\n\", *(StringPtr+2));\n",
    "    return 0;\n",
    "}"
   ]
  },
  {
   "cell_type": "markdown",
   "metadata": {},
   "source": [
    "## %s"
   ]
  },
  {
   "cell_type": "markdown",
   "metadata": {},
   "source": [
    "When you use `%s` in `printf()`, it just accepts the argument as a `\\0` terminated string\n",
    "\n",
    "When you use `%s` in `scanf()`, it reads a `\\0` terminated string that reads the first sequence of characters that does not contain a whitespace\n",
    "\n",
    "When you use `%s` in `scanf()`, it assumes the argument will be an Array address or pointer so no `&` operator is needed"
   ]
  },
  {
   "cell_type": "markdown",
   "metadata": {},
   "source": [
    "## What happens when you enter a string too large for the scanf() input?"
   ]
  },
  {
   "cell_type": "markdown",
   "metadata": {},
   "source": [
    "It starts over at the beginning, and overwrites the original beginning string characters."
   ]
  },
  {
   "cell_type": "markdown",
   "metadata": {},
   "source": [
    "## Input and Output of Strings\n",
    "```C\n",
    "fgets(inbuff, n, fp)\n",
    "```\n",
    "This function accepts an input of string of max length n-1 (for the `\\0`) from one line of the file `fp`  \n",
    "Parameters\n",
    "* inbuff: the address of the buffer (where you're going to store your input string)\n",
    "* n: an `int` representing the max length of the buffer\n",
    "* fp: a `FILE *` frepresenting the open file where the input comes from  \n",
    "  \n",
    "Return value\n",
    "* a `char*` value (the address of inbuff) or `NULL` in case of error or end-of-file  \n",
    "\n",
    "Good-to-knows\n",
    "* The `\\n` character counts as part of the max length\n",
    "* make sure to store in a `string[]*` because a segmentation fault (from not having enough space to store all the characters) will occur\n",
    "* Make sure to store in a string array pointer, not just a string array since `fgets()` returns a pointer and a pointer can only be stored in a pointer."
   ]
  },
  {
   "cell_type": "markdown",
   "metadata": {},
   "source": [
    "# Common String Functions"
   ]
  },
  {
   "cell_type": "markdown",
   "metadata": {},
   "source": [
    "## Removing the \\n from an input string\n",
    "#### Two methods\n",
    "##### Replace \\n with a blank\n",
    "```C\n",
    "UserString[strlen(UserString)-1] = ' ';\n",
    "```\n",
    "##### Replace \\n with \\0\n",
    "```C \n",
    "UserString[strlen(UserString)-1] = '\\0';\n",
    "```"
   ]
  },
  {
   "cell_type": "markdown",
   "metadata": {},
   "source": [
    "## strlen(string)\n",
    "* calculates the length of `string`\n",
    "\n",
    "Parameters: \n",
    "`string`\n",
    "* a null-terminated string\n",
    "\n",
    "Return value\n",
    "* the length of `string` not including the terminating `\\0`, of type `size_t` (an unsigned integer type)"
   ]
  },
  {
   "cell_type": "code",
   "execution_count": 46,
   "metadata": {},
   "outputs": [
    {
     "name": "stdout",
     "output_type": "stream",
     "text": [
      "The String is \"This is a String\".\n",
      "The length of the string is 16.\n"
     ]
    }
   ],
   "source": [
    "#include <stdio.h>\n",
    "#include <string.h>\n",
    "\n",
    "int main (void) {\n",
    "    char UserString[50] = \"This is a String\";\n",
    "    \n",
    "    printf(\"The String is \\\"%s\\\".\\n\", UserString);\n",
    "    printf(\"The length of the string is %d.\\n\", strlen(UserString));\n",
    "    return 0;\n",
    "}"
   ]
  },
  {
   "cell_type": "markdown",
   "metadata": {},
   "source": [
    "## strcpy(buffer, string)\n",
    "* copies `string` into `buffer`\n",
    "\n",
    "Parameters:\n",
    "`buffer`\n",
    "* the address of a memory buffer in the program\n",
    "`string`\n",
    "* a null-terminated string\n",
    "\n",
    "Return value:\n",
    "The address of `buffer`, a `char *`"
   ]
  },
  {
   "cell_type": "code",
   "execution_count": 47,
   "metadata": {},
   "outputs": [
    {
     "name": "stdout",
     "output_type": "stream",
     "text": [
      "The String is \"This is a String\".\n",
      "\n",
      "The buffer is \"This is a String\".\n"
     ]
    }
   ],
   "source": [
    "#include <stdio.h>\n",
    "#include <string.h>\n",
    "\n",
    "int main (void) {\n",
    "    char Buffer[50];\n",
    "    char UserString[50] = \"This is a String\";\n",
    "    \n",
    "    printf(\"The String is \\\"%s\\\".\\n\\n\", UserString);\n",
    "    \n",
    "    strcpy(Buffer, UserString);\n",
    "    \n",
    "    printf(\"The buffer is \\\"%s\\\".\\n\", Buffer);\n",
    "    return 0;\n",
    "}"
   ]
  },
  {
   "cell_type": "markdown",
   "metadata": {},
   "source": [
    "## strcat(buffer, string)\n",
    "* concatenates `string` onto the end of the current string in `buffer`.\n",
    "\n",
    "Parameters:  \n",
    "`buffer`\n",
    "* the address of a memory buffer in the program that contains a null-terminated string\n",
    "`string`\n",
    "* a null-terminated string\n",
    "\n",
    "Return Value:\n",
    "* the address of `buffer`, a `char *`."
   ]
  },
  {
   "cell_type": "code",
   "execution_count": 48,
   "metadata": {},
   "outputs": [
    {
     "name": "stdout",
     "output_type": "stream",
     "text": [
      "The String is \"This is a String\".\n",
      "\n",
      "The strcat() is \"One This is a String\".\n"
     ]
    }
   ],
   "source": [
    "#include <stdio.h>\n",
    "#include <string.h>\n",
    "\n",
    "int main (void) {\n",
    "    char Buffer[50] = \"One \";\n",
    "    char UserString[50] = \"This is a String\";\n",
    "    \n",
    "    printf(\"The String is \\\"%s\\\".\\n\\n\", UserString);\n",
    "    \n",
    "    strcat(Buffer, UserString);\n",
    "    \n",
    "    printf(\"The strcat() is \\\"%s\\\".\\n\", Buffer);\n",
    "    return 0;\n",
    "}"
   ]
  },
  {
   "cell_type": "markdown",
   "metadata": {},
   "source": [
    "## strcmp(string1, string2)\n",
    "* compares the content of `string1` with that of `string2`.\n",
    "Parameters\n",
    "\n",
    "Parameters:  \n",
    "`string1`\n",
    "* a null-terminated string\n",
    "`string2`\n",
    "* a null-terminated string\n",
    "\n",
    "Return value:  \n",
    "* a value of type `int`  \n",
    "\n",
    "| 0        | `string1` and `string2` are identical   |\n",
    "|----------|-----------------------------------------|\n",
    "| positive | `string1` would occur* after `string2`  |\n",
    "| negative | `string1` would occur* before `string2` |\n",
    " * in the ordering given by the ASCII character set\n",
    "\n",
    "* the values returned by `strcmp()` (other than `0`) is either a value smaller or bigger; 0 if they are equal. \n",
    "* This means you can't rely on the exact values\n",
    " * do not use the return value of `strcmp()` as anything other than a test for `> 0, < 0 or 0`."
   ]
  },
  {
   "cell_type": "code",
   "execution_count": 49,
   "metadata": {},
   "outputs": [
    {
     "name": "stdout",
     "output_type": "stream",
     "text": [
      "String 1 is \"Long Nguyen\" and String 2 is \"Long Tran\" \n",
      "\n",
      "The strcmp() is \"-6\".\n"
     ]
    }
   ],
   "source": [
    "#include <stdio.h>\n",
    "#include <string.h>\n",
    "\n",
    "int main (void) {\n",
    "    char String1[50] = \"Long Nguyen\";\n",
    "    char String2[50] = \"Long Tran\";\n",
    "    \n",
    "    printf(\"String 1 is \\\"%s\\\" and String 2 is \\\"%s\\\" \\n\\n\", String1, String2);\n",
    "    \n",
    "    printf(\"The strcmp() is \\\"%d\\\".\\n\", strcmp(String1, String2));\n",
    "    return 0;\n",
    "}"
   ]
  },
  {
   "cell_type": "markdown",
   "metadata": {},
   "source": [
    "## strncmp(string1, string2, n)\n",
    "* compares the first `n` characters of `string1` to the first `n` characters of `string2`\n",
    "\n",
    "Parameters: \n",
    "`string1`\n",
    "* a null-terminated string\n",
    "`string2`\n",
    "* a null-terminated string\n",
    "`n`\n",
    "* an `int` indicating the number of characters to compare\n",
    "\n",
    "Return value:\n",
    "Return value:  \n",
    "* a value of type `int`  \n",
    "\n",
    "| 0        | `string1` and `string2` are identical   |\n",
    "|----------|-----------------------------------------|\n",
    "| positive | `string1` would occur* after `string2`  |\n",
    "| negative | `string1` would occur* before `string2` |\n",
    " * in the ordering given by the ASCII character set"
   ]
  },
  {
   "cell_type": "code",
   "execution_count": 50,
   "metadata": {},
   "outputs": [
    {
     "name": "stdout",
     "output_type": "stream",
     "text": [
      "String 1 is \"Long Nguyen\" and String 2 is \"Long Tran\" \n",
      "\n",
      "The strncmp() is \"0\".\n"
     ]
    }
   ],
   "source": [
    "#include <stdio.h>\n",
    "#include <string.h>\n",
    "\n",
    "int main (void) {\n",
    "    char String1[50] = \"Long Nguyen\";\n",
    "    char String2[50] = \"Long Tran\";\n",
    "    \n",
    "    printf(\"String 1 is \\\"%s\\\" and String 2 is \\\"%s\\\" \\n\\n\", String1, String2);\n",
    "    \n",
    "    printf(\"The strncmp() is \\\"%d\\\".\\n\", strncmp(String1, String2, 4));\n",
    "    return 0;\n",
    "}"
   ]
  },
  {
   "cell_type": "markdown",
   "metadata": {},
   "source": [
    "## strchr(string, ch)\n",
    "* looks for the first occurrence of `ch` in `string`.\n",
    "\n",
    "Parameters:  \n",
    "`string`  \n",
    "* a null-terminated string  \n",
    "`ch`  \n",
    "* a character\n",
    "\n",
    "Return Value:  \n",
    "* a `char *` pointer to the first occurrence of `ch` in `string` or `NULL` if `ch` does not appear in string."
   ]
  },
  {
   "cell_type": "code",
   "execution_count": 51,
   "metadata": {},
   "outputs": [
    {
     "name": "stdout",
     "output_type": "stream",
     "text": [
      "The first occurence of 'g' in \"Long Nguyen\" is at 0x7ffd820ac843.\n",
      "0x7ffd820ac843 is \"g Nguyen\"."
     ]
    }
   ],
   "source": [
    "#include <stdio.h>\n",
    "#include <string.h>\n",
    "\n",
    "int main (void) {\n",
    "    char UserString[50] = \"Long Nguyen\";\n",
    "    char SearchChar = 'g';\n",
    "    \n",
    "    char *charPtr = strchr(UserString, SearchChar);\n",
    "    \n",
    "    printf(\"The first occurence of '%c' in \\\"%s\\\" is at %p.\\n\", SearchChar, UserString, charPtr);\n",
    "    printf(\"%p is \\\"%s\\\".\", charPtr, charPtr);\n",
    "    return 0;\n",
    "}"
   ]
  },
  {
   "cell_type": "markdown",
   "metadata": {},
   "source": [
    "## strstr(string1, string2)\n",
    "* find the first occurrence of `string2` as a substring of `string1`\n",
    "\n",
    "Parameters:  \n",
    "`string1`  \n",
    "* a null-terminated string  \n",
    "`string2`  \n",
    "* a null-termianted string\n",
    "\n",
    "Return value:  \n",
    "* a `char*` pointer to the first occurrence of `string2` in `string1` or `NULL` if `string2` does not appear in `string1`  \n"
   ]
  },
  {
   "cell_type": "code",
   "execution_count": 55,
   "metadata": {},
   "outputs": [
    {
     "name": "stdout",
     "output_type": "stream",
     "text": [
      "meterrr"
     ]
    }
   ],
   "source": [
    "#include <stdio.h>\n",
    "#include <string.h>\n",
    "\n",
    "int main(void) {\n",
    "\t  char Array1[100] = \"parameterrr\";\n",
    "      char Array2[100] = \"meter\";\n",
    "\t  \n",
    "      printf(\"%s\", strstr(Array1,Array2));\n",
    "\n",
    "\treturn 0;\n",
    "}\n"
   ]
  },
  {
   "cell_type": "markdown",
   "metadata": {},
   "source": [
    "## strpbrk(string, char_set)\n",
    "* find first occurrence of any character in a set in a `string`  \n",
    "\n",
    "Parameters:  \n",
    "`string`  \n",
    "* a null-termianted string  \n",
    "`char_set`\n",
    "* a set of characters\n",
    "\n",
    "Return value:  \n",
    "* a `char *` to first occurence of any character from `char_set` in `string` or `NULL` if no characters from `char_set` are found\n"
   ]
  },
  {
   "cell_type": "code",
   "execution_count": 52,
   "metadata": {},
   "outputs": [
    {
     "name": "stdout",
     "output_type": "stream",
     "text": [
      "The first occurence of 'g', 'n', or 'e' in \"Long Nguyen\" is at n.\n",
      "The first occurence of 'g', 'n', or 'e' in \"Log Nguyen\" is at g.\n",
      "The first occurence of 'g', 'n', or 'e' in \"Lo Nuyen\" is at e.\n"
     ]
    }
   ],
   "source": [
    "#include <stdio.h>\n",
    "#include <string.h>\n",
    "\n",
    "int main (void) {\n",
    "    char UserString1[50] = \"Long Nguyen\";\n",
    "    char CharSet[5] = \"gne\";\n",
    "    \n",
    "    char *charPtr = strpbrk(UserString1, CharSet);\n",
    "    \n",
    "    printf(\"The first occurence of '%c', '%c', or '%c' in \\\"%s\\\" is at %c.\\n\", CharSet[0], CharSet[1], CharSet[2], UserString1, *charPtr);\n",
    "    \n",
    "    char UserString2[50] = \"Log Nguyen\";\n",
    "    charPtr = strpbrk(UserString2, CharSet);\n",
    "    \n",
    "    printf(\"The first occurence of '%c', '%c', or '%c' in \\\"%s\\\" is at %c.\\n\", CharSet[0], CharSet[1], CharSet[2], UserString2, *charPtr);\n",
    "\n",
    "    char UserString3[50] = \"Lo Nuyen\";\n",
    "    charPtr = strpbrk(UserString3, CharSet);\n",
    "    \n",
    "    printf(\"The first occurence of '%c', '%c', or '%c' in \\\"%s\\\" is at %c.\\n\", CharSet[0], CharSet[1], CharSet[2], UserString3, *charPtr);\n",
    "    \n",
    "    return 0;\n",
    "}"
   ]
  },
  {
   "cell_type": "markdown",
   "metadata": {},
   "source": [
    "## strtok(buffer, delimiters)\n",
    "* tokens are character sequences in a `buffer` where they are split by character delimeters. `strtok()` places a `\\0` at the end of the first token and returns the address of the first character of the token. Subsequent calls to `strtok()` with a `NULL` as the first parameter will find and isolate each token in `buffer`.\n",
    "\n",
    "Parameters:  \n",
    "`buffer`  \n",
    "* a null-terminated string  \n",
    "`delimiters`  \n",
    "* a null-terminated string. The characters in the string mark the beginning and end of tokens in `buffer`\n",
    "\n",
    "Return Value:  \n",
    "* The address of the next token in `buffer`"
   ]
  },
  {
   "cell_type": "code",
   "execution_count": 53,
   "metadata": {},
   "outputs": [
    {
     "name": "stdout",
     "output_type": "stream",
     "text": [
      "Here is a print-out line by line of each token in \"I\"\n",
      "I\n",
      "wanna\n",
      "die\n",
      "right\n",
      "now\n"
     ]
    }
   ],
   "source": [
    "#include <stdio.h>\n",
    "#include <string.h>\n",
    "\n",
    "int main(void) {\n",
    "    char UserString1[50] = \"I wanna die right now\";\n",
    "    char Delimiters[2] = \" \";\n",
    "    \n",
    "    char *Token = strtok(UserString1, Delimiters);\n",
    "    \n",
    "    printf(\"Here is a print-out line by line of each token in \\\"%s\\\"\\n\", UserString1);\n",
    "    \n",
    "    printf(\"%s\\n\", Token);\n",
    "    \n",
    "    Token = strtok(NULL, Delimiters);\n",
    "    printf(\"%s\\n\", Token);\n",
    "    \n",
    "    Token = strtok(NULL, Delimiters);\n",
    "    printf(\"%s\\n\", Token);\n",
    "    \n",
    "    Token = strtok(NULL, Delimiters);\n",
    "    printf(\"%s\\n\", Token);\n",
    "    \n",
    "    Token = strtok(NULL, Delimiters);\n",
    "    printf(\"%s\\n\", Token);\n",
    "    return 0;\n",
    "}"
   ]
  },
  {
   "cell_type": "markdown",
   "metadata": {},
   "source": [
    "# Character Handling Functions\n",
    "### islower(ch)\n",
    "* tests if `ch` is lowercase alphabetic char\n",
    "### isupper(ch)\n",
    "* tests if `ch` is uppercase alphabetic char\n",
    "### isalpha(ch)\n",
    "* tests if `ch` is an alphabetic char\n",
    "### isalnum(ch)\n",
    "* tests if `ch` is an alphanumeric char\n",
    "### isdigit(ch)\n",
    "* tests if `ch` is a decimal digit\n",
    "### ispunct(ch)\n",
    "* tests if `ch` is a punctuation char\n",
    "### isspace(ch)\n",
    "* tests if `ch` is a whitespace char"
   ]
  },
  {
   "cell_type": "markdown",
   "metadata": {},
   "source": [
    "# More String methods\n",
    "### tolower(ch)\n",
    "* returns lowecase version of `ch`  \n",
    "\n",
    "### toupper(ch)\n",
    "* returns upppercase version of `ch`"
   ]
  },
  {
   "cell_type": "markdown",
   "metadata": {},
   "source": [
    "## strncpy()\n",
    "* works exactly like `strcpy()` except you specify the number of charactesr to copy"
   ]
  },
  {
   "cell_type": "code",
   "execution_count": 35,
   "metadata": {},
   "outputs": [
    {
     "name": "stdout",
     "output_type": "stream",
     "text": [
      "Array1 The quick fox jumps over the lazy dog\n",
      "Array2 The quick fox jumps over the lazy dog\n",
      "Array3 The quick fox jumps o\n"
     ]
    }
   ],
   "source": [
    "#include <stdio.h>\n",
    "#include <string.h>\n",
    "\n",
    "int main(void) {\n",
    "    char Array1[100] = {\"The quick fox jumps over the lazy dog\"};\n",
    "    char Array2[100];\n",
    "    char Array3[100];\n",
    "    \n",
    "    strcpy(Array2, Array1);\n",
    "    strncpy(Array3, Array1, 20);\n",
    "    printf(\"Array1 %s\\nArray2 %s\\nArray3 %s\\n\", Array1, Array2, Array3);\n",
    "    return 0;\n",
    "}"
   ]
  },
  {
   "cell_type": "markdown",
   "metadata": {},
   "source": [
    "## strncat()\n",
    "* works exactly like `strcat()` except you specify the num of chars to concatenate"
   ]
  },
  {
   "cell_type": "code",
   "execution_count": 36,
   "metadata": {},
   "outputs": [
    {
     "name": "stdout",
     "output_type": "stream",
     "text": [
      "Today is Friday\n",
      "Tomorrow is Fri\n"
     ]
    }
   ],
   "source": [
    "#include <stdio.h>\n",
    "#include <string.h>\n",
    "\n",
    "int main(void) {\n",
    "    char Array4[100] = {\"Today is \"};\n",
    "    char Array5[100] = {\"Friday\"};\n",
    "    char Array6[100] = {\"Tomorrow is \"};\n",
    "    printf(\"%s\\n\", strcat(Array4, Array5));\n",
    "    printf(\"%s\\n\", strncat(Array6, Array5, 3));\n",
    "    \n",
    "    return 0;\n",
    "}"
   ]
  },
  {
   "cell_type": "markdown",
   "metadata": {},
   "source": [
    "## memcpy()\n",
    "* a lot like `strcpy()` but does not rely on null terminator\n",
    "* it is given the number of bytes to copy"
   ]
  },
  {
   "cell_type": "code",
   "execution_count": 38,
   "metadata": {},
   "outputs": [
    {
     "name": "stdout",
     "output_type": "stream",
     "text": [
      "Array1 The quick fox jumps\n",
      "Array2 The quick fox jumps\n",
      "Array3 The quick fox jumps\n"
     ]
    }
   ],
   "source": [
    "#include <stdio.h>\n",
    "#include <string.h>\n",
    "\n",
    "int main(void) {\n",
    "    char Array1[100] = {\"The quick fox jumps\"};\n",
    "    char Array2[100];\n",
    "    char Array3[100];\n",
    "    \n",
    "    memcpy(Array2, Array1, strlen(Array1));\n",
    "    memcpy(Array3, Array1, strlen(Array1)+1);\n",
    "    \n",
    "    printf(\"Array1 %s\\nArray2 %s\\nArray3 %s\\n\",\n",
    "    Array1, Array2, Array3);\n",
    "    return 0;\n",
    "}"
   ]
  },
  {
   "cell_type": "markdown",
   "metadata": {},
   "source": [
    "## memcmp()\n",
    "* a lot like `strcmp()` except it doesn't rely on null terminator\n",
    "* given number of bytes to copy"
   ]
  },
  {
   "cell_type": "code",
   "execution_count": 1,
   "metadata": {},
   "outputs": [
    {
     "name": "stdout",
     "output_type": "stream",
     "text": [
      "not equal\n",
      "equal"
     ]
    }
   ],
   "source": [
    "#include <stdio.h>\n",
    "#include <string.h>\n",
    "\n",
    "int main(void) {\n",
    "    char Array4[100] = {\"hello\\0\\0\\0\"};\n",
    "    char Array5[100] = {\"hello\\0!!\"};\n",
    "        if (memcmp(Array4, Array5, 8) == 0)\n",
    "    printf(\"equal\\n\");\n",
    "        else\n",
    "    printf(\"not equal\\n\");\n",
    "        if (strcmp(Array4, Array5) == 0)\n",
    "    printf(\"equal\");\n",
    "        else\n",
    "    printf(\"not equal\\n\");\n",
    "    \n",
    "    return 0;\n",
    "}"
   ]
  },
  {
   "cell_type": "markdown",
   "metadata": {},
   "source": [
    "## atoi()\n",
    "* takes in a null-terminated string\n",
    "* takes the string as an ASCII representation of an integer numbers\n",
    "* returns an integer of this\n",
    "* take a string and turn it into an `int`"
   ]
  },
  {
   "cell_type": "markdown",
   "metadata": {},
   "source": [
    "## atof()\n",
    "* takes in a null-terminated string\n",
    "* takes the string as an ASCII representation of a floating-point numbers\n",
    "* returns an a floating-point number of this\n",
    "* take a string and turn it into a `float`"
   ]
  }
 ],
 "metadata": {
  "kernelspec": {
   "display_name": "C",
   "language": "c",
   "name": "c"
  },
  "language_info": {
   "file_extension": ".c",
   "mimetype": "text/plain",
   "name": "c"
  }
 },
 "nbformat": 4,
 "nbformat_minor": 2
}
