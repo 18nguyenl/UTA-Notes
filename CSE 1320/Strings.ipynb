{
 "cells": [
  {
   "cell_type": "markdown",
   "metadata": {},
   "source": [
    "# Strings"
   ]
  },
  {
   "cell_type": "markdown",
   "metadata": {},
   "source": [
    "A string is a sequence of characters"
   ]
  },
  {
   "cell_type": "markdown",
   "metadata": {},
   "source": [
    "## Facts\n",
    "* Strings in C are terminated by a null character `\\0`\n",
    "* Strings are accesed via a pointer to its first character\n",
    "* Strings are like an array of characters\n",
    " * they are both stored in contiguous memory\n",
    "* Arrays do not require a null character\n",
    "* **Strings must have a `\\0` at the end**"
   ]
  },
  {
   "cell_type": "markdown",
   "metadata": {},
   "source": [
    "```C\n",
    "\"Today is string day\"\n",
    "[T, o, d, a, y, , i, s, , s, t, r, i, n, g, , d, a, y, \\0]\n",
    "```"
   ]
  },
  {
   "cell_type": "markdown",
   "metadata": {},
   "source": [
    "When using double quotes, the characters in between the quotes are converted into an array with a `\\0` added at the end"
   ]
  },
  {
   "cell_type": "markdown",
   "metadata": {},
   "source": [
    "What happens when we try to interrupt a string?"
   ]
  },
  {
   "cell_type": "code",
   "execution_count": 2,
   "metadata": {},
   "outputs": [
    {
     "name": "stdout",
     "output_type": "stream",
     "text": [
      "Today is "
     ]
    }
   ],
   "source": [
    "#include <stdio.h>\n",
    "\n",
    "int main(void) {\n",
    "    printf(\"Today is \\0 string day\");\n",
    "    return 0;\n",
    "}"
   ]
  },
  {
   "cell_type": "markdown",
   "metadata": {},
   "source": [
    "You can use Strings just like an array"
   ]
  },
  {
   "cell_type": "code",
   "execution_count": 4,
   "metadata": {},
   "outputs": [
    {
     "name": "stdout",
     "output_type": "stream",
     "text": [
      "Today is string day\u0000\n",
      "Today is string day"
     ]
    }
   ],
   "source": [
    "#include <stdio.h>\n",
    "\n",
    "int main(void) {\n",
    "    int i;\n",
    "    char *StringPtr = \"Today is string day\";\n",
    "    for (i = 0; i < 20; i++) {\n",
    "        printf(\"%c\", StringPtr[i]);\n",
    "    }\n",
    "    \n",
    "    printf(\"\\n\");\n",
    "    \n",
    "    for (i = 0; StringPtr[i] != '\\0'; i++) {\n",
    "        printf(\"%c\", StringPtr[i]);\n",
    "    }\n",
    "    return 0;\n",
    "}"
   ]
  },
  {
   "cell_type": "markdown",
   "metadata": {},
   "source": [
    "You can use pointer arithmetic and dereferencing to acces individual characters in a string"
   ]
  },
  {
   "cell_type": "code",
   "execution_count": 5,
   "metadata": {},
   "outputs": [
    {
     "name": "stdout",
     "output_type": "stream",
     "text": [
      "The first character of the string is T\n",
      "The second character of the string is o\n",
      "The third character of the string is d\n"
     ]
    }
   ],
   "source": [
    "#include <stdio.h>\n",
    "\n",
    "int main(void) {\n",
    "    char *StringPtr = \"Today is string day\";\n",
    "    printf(\"The first character of the string is %c\\n\", *StringPtr);\n",
    "    printf(\"The second character of the string is %c\\n\", *(StringPtr+1));\n",
    "    printf(\"The third character of the string is %c\\n\", *(StringPtr+2));\n",
    "    return 0;\n",
    "}"
   ]
  },
  {
   "cell_type": "markdown",
   "metadata": {},
   "source": [
    "## %s"
   ]
  },
  {
   "cell_type": "markdown",
   "metadata": {},
   "source": [
    "When you use `%s` in `printf()`, it just accepts the argument as a `\\0` terminated string\n",
    "\n",
    "When you use `%s` in `scanf()`, it reads a `\\0` terminated string that reads the first sequence of characters that does not contain a whitespace\n",
    "\n",
    "When you use `%s` in `scanf()`, it assumes the argument will be an Array address or pointer so no `&` operator is needed"
   ]
  },
  {
   "cell_type": "markdown",
   "metadata": {},
   "source": [
    "## What happens when you enter a string too large for the scanf() input?"
   ]
  },
  {
   "cell_type": "markdown",
   "metadata": {},
   "source": [
    "It starts over at the beginning, and overwrites the original beginning string characters."
   ]
  },
  {
   "cell_type": "markdown",
   "metadata": {},
   "source": [
    "## Input and Output of Strings\n",
    "```C\n",
    "fgets(inbuff, n, fp)\n",
    "```\n",
    "This function accepts an input of string of max length n-1 (for the `\\0`) from one line of the file `fp`  \n",
    "Parameters\n",
    "* inbuff: the address of the buffer (where you're going to store your input string)\n",
    "* n: an `int` representing the max length of the buffer\n",
    "* fp: a `FILE *` frepresenting the open file where the input comes from  \n",
    "  \n",
    "Return value\n",
    "* a `char*` value (the address of inbuff) or `NULL` in case of error or end-of-file  \n",
    "\n",
    "Good-to-knows\n",
    "* The `\\n` character counts as part of the max length\n",
    "* make sure to store in a `string[]*` because a segmentation fault (from not having enough space to store all the characters) will occur\n",
    "* Make sure to store in a string array pointer, not just a string array since `fgets()` returns a pointer and a pointer can only be stored in a pointer."
   ]
  },
  {
   "cell_type": "code",
   "execution_count": null,
   "metadata": {},
   "outputs": [],
   "source": []
  }
 ],
 "metadata": {
  "kernelspec": {
   "display_name": "C",
   "language": "c",
   "name": "c"
  },
  "language_info": {
   "file_extension": ".c",
   "mimetype": "text/plain",
   "name": "c"
  }
 },
 "nbformat": 4,
 "nbformat_minor": 2
}
