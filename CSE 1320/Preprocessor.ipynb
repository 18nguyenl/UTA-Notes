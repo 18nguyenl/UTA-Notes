{
 "cells": [
  {
   "cell_type": "markdown",
   "metadata": {},
   "source": [
    "# Macros"
   ]
  },
  {
   "cell_type": "markdown",
   "metadata": {},
   "source": [
    "* macro is frag of code which been given name"
   ]
  },
  {
   "cell_type": "markdown",
   "metadata": {},
   "source": [
    "## defining Macros\n",
    "\n",
    "### Similarities in functions\n",
    "* macro *is like* function whre macro consists of C source code\n",
    "\n",
    "### Differences to functions\n",
    "* when program translate to obje code, code from macro expanded in every place whre macro called\n",
    "* code for function remains in separate location in mem\n",
    "* executing funct requires transfer control separate part of object code in mem and transfer control back after function completes\n",
    "* function als has overhead of set up and remove exe env.\n",
    "  * macro not require either of these\n",
    "  \n",
    "### More about macros\n",
    "* handled by preprocess phase\n",
    "* handeld w/ `#define` deriective\n",
    "* Macros can be ceclared w/ params\n",
    "* coding convention for macros to be written in uppercase"
   ]
  },
  {
   "cell_type": "markdown",
   "metadata": {},
   "source": [
    "### Things to watch out\n",
    "* watch out for where you put the space"
   ]
  },
  {
   "cell_type": "code",
   "execution_count": null,
   "metadata": {},
   "outputs": [],
   "source": [
    "#include <stdio.h>\n",
    "\n",
    "int main(void) {\n",
    "    \n",
    "    return 0;\n",
    "}"
   ]
  },
  {
   "cell_type": "markdown",
   "metadata": {},
   "source": [
    "## Preprocessor Debugging\n",
    "```bash\n",
    "$ gcc program.c -E\n",
    "```\n",
    "* the `-E` will reveal the process the preprocessor takes for compiling program"
   ]
  },
  {
   "cell_type": "markdown",
   "metadata": {},
   "source": [
    "# Conditional Compilation\n",
    "#define used to def symbols to compiler\n",
    "#ifdef test whether \n",
    "#lse\n",
    "#elif\n",
    "#endif\n",
    "#ifndef"
   ]
  },
  {
   "cell_type": "markdown",
   "metadata": {},
   "source": [
    "## #if 0 and #endif"
   ]
  },
  {
   "cell_type": "code",
   "execution_count": null,
   "metadata": {},
   "outputs": [],
   "source": [
    "#include <stdio.h>\n",
    "\n",
    "int main(void) {\n",
    "    \n",
    "    return 0;\n",
    "}"
   ]
  },
  {
   "cell_type": "markdown",
   "metadata": {},
   "source": [
    "## Defining\n",
    "```bash\n",
    "gcc program.c -D arg1 arg2 arg3\n",
    "```\n",
    "\n",
    "* `-D` defines values to be used in program\n",
    "  * used with conditional compilation\n",
    "  * used with preprocessor"
   ]
  },
  {
   "cell_type": "code",
   "execution_count": null,
   "metadata": {},
   "outputs": [],
   "source": [
    "#include <stdio.h>\n",
    "\n",
    "int main(void) {\n",
    "    \n",
    "    return 0;\n",
    "}"
   ]
  },
  {
   "cell_type": "markdown",
   "metadata": {},
   "source": [
    "## Include guard\n",
    "* using this prevents \"redefines\""
   ]
  }
 ],
 "metadata": {
  "kernelspec": {
   "display_name": "C",
   "language": "c",
   "name": "c"
  },
  "language_info": {
   "file_extension": ".c",
   "mimetype": "text/plain",
   "name": "c"
  }
 },
 "nbformat": 4,
 "nbformat_minor": 2
}
