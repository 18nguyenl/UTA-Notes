{
 "cells": [
  {
   "cell_type": "markdown",
   "metadata": {},
   "source": [
    "# Command Line Parameters"
   ]
  },
  {
   "cell_type": "markdown",
   "metadata": {},
   "source": [
    "## About\n",
    "* sequence of strings use pass info to C program @ exe time\n",
    "* appear as strings on command line after name of program\n",
    "* strings separated by whitespace\n",
    "* command line parameters available throughout the time that the program is executing"
   ]
  },
  {
   "cell_type": "markdown",
   "metadata": {},
   "source": [
    "## Usage\n",
    "* accessed vis arguments to `main()`\n",
    "```C\n",
    "int main(int argc, char *argv[]) \n",
    "```  \n",
    "\n",
    "`argc` and `argv` are tradition names\n",
    "* they can be anything\n",
    "\n",
    "### argc\n",
    "* contains count of parameters on command line\n",
    "* always at least 1 since it includes name of program\n",
    "\n",
    "### argv\n",
    "* array of pointers to `chars`\n",
    "* pointers point to string appear on command line\n",
    "* terminated w/ `\\0`\n",
    "\n",
    "## Running a Program w/ CLI Params\n",
    "```bash\n",
    "$ a.out clp1 clp2 clp3\n",
    "```\n",
    "\n",
    "### Running program in debug w/ command line parameters\n",
    "```bash\n",
    "$ ---args a.out clp1 clp2 clp3\n",
    "```"
   ]
  }
 ],
 "metadata": {
  "kernelspec": {
   "display_name": "C",
   "language": "c",
   "name": "c"
  },
  "language_info": {
   "file_extension": ".c",
   "mimetype": "text/plain",
   "name": "c"
  }
 },
 "nbformat": 4,
 "nbformat_minor": 2
}
