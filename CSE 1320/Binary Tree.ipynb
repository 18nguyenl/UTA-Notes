{
 "cells": [
  {
   "cell_type": "markdown",
   "metadata": {},
   "source": [
    "# Binary Trees"
   ]
  },
  {
   "cell_type": "markdown",
   "metadata": {},
   "source": [
    "* non-linear tree-like data structure\n",
    "  * consists of nodes\n",
    "  * ea. node has 2 child nodes\n",
    "    * create branches of tree\n",
    "* 2 children usually called *left* and *right* node\n",
    "* Parent nodes are nodes w/ children\n",
    "* Child nodes can include references to their parents\n",
    "* binary tree organize data hierarchially instead of linear\n",
    "* Binary tree used to implement binary search trees & binary heaps\n",
    "  * Also used for sorting data w/ heap sort\n"
   ]
  },
  {
   "cell_type": "markdown",
   "metadata": {},
   "source": [
    "[!Binary Tree Example](Images/Data Structures/Binary_Trees.png)"
   ]
  },
  {
   "cell_type": "markdown",
   "metadata": {},
   "source": [
    "## Tree Vocab\n",
    "\n",
    "| Term   | Description                      |\n",
    "|--------|----------------------------------|\n",
    "| Root   | Topmost node                     |\n",
    "| Child  | Node directly under another node |\n",
    "| Parent | Node directly above another node |\n",
    "| Leaf   | Node w/ no children              |\n",
    "| Edge   | Link between 2 nodes             |\n",
    "| Height | Length of longest path to leaf   |\n",
    "| Depth  | Length of the path to its root   |\n"
   ]
  },
  {
   "cell_type": "markdown",
   "metadata": {},
   "source": [
    "# Code for Binary Search Tree\n",
    "* code below not actually fully working\n",
    "* This just shows the general idea of what you might want to do"
   ]
  },
  {
   "cell_type": "code",
   "execution_count": 1,
   "metadata": {},
   "outputs": [],
   "source": [
    "#include <stdio.h>\n",
    "#include <stdlib.h>\n",
    "\n",
    "// Create node\n",
    "struct node\n",
    "{\n",
    "\tint node_number;\n",
    "    int node_data;\n",
    "    struct node *right;\n",
    "    struct node *left;\n",
    "};\n",
    "\n",
    "struct node *CreateBST(struct node *root, int node_data, int node_number)\n",
    "{\n",
    "\t// If tree is empty, then current node becomes root\n",
    "    if (root == NULL)\n",
    "    {\n",
    "        root = (struct node *)malloc(sizeof(struct node));\n",
    "        \n",
    "        // Initialize children to NULL\n",
    "\t\troot->left = root->right = NULL;\n",
    "\t\t\n",
    "        // Initialize data\n",
    "        root->node_data = node_data;\n",
    "\t\troot->node_number = node_number;\n",
    "        \n",
    "\t\treturn root;\n",
    "    }\n",
    "    \n",
    "    // Create nodes for left child\n",
    "    if (node_data < root->node_data )\n",
    "\t\troot->left = CreateBST(root->left, node_data, node_number);\n",
    "\t// Create nodes for right child\t\n",
    "    else if(node_data > root->node_data )\n",
    "        root->right = CreateBST(root->right, node_data, node_number);\n",
    "    // Duplicates aren't allowed    \n",
    "\telse\n",
    "        printf(\" Duplicate Element !! Not Allowed !!!\");\n",
    "    // Return current node\n",
    "    return(root);\n",
    "}\n",
    "\n",
    "void Inorder(struct node *root)\n",
    "{\n",
    "    if( root != NULL)\n",
    "    {\n",
    "\t\tInorder(root->left);\n",
    "        printf(\" Node%d-%d \", root->node_number, root->node_data);\n",
    "\t\tInorder(root->right);\n",
    "    }\n",
    "}\n",
    "\n",
    "void Preorder(struct node *root)\n",
    "{\n",
    "    if( root != NULL)\n",
    "    {\n",
    "        printf(\" Node%d-%d \", root->node_number, root->node_data);\n",
    "        Preorder(root->left);\n",
    "        Preorder(root->right);\n",
    "    }\n",
    "}\n",
    "\n",
    "struct node *SearchForNode(struct node *root, int node_data)\n",
    "{\n",
    "\tif (root == NULL || root->node_data == node_data)\n",
    "\t{\n",
    "\t\treturn root;\n",
    "\t}\n",
    "\t\n",
    "    // What we have is > than what we want so we go left\n",
    "\tif (root->node_data > node_data)\n",
    "\t\treturn SearchForNode(root->left, node_data);\n",
    "\t// Otherwise, what we have is < than what we want so we go right\t\n",
    "    else\n",
    "\t\treturn SearchForNode(root->right, node_data);\n",
    "}\n",
    "\n",
    "void Postorder(struct node *root)\n",
    "{\n",
    "    if( root != NULL)\n",
    "    {\n",
    "        Postorder(root->left);\n",
    "        Postorder(root->right);\n",
    "        printf(\" Node%d-%d \", root->node_number, root->node_data);\n",
    "    }\n",
    "}\n",
    "\n",
    "int main(void)\n",
    "{\n",
    "    struct node *root = NULL;\n",
    "\tstruct node *SearchNode = NULL;\n",
    "    \n",
    "\treturn 0;\n",
    "}"
   ]
  }
 ],
 "metadata": {
  "kernelspec": {
   "display_name": "C",
   "language": "c",
   "name": "c"
  },
  "language_info": {
   "file_extension": ".c",
   "mimetype": "text/plain",
   "name": "c"
  }
 },
 "nbformat": 4,
 "nbformat_minor": 2
}
