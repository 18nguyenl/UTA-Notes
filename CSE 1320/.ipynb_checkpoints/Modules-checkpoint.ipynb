{
 "cells": [
  {
   "cell_type": "markdown",
   "metadata": {},
   "source": [
    "# Modules and External Variables"
   ]
  },
  {
   "cell_type": "markdown",
   "metadata": {},
   "source": [
    "## Global Variables Review\n",
    "* can be referenced by more than one function\n",
    "* defined outside function or compound statement blocks\n",
    "* defined before all functions in source code file\n",
    "* can be referenced by all functions in that file\n",
    "* in existence during full execution time of program"
   ]
  },
  {
   "cell_type": "markdown",
   "metadata": {},
   "source": [
    "## More on Global Variables\n",
    "* known from point of declaration to end of source file\n",
    " * they can be referenced from functions below their declaration\n",
    "* they exist during full runtime of program\n",
    "* they have *external linkage*\n",
    " * they can be referenced in other source code\n",
    "* code in other source files can import and declare (but not define) a global variable by using the storage class `extern`"
   ]
  },
  {
   "cell_type": "markdown",
   "metadata": {},
   "source": [
    "#### Module 1\n",
    "```C\n",
    "int VarC;\n",
    "int VarD;\n",
    "extern int VarA;\n",
    "extern int VarF;\n",
    "\n",
    "int FuncB()\n",
    "{\n",
    "    VarA = 1;\n",
    "}\n",
    "int FuncC()\n",
    "{\n",
    "    VarF = 2;\n",
    "}\n",
    "```\n",
    "\n",
    "#### Module 2\n",
    "```C\n",
    "#include <stdio.h>\n",
    "\n",
    "int VarA;\n",
    "int VarB;\n",
    "extern int VarC;\n",
    "extern int VarE;\n",
    "\n",
    "int main(void)\n",
    "{\n",
    "    VarC = 3;\n",
    "    VarE = 4;\n",
    "}\n",
    "```\n",
    "\n",
    "#### Module 3\n",
    "```C\n",
    "int VarE;\n",
    "int VarF;\n",
    "\n",
    "extern int VarD;\n",
    "extern int VarB;\n",
    "\n",
    "int FuncD()\n",
    "{\n",
    "    VarD = 5;\n",
    "}\n",
    "\n",
    "int FuncA()\n",
    "{\n",
    "    VarB = 6;\n",
    "}\n",
    "```"
   ]
  },
  {
   "cell_type": "markdown",
   "metadata": {},
   "source": [
    "Consider how each of these modules are all in different files yet reference variables defined in each other.\n",
    "\n",
    "Using `extern`, you can use variables defined in other files\n",
    "\n",
    "* by default, a global variable has external linkage\n",
    " * it can be seen by other modules linked to the module where it's declared\n",
    "* what if we want a variable to be global only to one module and not be seen by others?\n",
    " * How do we turn off external linkage?\n",
    "* setting a global variable to `static` disables external linkage\n",
    " * it defeats external linkage visibility"
   ]
  },
  {
   "cell_type": "markdown",
   "metadata": {},
   "source": [
    "## External Linkage in Functions\n",
    "* function names in a function definition is outside and will have external linkage by default\n",
    " * if a function is outside of a function block or scope, it'll have external linkage and can be referenced from some other module\n",
    "* using `static` will hide functions\n",
    " * this disables external linkage on these functions"
   ]
  },
  {
   "cell_type": "markdown",
   "metadata": {},
   "source": [
    "## If you know Java or languages with encapsulation\n",
    "* using `static` is like making a \"global\" variable `private`\n",
    "* global variables have `public` on by default"
   ]
  }
 ],
 "metadata": {
  "kernelspec": {
   "display_name": "C",
   "language": "c",
   "name": "c"
  },
  "language_info": {
   "file_extension": ".c",
   "mimetype": "text/plain",
   "name": "c"
  }
 },
 "nbformat": 4,
 "nbformat_minor": 2
}
