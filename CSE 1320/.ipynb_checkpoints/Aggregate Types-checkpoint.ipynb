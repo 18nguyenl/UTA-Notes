{
 "cells": [
  {
   "cell_type": "markdown",
   "metadata": {},
   "source": [
    "# Aggregate Types"
   ]
  },
  {
   "cell_type": "markdown",
   "metadata": {},
   "source": [
    "# Structure\n",
    "* can concurrently hold multiple data values of diff types"
   ]
  },
  {
   "cell_type": "code",
   "execution_count": 4,
   "metadata": {},
   "outputs": [],
   "source": [
    "#include <stdio.h>\n",
    "\n",
    "int main(void) {\n",
    "    \n",
    "    // This is how you name and define a \"struct\" using the \"struct\" keyword\n",
    "    struct tshirt\n",
    "    {\n",
    "        char size[5];\n",
    "        char color[10];\n",
    "        char design[100];\n",
    "        char fittype;\n",
    "        float price;\n",
    "        int inventory_level;\n",
    "    };\n",
    "    \n",
    "    // You can use it like an user-defined type and declare variables normally\n",
    "    struct tshirt MyTShirts;\n",
    "    struct tshirt YourTShirts;\n",
    "    struct tshirt TheirTShirts;\n",
    "    struct tshirt OurTShirts;\n",
    "    struct tshirt NobodysTShirts;\n",
    "    \n",
    "    return 0;\n",
    "}"
   ]
  },
  {
   "cell_type": "markdown",
   "metadata": {},
   "source": [
    "## Initializing Structures"
   ]
  },
  {
   "cell_type": "code",
   "execution_count": 3,
   "metadata": {},
   "outputs": [],
   "source": [
    "#include <stdio.h>\n",
    "\n",
    "int main(void) {\n",
    "    struct tshirt\n",
    "    {\n",
    "        char size[5];\n",
    "        char color[10];\n",
    "        char design[100];\n",
    "        char fittype;\n",
    "        float price;\n",
    "        int inventory_level;\n",
    "    };\n",
    "    \n",
    "    // You can initialize values at the same time a struct is declared\n",
    "    struct tshirt NobodysTShirts;\n",
    "    struct tshirt YourTShirts = {};\n",
    "    struct tshirt TheirTShirts = {\"S\"};\n",
    "    struct tshirt OurTShirts = {\"\",\"GREEN\"};\n",
    "    struct tshirt MyTShirts = {\"XS\", \"BLUE\", \"DISNEY\", 'Y', 14.99, 1987};\n",
    "    \n",
    "    return 0;\n",
    "}"
   ]
  },
  {
   "cell_type": "markdown",
   "metadata": {},
   "source": [
    "## Other Syntax for Declaring and Defining Variables for Structures"
   ]
  },
  {
   "cell_type": "code",
   "execution_count": 5,
   "metadata": {},
   "outputs": [],
   "source": [
    "#include <stdio.h>\n",
    "\n",
    "int main(void) {\n",
    "    struct tshirt1\n",
    "    {\n",
    "        char size[5];\n",
    "        char color[10];\n",
    "        char design[100];\n",
    "        char fittype;\n",
    "        float price;\n",
    "        int inventory_level;\n",
    "    };\n",
    "    \n",
    "    // You can define struct variables like this\n",
    "    struct tshirt1 MyTShirts, YourTShirts;\n",
    "    \n",
    "    // How to do the above in shorthand\n",
    "    struct tshirt2\n",
    "    {\n",
    "        char size[5];\n",
    "        char color[10];\n",
    "        char design[100];\n",
    "        char fittype;\n",
    "        float price;\n",
    "        int inventory_level;\n",
    "    }\n",
    "    TheirTShirts, OurTShirts;\n",
    "    return 0;\n",
    "}"
   ]
  },
  {
   "cell_type": "markdown",
   "metadata": {},
   "source": [
    "## One time use structures"
   ]
  },
  {
   "cell_type": "markdown",
   "metadata": {},
   "source": [
    "The above examples have a name `tshirt` applied to the structure. This makes a structure reusable. Without the name, you can only define and use the structure once.\n",
    "```C\n",
    "struct {\n",
    "    char size[5];\n",
    "    char color[10];\n",
    "    char design[100];\n",
    "    char fittype;\n",
    "    float price;\n",
    "    int inventory_level;\n",
    "}\n",
    "TheirTShirts, OurTShirts;\n",
    "```\n",
    "The above example creates a 1 time use struct that's immediately stored into `TheirTShirts` and `OurTShirts`"
   ]
  },
  {
   "cell_type": "markdown",
   "metadata": {},
   "source": [
    "## Restrictions on a structure"
   ]
  },
  {
   "cell_type": "markdown",
   "metadata": {},
   "source": [
    "* a member of a strucutre cannot be a function\n",
    "* a structure can't nest a structure of its own type \n",
    " * you can't nest a `tshirt` inside a `tshirt` structure"
   ]
  },
  {
   "cell_type": "markdown",
   "metadata": {},
   "source": [
    "# Operations of a Structure"
   ]
  },
  {
   "cell_type": "code",
   "execution_count": 10,
   "metadata": {},
   "outputs": [
    {
     "name": "stdout",
     "output_type": "stream",
     "text": [
      "M\n",
      "Red\n",
      "Marvel\n",
      "Y\n",
      "15.750000\n",
      "250\n"
     ]
    }
   ],
   "source": [
    "#include <stdio.h>\n",
    "\n",
    "int main(void) {\n",
    "    struct tshirt\n",
    "    {\n",
    "        char size[5];\n",
    "        char color[10];\n",
    "        char design[100];\n",
    "        char fittype;\n",
    "        float price;\n",
    "        int inventory_level;\n",
    "    };\n",
    "    \n",
    "    // Setting values to structure\n",
    "    struct tshirt MyTShirts = {\"M\", \"Red\", \"Marvel\", 'Y', 15.75, 250};    \n",
    "    \n",
    "    /*\n",
    "    You cannot do this \n",
    "    MyTShirts = {\"M\", \"Red\", \"Marvel\", \"Y\", 15.75, 250}; \n",
    "    */\n",
    "    \n",
    "    /* \n",
    "    You cannot assign values like this\n",
    "    MyTShirts.size = \"M\";\n",
    "    MyTShirts.color = \"Red\";\n",
    "    MyTShirts.design = \"Marvel\";\n",
    "    MyTShirts.fittype = \"Y\";\n",
    "    MyTShirts.price = 15.75;\n",
    "    MyTShirts.inventory_level = 250;\n",
    "    */\n",
    "    \n",
    "    // Accessing structure content\n",
    "    printf(\"%s\\n\", MyTShirts.size);\n",
    "    printf(\"%s\\n\", MyTShirts.color);\n",
    "    printf(\"%s\\n\", MyTShirts.design);\n",
    "    printf(\"%c\\n\", MyTShirts.fittype);\n",
    "    printf(\"%f\\n\", MyTShirts.price);\n",
    "    printf(\"%d\\n\", MyTShirts.inventory_level);\n",
    "    \n",
    "    return 0;\n",
    "}"
   ]
  },
  {
   "cell_type": "markdown",
   "metadata": {},
   "source": [
    "* very few operations operate on structures as a whole\n",
    "* the selection operator, `.`, access a single member\n",
    "* the assignment operator, `=`, assigns content from 1 structure to another\n",
    " * a `struct` can only be assigned another `struct`\n",
    "* the address operator, `&`, can be used w/ a structure variable in most interfaces \n",
    "* `sizeof()` operator is defined for `struct`"
   ]
  },
  {
   "cell_type": "markdown",
   "metadata": {},
   "source": [
    "# Arrays of Structures\n",
    "Super straightforward. Each cell of the array has a structure. You can access and use these by combining the `[]` and `.` operators."
   ]
  },
  {
   "cell_type": "markdown",
   "metadata": {},
   "source": [
    "# Pointers to Structures"
   ]
  },
  {
   "cell_type": "code",
   "execution_count": 1,
   "metadata": {},
   "outputs": [
    {
     "name": "stdout",
     "output_type": "stream",
     "text": [
      "DCComicsTShirts[3].design\tAQUAMAN\n",
      "*(tshirtarrayptr).design\tAQUAMAN\n",
      "\n",
      "tshirtarrayptr->design\tAQUAMAN\n"
     ]
    }
   ],
   "source": [
    "#include <stdio.h>\n",
    "\n",
    "int main(void) {\n",
    "    struct tshirt\n",
    "    {\n",
    "        char size[5];\n",
    "        char color[10];\n",
    "        char design[100];\n",
    "        char fittype;\n",
    "        float price;\n",
    "        int inventory_level;\n",
    "    };\n",
    "    \n",
    "    struct tshirt DCComicsTShirts[5] = {{\"XS\",\"BLACK\",\"BATMAN\",'Y',12.99,198},\n",
    "                                        {\"S\",\"BLUE\",\"SUPERMAN\",'M',24.99,34},\n",
    "                                        {\"M\",\"RED\",\"WONDER WOMAN\",'W',27.99,87},\n",
    "                                        {\"L\",\"YELLOW\",\"AQUAMAN\",'M',26.99,65},\n",
    "                                        {\"XL\",\"GREEN\",\"GREEN LANTERN\",'Y',15.99,81}\n",
    "                                       };\n",
    "    struct tshirt *tshirtarrayptr;\n",
    "    tshirtarrayptr = &DCComicsTShirts[3];\n",
    "    \n",
    "    // () needed because \".\" operator has more precedence than \"()\"\n",
    "    printf(\"DCComicsTShirts[3].design\\t%s\\n\", DCComicsTShirts[3].design);\n",
    "    printf(\"*(tshirtarrayptr).design\\t%s\\n\", (*tshirtarrayptr).design);\n",
    "    \n",
    "    // (*structure).member == structure->member\n",
    "    printf(\"\\ntshirtarrayptr->design\\t%s\\n\", tshirtarrayptr->design);\n",
    "\n",
    "    return 0;\n",
    "}"
   ]
  },
  {
   "cell_type": "markdown",
   "metadata": {},
   "source": [
    "## Structures in Memory\n",
    "![This picture explains this topic well](Images/Aggregate Types/structures_in_memory.png)"
   ]
  },
  {
   "cell_type": "markdown",
   "metadata": {},
   "source": [
    "## Passing Structures to Functions\n",
    "* when passing `struct*` to function allows `struct` to be available to function\n",
    "* when `struct*` passed to function, the function can access or modify the information"
   ]
  },
  {
   "cell_type": "markdown",
   "metadata": {},
   "source": [
    "# Unions"
   ]
  },
  {
   "cell_type": "markdown",
   "metadata": {},
   "source": [
    "### Similarity to structures\n",
    "* can hold members of diff. types\n",
    "* rules declare `union` same as `struct`\n",
    " * list of members declared\n",
    " * members of a union can't be a function or contain a `union` of its own type\n",
    "* arrays & pointers of `union` allowed\n",
    "* the `->` member selection usable w/ unions  \n",
    "### Differences to structures\n",
    "* will contain only 1 of its members at any given instance (doesn't contain all)\n",
    "* storage allocated to largest member instead of all\n",
    "* when value assigned to member, it overrides previous value\n",
    " * there is no member-value retention\n",
    "### Other Notes\n",
    "* You can write and use `union` syntactically similar to `struct`\n",
    "* You only need to be aware of the differences and its uses\n",
    "### Warnings\n",
    "* There's no automati way to determine which member is being used in an union\n",
    " * It is up to the programmer to keep track\n",
    "* members can be accessed anytime\n",
    " * contents of a member may not be meaningful if another menmber was recently assigned"
   ]
  },
  {
   "cell_type": "markdown",
   "metadata": {},
   "source": [
    "# Bit Fields\n",
    "* allows different members of a `struct` or `union` to be packed into 1 word of memory\n",
    "* in theory, compiler will try to pack as many bit fields as possible into 1 word of memory\n",
    "* a particular implementation may limit the bits limiting a bit field\n",
    " * usually it maximizes at 1 word\n",
    " * so some non-standard C implementation may make 32 bits as 1 word or 64 bits on 1 word\n",
    " * it just depends basically\n",
    "* you use bit fields when memory is limited"
   ]
  },
  {
   "cell_type": "code",
   "execution_count": 10,
   "metadata": {},
   "outputs": [
    {
     "name": "stderr",
     "output_type": "stream",
     "text": [
      "/tmp/tmp62dg0mbr.c: In function ‘main’:\n",
      "/tmp/tmp62dg0mbr.c:34:15: warning: unsigned conversion from ‘int’ to ‘unsigned char:4’ changes value from ‘16’ to ‘0’ [-Woverflow]\n",
      "     flag2.A = 16;\n",
      "               ^~\n"
     ]
    },
    {
     "name": "stdout",
     "output_type": "stream",
     "text": [
      "Var1 = 15\tVar2 = 7\n",
      "flag.A = 15\tflag.B = 7\n",
      "\n",
      "sizeof() Var1+Var2 = 8\n",
      "sizeof() flag = 4\n",
      "\n",
      "Overflow examples\n",
      "Var1 = 15\tVar2 = 7\n",
      "flag.A = 0\tflag.B = -8\n",
      "\n"
     ]
    }
   ],
   "source": [
    "#include <stdio.h>\n",
    "\n",
    "int main (void) {\n",
    "    struct\n",
    "    {\n",
    "        // You create bit fields using \":\" operator\n",
    "        // This says make an unsigned int that allocates 4 bits (the maximum value would be 15) considering the way binary and bits work\n",
    "        unsigned int A : 4;\n",
    "        int B : 4;\n",
    "    }\n",
    "    flag1;\n",
    "    \n",
    "    int Var1 = 15, Var2 = 7;\n",
    "    flag1.A = 15;\n",
    "    flag1.B = 7;\n",
    "    printf(\"Var1 = %d\\tVar2 = %d\\n\"\n",
    "        \"flag.A = %d\\tflag.B = %d\\n\\n\",\n",
    "    Var1, Var2, flag1.A, flag1.B);\n",
    "    \n",
    "    // sizeof() will report to sizeof() data type, not the actual amount of bits being used\n",
    "    printf(\"sizeof() Var1+Var2 = %d\\n\",\n",
    "        sizeof(Var1)+sizeof(Var2));\n",
    "    printf(\"sizeof() flag = %d\\n\", sizeof(flag1));\n",
    "    \n",
    "    // Example 2\n",
    "    struct\n",
    "    {\n",
    "        unsigned int A : 4;\n",
    "        int B : 4;\n",
    "    }\n",
    "    flag2;\n",
    "    \n",
    "    // This is what happens when you overflow\n",
    "    flag2.A = 16;\n",
    "    flag2.B = 8;\n",
    "    \n",
    "    printf(\"\\nOverflow examples\\n\");\n",
    "    printf(\"Var1 = %d\\tVar2 = %d\\n\"\n",
    "        \"flag.A = %d\\tflag.B = %d\\n\\n\",\n",
    "    Var1, Var2, flag2.A, flag2.B);\n",
    "    \n",
    "    return 0;\n",
    "}"
   ]
  },
  {
   "cell_type": "markdown",
   "metadata": {},
   "source": [
    "* As shown above, overflowing results in the two's complement of the bit field value\n",
    "* an warning will be thrown if you attempt this"
   ]
  },
  {
   "cell_type": "markdown",
   "metadata": {},
   "source": [
    "## Bit Field Disadvantages\n",
    "* you can't use sizeof() on a bit field\n",
    "* you pack more variables in a smaller space so compiler must generate additional code to manipulate variables\n",
    " * this increases time and space complexity\n",
    "* saves data space but increases in executable size and run time "
   ]
  },
  {
   "cell_type": "markdown",
   "metadata": {},
   "source": [
    "# Typedef Structures"
   ]
  },
  {
   "cell_type": "code",
   "execution_count": null,
   "metadata": {},
   "outputs": [],
   "source": []
  }
 ],
 "metadata": {
  "kernelspec": {
   "display_name": "C",
   "language": "c",
   "name": "c"
  },
  "language_info": {
   "file_extension": ".c",
   "mimetype": "text/plain",
   "name": "c"
  }
 },
 "nbformat": 4,
 "nbformat_minor": 2
}
