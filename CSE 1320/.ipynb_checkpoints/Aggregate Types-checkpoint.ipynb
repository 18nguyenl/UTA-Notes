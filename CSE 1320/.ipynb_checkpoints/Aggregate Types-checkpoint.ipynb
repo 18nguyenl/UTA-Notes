{
 "cells": [
  {
   "cell_type": "markdown",
   "metadata": {},
   "source": [
    "# Aggregate Types"
   ]
  },
  {
   "cell_type": "markdown",
   "metadata": {},
   "source": [
    "# Structure\n",
    "* can concurrently hold multiple data values of diff types"
   ]
  },
  {
   "cell_type": "code",
   "execution_count": 4,
   "metadata": {},
   "outputs": [],
   "source": [
    "#include <stdio.h>\n",
    "\n",
    "int main(void) {\n",
    "    \n",
    "    // This is how you name and define a \"struct\" using the \"struct\" keyword\n",
    "    struct tshirt\n",
    "    {\n",
    "        char size[5];\n",
    "        char color[10];\n",
    "        char design[100];\n",
    "        char fittype;\n",
    "        float price;\n",
    "        int inventory_level;\n",
    "    };\n",
    "    \n",
    "    // You can use it like an user-defined type and declare variables normally\n",
    "    struct tshirt MyTShirts;\n",
    "    struct tshirt YourTShirts;\n",
    "    struct tshirt TheirTShirts;\n",
    "    struct tshirt OurTShirts;\n",
    "    struct tshirt NobodysTShirts;\n",
    "    \n",
    "    return 0;\n",
    "}"
   ]
  },
  {
   "cell_type": "markdown",
   "metadata": {},
   "source": [
    "## Initializing Structures"
   ]
  },
  {
   "cell_type": "code",
   "execution_count": 3,
   "metadata": {},
   "outputs": [],
   "source": [
    "#include <stdio.h>\n",
    "\n",
    "int main(void) {\n",
    "    struct tshirt\n",
    "    {\n",
    "        char size[5];\n",
    "        char color[10];\n",
    "        char design[100];\n",
    "        char fittype;\n",
    "        float price;\n",
    "        int inventory_level;\n",
    "    };\n",
    "    \n",
    "    // You can initialize values at the same time a struct is declared\n",
    "    struct tshirt NobodysTShirts;\n",
    "    struct tshirt YourTShirts = {};\n",
    "    struct tshirt TheirTShirts = {\"S\"};\n",
    "    struct tshirt OurTShirts = {\"\",\"GREEN\"};\n",
    "    struct tshirt MyTShirts = {\"XS\", \"BLUE\", \"DISNEY\", 'Y', 14.99, 1987};\n",
    "    \n",
    "    return 0;\n",
    "}"
   ]
  },
  {
   "cell_type": "markdown",
   "metadata": {},
   "source": [
    "## Other Syntax for Declaring and Defining Variables for Structures"
   ]
  },
  {
   "cell_type": "code",
   "execution_count": 5,
   "metadata": {},
   "outputs": [],
   "source": [
    "#include <stdio.h>\n",
    "\n",
    "int main(void) {\n",
    "    struct tshirt1\n",
    "    {\n",
    "        char size[5];\n",
    "        char color[10];\n",
    "        char design[100];\n",
    "        char fittype;\n",
    "        float price;\n",
    "        int inventory_level;\n",
    "    };\n",
    "    \n",
    "    // You can define struct variables like this\n",
    "    struct tshirt1 MyTShirts, YourTShirts;\n",
    "    \n",
    "    // How to do the above in shorthand\n",
    "    struct tshirt2\n",
    "    {\n",
    "        char size[5];\n",
    "        char color[10];\n",
    "        char design[100];\n",
    "        char fittype;\n",
    "        float price;\n",
    "        int inventory_level;\n",
    "    }\n",
    "    TheirTShirts, OurTShirts;\n",
    "    return 0;\n",
    "}"
   ]
  },
  {
   "cell_type": "markdown",
   "metadata": {},
   "source": [
    "## One time use structures"
   ]
  },
  {
   "cell_type": "markdown",
   "metadata": {},
   "source": [
    "The above examples have a name `tshirt` applied to the structure. This makes a structure reusable. Without the name, you can only define and use the structure once.\n",
    "```C\n",
    "struct {\n",
    "    char size[5];\n",
    "    char color[10];\n",
    "    char design[100];\n",
    "    char fittype;\n",
    "    float price;\n",
    "    int inventory_level;\n",
    "}\n",
    "TheirTShirts, OurTShirts;\n",
    "```\n",
    "The above example creates a 1 time use struct that's immediately stored into `TheirTShirts` and `OurTShirts`"
   ]
  },
  {
   "cell_type": "markdown",
   "metadata": {},
   "source": [
    "## Restrictions on a structure"
   ]
  },
  {
   "cell_type": "markdown",
   "metadata": {},
   "source": [
    "* a member of a strucutre cannot be a function\n",
    "* a structure can't nest a structure of its own type \n",
    " * you can't nest a `tshirt` inside a `tshirt` structure"
   ]
  }
 ],
 "metadata": {
  "kernelspec": {
   "display_name": "C",
   "language": "c",
   "name": "c"
  },
  "language_info": {
   "file_extension": ".c",
   "mimetype": "text/plain",
   "name": "c"
  }
 },
 "nbformat": 4,
 "nbformat_minor": 2
}
