{
 "cells": [
  {
   "cell_type": "markdown",
   "metadata": {},
   "source": [
    "# Linked List"
   ]
  },
  {
   "cell_type": "markdown",
   "metadata": {},
   "source": [
    "* linked list is linear data structure consisting og groups of nodes in a sequence\n",
    "* each node holds its own data and address of next node\n",
    "  * this forms chain-like structure\n",
    "  \n",
    "| Advantages                                                  | Disadvantages                                             |\n",
    "|-------------------------------------------------------------|-----------------------------------------------------------|\n",
    "| Dynamic; therefore, only allocate memory when required      | Memory is wasted due to extra storage needed for pointers |\n",
    "| Insertion and deletion operations can easily be implemented | No element can be accessed randomly - sequential access   |\n",
    "| Stacks and queues can be easily executed                    |                                                           |\n",
    "\n",
    "![Single Linked List](Images/Data Structures/Single_Linked_List.png)  \n",
    "![Double Linked List](Images/Data Structures/Double_Linked_List.png)  \n",
    "![Circular Linked List](Images/Data Structures/Circular_Linked_List.png)  "
   ]
  },
  {
   "cell_type": "markdown",
   "metadata": {},
   "source": [
    "## Creating a LinkedList Part by Part"
   ]
  },
  {
   "cell_type": "markdown",
   "metadata": {},
   "source": [
    "## Behavior of memory in LinkedList\n",
    "* We are using a heap\n",
    "* It does not point consecutively\n",
    "* It points to memory randomly (I mean... dynamic memory)"
   ]
  },
  {
   "cell_type": "markdown",
   "metadata": {},
   "source": [
    "## 1. Create the Head node"
   ]
  },
  {
   "cell_type": "markdown",
   "metadata": {},
   "source": [
    "```C\n",
    "struct node {\n",
    "    int node_number; // This is an example of containing data... it could contain many types of data\n",
    "    struct node *next_ptr; // A point to a struct is ok as long as it's not of struct type\n",
    "}\n",
    "\n",
    "int main(void) {\n",
    "    struct node *LinkedListHead; // ptr to head of list (the start)\n",
    "    LinkedListHead = NULL; // Initialize to NULL\n",
    "}\n",
    "```"
   ]
  },
  {
   "cell_type": "markdown",
   "metadata": {},
   "source": [
    "## 2. Create the LinkedList"
   ]
  },
  {
   "cell_type": "markdown",
   "metadata": {},
   "source": [
    "```C\n",
    "void CreateList(struct node *LinkedListHead, int data) {\n",
    "    struct node *TempPtr; // Create ptr for this node\n",
    "    \n",
    "    TempPtr = malloc(sizeof(struct node)); // Allocate memory the size of a node\n",
    "    \n",
    "    // Initialize the data inside node\n",
    "    TempPtr->node_number = data;\n",
    "    TempPtr->next_ptr = NULL; // There not a next node, so it points to NULL'\n",
    "    \n",
    "    // If the LinkedList is empty, point to this node\n",
    "    if (LinkedListHead == NULL) {\n",
    "        LinkedListHead = TempPtr;\n",
    "    }\n",
    "}\n",
    "```"
   ]
  },
  {
   "cell_type": "markdown",
   "metadata": {},
   "source": [
    "## 3. Add a node to the end"
   ]
  },
  {
   "cell_type": "markdown",
   "metadata": {},
   "source": [
    "```C\n",
    "void AddNode(struct node *LinkedListHead, int data) {\n",
    "    struct node *TempPtr, *NewNode; // Create ptr for this node\n",
    "    NewNode = malloc(sizeof(struct node)); // Allocate memory the size of a node\n",
    "    \n",
    "    // Initialize the data inside node\n",
    "    NewNode->node_number = data;\n",
    "    NewNOde->next_ptr = NULL; // There not a next node, so it points to NULL\n",
    "    \n",
    "    TempPtr = LinkedListHead; // Start at the head\n",
    "    \n",
    "    // Traverse linked list to find end node\n",
    "    while (TempPtr->next_ptr != NULL)\n",
    "        TempPtr = TempPtr->next_ptr;\n",
    "    \n",
    "    // Change the end node to point to the new node\n",
    "    TempPtr->next_ptr = NewNode;\n",
    "}\n",
    "```"
   ]
  },
  {
   "cell_type": "markdown",
   "metadata": {},
   "source": [
    "## 4. Inserting a Node"
   ]
  },
  {
   "cell_type": "markdown",
   "metadata": {},
   "source": [
    "```C\n",
    "void InsertNode(int NodeNumberToInsert, int InsertAfterNodeNumber, struct node **LinkedListHead)\n",
    "{\n",
    "    int NodeAdded = 0;\n",
    "    struct node *TempPtr, *NewNode;\n",
    "    \n",
    "\tTempPtr = *LinkedListHead;\n",
    "\t\n",
    "\t/* Traverse the list and find where to insert the new node */\n",
    "\twhile (TempPtr != NULL)\n",
    "\t{\n",
    "\t\t/* we found the node so insert the new one */\n",
    "        // This assumes if we have attached an IDentifier to a node\n",
    "\t\tif (TempPtr->node_number == InsertAfterNodeNumber)\n",
    "\t\t{\n",
    "\t\t\tNewNode = malloc(sizeof(struct node));\n",
    "\t\t\tNewNode->node_number = NodeNumberToInsert;\\\n",
    "            /* Insert new node in front of the old one */\n",
    "            // The new pointer points to what the original was point to next\n",
    "\t\t\tNewNode->next_ptr = TempPtr->next_ptr;\n",
    "            // The old pointer point sto the new pointer\n",
    "\t\t\tTempPtr->next_ptr = NewNode;\n",
    "            // A swap-like behavior just occurred \n",
    "\n",
    "\t\t\tNodeAdded = 1;\n",
    "\t\t\tbreak;\n",
    "\t\t}\n",
    "\t\t\t\n",
    "\t\t/* we did not find the node so keep traversing the list */\n",
    "\t\tTempPtr = TempPtr->next_ptr;\n",
    "\t}\n",
    "\n",
    "\t/* if the to-add-after node was not found, then print error message */\n",
    "\tif (!NodeAdded)\n",
    "\t\tprintf(\"Node %d not found - Node %d not added.\\n\\n\",\n",
    "\t            InsertAfterNodeNumber, NodeNumberToInsert);\n",
    "}\n",
    "```"
   ]
  },
  {
   "cell_type": "markdown",
   "metadata": {},
   "source": [
    "## 5. Display Linked List"
   ]
  },
  {
   "cell_type": "markdown",
   "metadata": {},
   "source": [
    "```C\n",
    "void DisplayLinkedList(struct node *LinkedListHead)\n",
    "{\n",
    "\tstruct node *TempPtr;\n",
    "    TempPtr = LinkedListHead;\n",
    "\n",
    "\t/* Linked list is empty */\n",
    "    if (TempPtr == NULL)\n",
    "    {\n",
    "\t\treturn;\n",
    "    }\n",
    "\n",
    "\t/* Traverse the linked list and display the node number */\n",
    "    while (TempPtr != NULL)\n",
    "    {\n",
    "\t\tprintf(\"\\nNode Number %d\\t\\tNode Address %p     Node Next Pointer %p\\n\", \n",
    "\t\t        TempPtr->node_number, TempPtr, TempPtr->next_ptr);\n",
    "\t\tTempPtr = TempPtr->next_ptr;\n",
    "    }\n",
    "}\n",
    "\n",
    "```"
   ]
  },
  {
   "cell_type": "markdown",
   "metadata": {},
   "source": [
    "## 6. Count Nodes"
   ]
  },
  {
   "cell_type": "markdown",
   "metadata": {},
   "source": [
    "```C\n",
    "// This kinda calculates the .size() of this List\n",
    "int CountNodes(struct node *LinkedListHead)\n",
    "{\n",
    "    struct node *TempPtr;\n",
    "    int node_count = 0;\n",
    "    \n",
    "\tTempPtr = LinkedListHead;\n",
    "\t\n",
    "\t/* Traverse the list until finding the node pointing at NULL */\n",
    "    while (TempPtr != NULL)\n",
    "    {\n",
    "\t\tTempPtr = TempPtr->next_ptr;\n",
    "\t\tnode_count++;\n",
    "    }\n",
    "\t\n",
    "    return node_count;\n",
    "}\n",
    "```"
   ]
  },
  {
   "cell_type": "markdown",
   "metadata": {},
   "source": [
    "## 7. Delete Node"
   ]
  },
  {
   "cell_type": "markdown",
   "metadata": {},
   "source": [
    "```C\n",
    "int DeleteNode(int NumberOfNodeToDelete, struct node **LinkedListHead)\n",
    "{\n",
    "    struct node *TempPtr, *PreviousNode;\n",
    "    \n",
    "\tTempPtr = *LinkedListHead;\n",
    "    \n",
    "    // Traverse List\n",
    "\twhile (TempPtr != NULL)\n",
    "    {\n",
    "        // We found what we want to delete!\n",
    "\t\tif (TempPtr->node_number == NumberOfNodeToDelete)\n",
    "\t\t{\n",
    "\t\t\t/* If the node being deleted is the head node */\n",
    "\t\t\tif (TempPtr == *LinkedListHead)\n",
    "\t\t\t{\n",
    "\t\t\t\t/* The node the head was pointing at is now the head */\n",
    "\t\t\t\t*LinkedListHead = TempPtr->next_ptr;\n",
    "\t\t\t\tfree(TempPtr);\n",
    "\t\t\t\treturn DELETED;\n",
    "\t\t\t}\n",
    "\t\t\t/* Found node to be deleted - node is not the head */\n",
    "\t\t\telse\n",
    "\t\t\t{\n",
    "                // Imagine just skipping pointing to the next node\n",
    "\t\t\t\tPreviousNode->next_ptr = TempPtr->next_ptr;\n",
    "\t\t\t\tfree(TempPtr);\n",
    "\t\t\t\treturn DELETED;\n",
    "\t\t\t}\n",
    "\t\t}\n",
    "\t\t/* this is not the node that needs to be deleted but save */\n",
    "\t\t/* its info and move to the next node in the linked list  */\n",
    "\t\telse\n",
    "\t\t{\n",
    "            // Save previous node\n",
    "\t\t\tPreviousNode = TempPtr;\n",
    "\t\t\tTempPtr = TempPtr->next_ptr;\n",
    "\t\t}\n",
    "    }\n",
    "\t\n",
    "    return NOTDELETED;\n",
    "}\n",
    "```"
   ]
  }
 ],
 "metadata": {
  "kernelspec": {
   "display_name": "C",
   "language": "c",
   "name": "c"
  },
  "language_info": {
   "file_extension": ".c",
   "mimetype": "text/plain",
   "name": "c"
  }
 },
 "nbformat": 4,
 "nbformat_minor": 2
}
