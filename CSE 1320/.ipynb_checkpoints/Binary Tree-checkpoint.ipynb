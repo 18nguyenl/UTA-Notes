{
 "cells": [
  {
   "cell_type": "markdown",
   "metadata": {},
   "source": [
    "# Binary Trees"
   ]
  },
  {
   "cell_type": "markdown",
   "metadata": {},
   "source": [
    "* non-linear tree-like data structure\n",
    "  * consists of nodes\n",
    "  * ea. node has 2 child nodes\n",
    "    * create branches of tree\n",
    "* 2 children usually called *left* and *right* node\n",
    "* Parent nodes are nodes w/ children\n",
    "* Child nodes can include references to their parents\n",
    "* binary tree organize data hierarchially instead of linear\n",
    "* Binary tree used to implement binary search trees & binary heaps\n",
    "  * Also used for sorting data w/ heap sort\n"
   ]
  },
  {
   "cell_type": "markdown",
   "metadata": {},
   "source": [
    "[!Binary Tree Example](Images/Data Structures/Binary_Trees.png)"
   ]
  }
 ],
 "metadata": {
  "kernelspec": {
   "display_name": "C",
   "language": "c",
   "name": "c"
  },
  "language_info": {
   "file_extension": ".c",
   "mimetype": "text/plain",
   "name": "c"
  }
 },
 "nbformat": 4,
 "nbformat_minor": 2
}
