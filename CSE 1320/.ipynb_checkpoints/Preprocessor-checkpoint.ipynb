{
 "cells": [
  {
   "cell_type": "markdown",
   "metadata": {},
   "source": [
    "# Macros"
   ]
  },
  {
   "cell_type": "markdown",
   "metadata": {},
   "source": [
    "* macro is frag of code which been given name"
   ]
  },
  {
   "cell_type": "markdown",
   "metadata": {},
   "source": [
    "## defining Macros\n",
    "\n",
    "### Similarities in functions\n",
    "* macro *is like* function whre macro consists of C source code\n",
    "\n",
    "### Differences to functions\n",
    "* when program translate to obje code, code from macro expanded in every place whre macro called\n",
    "* code for function remains in separate location in mem\n",
    "* executing funct requires transfer control separate part of object code in mem and transfer control back after function completes\n",
    "* function als has overhead of set up and remove exe env.\n",
    "  * macro not require either of these\n",
    "  \n",
    "### More about macros\n",
    "* handled by preprocess phase\n",
    "* handeld w/ `#define` deriective\n",
    "* Macros can be ceclared w/ params\n",
    "* coding convention for macros to be written in uppercase"
   ]
  },
  {
   "cell_type": "markdown",
   "metadata": {},
   "source": [
    "### Things to watch out\n",
    "* watch out for where you put the space"
   ]
  },
  {
   "cell_type": "code",
   "execution_count": null,
   "metadata": {},
   "outputs": [],
   "source": [
    "#include <stdio.h>\n",
    "\n",
    "int main(void) {\n",
    "    \n",
    "    return 0;\n",
    "}"
   ]
  },
  {
   "cell_type": "markdown",
   "metadata": {},
   "source": [
    "## Preprocessor Debugging\n",
    "```bash\n",
    "$ gcc program.c -E\n",
    "```\n",
    "* the `-E` will reveal the process the preprocessor takes for compiling program"
   ]
  },
  {
   "cell_type": "markdown",
   "metadata": {},
   "source": [
    "# Conditional Compilation\n",
    "#define used to def symbols to compiler\n",
    "#ifdef test whether \n",
    "#lse\n",
    "#elif\n",
    "#endif\n",
    "#ifndef"
   ]
  },
  {
   "cell_type": "markdown",
   "metadata": {},
   "source": [
    "## #if 0 and #endif"
   ]
  },
  {
   "cell_type": "code",
   "execution_count": null,
   "metadata": {},
   "outputs": [],
   "source": [
    "#include <stdio.h>\n",
    "\n",
    "int main(void) {\n",
    "    \n",
    "    return 0;\n",
    "}"
   ]
  },
  {
   "cell_type": "markdown",
   "metadata": {},
   "source": [
    "## Defining\n",
    "```bash\n",
    "gcc program.c -D arg1 arg2 arg3\n",
    "```\n",
    "\n",
    "* `-D` defines values to be used in program\n",
    "  * used with conditional compilation\n",
    "  * used with preprocessor"
   ]
  },
  {
   "cell_type": "code",
   "execution_count": null,
   "metadata": {},
   "outputs": [],
   "source": [
    "#include <stdio.h>\n",
    "\n",
    "int main(void) {\n",
    "    \n",
    "    return 0;\n",
    "}"
   ]
  },
  {
   "cell_type": "markdown",
   "metadata": {},
   "source": [
    "## Include guard\n",
    "* using this prevents \"redefines\""
   ]
  },
  {
   "cell_type": "markdown",
   "metadata": {},
   "source": [
    "## Printing out code after preprocessor compiles\n",
    "```bash\n",
    "gcc programName.c -E\n",
    "```"
   ]
  },
  {
   "cell_type": "markdown",
   "metadata": {},
   "source": [
    "# Conditional Compilation"
   ]
  },
  {
   "cell_type": "markdown",
   "metadata": {},
   "source": [
    "* allows choice of lines to be compiled based on definition of certain symbols @ compile time\n",
    "* preprocessor handles compilation of these lines  \n",
    "Example 1:\n",
    "#### #define"
   ]
  },
  {
   "cell_type": "code",
   "execution_count": 2,
   "metadata": {},
   "outputs": [
    {
     "name": "stdout",
     "output_type": "stream",
     "text": [
      "HI"
     ]
    }
   ],
   "source": [
    "#include <stdio.h>\n",
    "#include <string.h>\n",
    "\n",
    "#define TRUE 1\n",
    "#define FALSE 0\n",
    "\n",
    "int main(void) {\n",
    "    if (TRUE)\n",
    "        printf(\"HI\");\n",
    "    else if (FALSE) \n",
    "        printf(\"BYE\");\n",
    "    \n",
    "    return 0;\n",
    "}"
   ]
  },
  {
   "cell_type": "code",
   "execution_count": 3,
   "metadata": {},
   "outputs": [
    {
     "name": "stdout",
     "output_type": "stream",
     "text": [
      "HI"
     ]
    }
   ],
   "source": [
    "// The preprocessor compiles the above into the below\n",
    "#include <stdio.h>\n",
    "#include <string.h>\n",
    "\n",
    "int main(void) {\n",
    "    if (1)\n",
    "        printf(\"HI\");\n",
    "    else if (0) \n",
    "        printf(\"BYE\");\n",
    "    \n",
    "    return 0;\n",
    "}"
   ]
  },
  {
   "cell_type": "markdown",
   "metadata": {},
   "source": [
    "## Table of Conditional Compilation Syntax\n",
    "| directive | description                                       |\n",
    "|-----------|---------------------------------------------------|\n",
    "| `#define`   | used to define symbols to the compiler            |\n",
    "| `#ifdef`    | tests whether a symbol is defined to the compiler |\n",
    "| `#else`     | provides alternative to `#ifdef`                    |\n",
    "| `#elif`     | used to build compound conditional directives     |\n",
    "| `#endif`    | signals the end of the body of an if directive    |\n",
    "| `#ifndef`   | tests whether a symbol is not defined             |\n",
    "| `#if`       | tests values of constant expressions              |\n",
    "| `defined`   | used in conjunction with `#if` to replace `#ifdef`    |"
   ]
  },
  {
   "cell_type": "markdown",
   "metadata": {},
   "source": [
    "## #if and #endif\n",
    "* `#if 0` and `#endif` can be used comment large chunks of code\n",
    "  * use while still working on program and have parts that unfinished\n",
    "  * allows compilation of current working code"
   ]
  },
  {
   "cell_type": "code",
   "execution_count": 6,
   "metadata": {},
   "outputs": [],
   "source": [
    "#include <stdio.h>\n",
    "#include <string.h>\n",
    "\n",
    "int main(void) {\n",
    "    #if 0\n",
    "    printf(“Hello World”);\n",
    "    I need to add a line here to set x = 3\n",
    "    #endif\n",
    "    return 0;\n",
    "}"
   ]
  },
  {
   "cell_type": "code",
   "execution_count": 57,
   "metadata": {},
   "outputs": [
    {
     "name": "stderr",
     "output_type": "stream",
     "text": [
      "/tmp/tmp9xo562te.c: In function ‘main’:\n",
      "/tmp/tmp9xo562te.c:14:17: error: #elif with no expression\n",
      "  #elif Wednesday\n",
      "                 ^\n",
      "[C kernel] GCC exited with code 1, the executable will not be executed"
     ]
    }
   ],
   "source": [
    "/* Conditional Compilation Demo */\n",
    "#include <stdio.h>\n",
    "#include <string.h>\n",
    "\n",
    "// Try these out!\n",
    "// #define Monday\n",
    "// #define Wednesday... this only woprks in older ANSI C versions :/\n",
    "\n",
    "int main(void)\n",
    "{\n",
    "\tchar DayOfWeek[10];\n",
    "\t#ifdef Monday\n",
    "\t\tstrcpy(DayOfWeek, \"Monday\");\n",
    "\t#elif Wednesday\n",
    "\t\tstrcpy(DayOfWeek, \"Wednesday\");\n",
    "\t#else\n",
    "\t\tstrcpy(DayOfWeek, \"Friday\");\n",
    "\t#endif\n",
    "\n",
    "\tprintf(\"Today is %s\\n\\n\", DayOfWeek);\n",
    "\t\n",
    "\t\n",
    "\treturn 0;\n",
    "}"
   ]
  },
  {
   "cell_type": "markdown",
   "metadata": {},
   "source": [
    "## Defining symbols\n",
    "```bash\n",
    "gcc program_name.cc -D symbol1 symbol2\n",
    "```\n",
    "\n",
    "Example:\n",
    "\n",
    "```bash\n",
    "gcc cconcom1Demo.c -D Monday\n",
    "```\n",
    "\n",
    "would output `Today is Monday` in previous example"
   ]
  },
  {
   "cell_type": "markdown",
   "metadata": {},
   "source": [
    "## include guard"
   ]
  },
  {
   "cell_type": "code",
   "execution_count": 27,
   "metadata": {},
   "outputs": [
    {
     "name": "stderr",
     "output_type": "stream",
     "text": [
      "/tmp/tmp03c4qhxg.c:4:5: error: redefinition of ‘foo’\n",
      " int foo(int b) {\n",
      "     ^~~\n",
      "/tmp/tmp03c4qhxg.c:1:5: note: previous definition of ‘foo’ was here\n",
      " int foo(int a) {\n",
      "     ^~~\n",
      "[C kernel] GCC exited with code 1, the executable will not be executed"
     ]
    }
   ],
   "source": [
    "#include <stdio.h>\n",
    "\n",
    "int foo(int a) {\n",
    "    return a * 2;\n",
    "}\n",
    "int foo(int b) {\n",
    "    return b * 3;\n",
    "}\n",
    "\n",
    "int main(void) {\n",
    "    printf(\"%d\\n\", foo(3));\n",
    "    return 0;\n",
    "}"
   ]
  },
  {
   "cell_type": "code",
   "execution_count": 31,
   "metadata": {},
   "outputs": [
    {
     "name": "stdout",
     "output_type": "stream",
     "text": [
      "6\n"
     ]
    }
   ],
   "source": [
    "#include <stdio.h>\n",
    "\n",
    "#ifndef NAME\n",
    "#define NAME\n",
    "int foo(int a) {\n",
    "    return a * 2;\n",
    "}\n",
    "#endif\n",
    "\n",
    "#ifndef NAME\n",
    "#define NAME\n",
    "int foo(int b) {\n",
    "    return b * 3;\n",
    "}\n",
    "#endif\n",
    "\n",
    "int main(void) {\n",
    "    printf(\"%d\\n\", foo(3));\n",
    "    return 0;\n",
    "}"
   ]
  }
 ],
 "metadata": {
  "kernelspec": {
   "display_name": "C",
   "language": "c",
   "name": "c"
  },
  "language_info": {
   "file_extension": ".c",
   "mimetype": "text/plain",
   "name": "c"
  }
 },
 "nbformat": 4,
 "nbformat_minor": 2
}
