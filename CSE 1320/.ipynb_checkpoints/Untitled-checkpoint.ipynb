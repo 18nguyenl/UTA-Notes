{
 "cells": [
  {
   "cell_type": "markdown",
   "metadata": {},
   "source": [
    "# Hashtable"
   ]
  },
  {
   "cell_type": "markdown",
   "metadata": {},
   "source": [
    "## Key Terms\n",
    "\n",
    "### Associative Array\n",
    "* elements are *key-value*\n",
    "* abstract data type\n",
    "\n",
    "### Hashing\n",
    "* algorithm\n",
    "* takes long key, and makes shorter"
   ]
  },
  {
   "cell_type": "markdown",
   "metadata": {},
   "source": [
    "## Properties of a Hashtable\n",
    "* store keys in aassociative array\n",
    "* instead of linear search, use hash function to access elements\n",
    "  * use hash function directly search\n",
    "  * make O(n) -> O(1)"
   ]
  },
  {
   "cell_type": "markdown",
   "metadata": {},
   "source": [
    "## Hash Function\n",
    "* tells array where to store value\n",
    "\n",
    "### Good hash function\n",
    "* ez to compute\n",
    "* uniform distribution\n",
    "  * no clustering\n",
    "* minimize collision\n",
    "  * unavoidable"
   ]
  },
  {
   "cell_type": "markdown",
   "metadata": {},
   "source": [
    "## Getting Value from Hash Table\n",
    "* Using hash values, directly access"
   ]
  },
  {
   "cell_type": "markdown",
   "metadata": {},
   "source": [
    "## Collision Resolution\n",
    "### Separate Chaining\n",
    "* open hashing\n",
    "* create linked list in collision situation\n",
    "* array of linked-lists\n",
    "\n",
    "## Hashtable-Linked List Properties\n",
    "* keep track of head & tail\n",
    "* set ea LL in HashTable -> null\n",
    "* Adding element algorithm\n",
    "  * get hash value - index\n"
   ]
  }
 ],
 "metadata": {
  "kernelspec": {
   "display_name": "C",
   "language": "c",
   "name": "c"
  },
  "language_info": {
   "file_extension": ".c",
   "mimetype": "text/plain",
   "name": "c"
  }
 },
 "nbformat": 4,
 "nbformat_minor": 2
}
