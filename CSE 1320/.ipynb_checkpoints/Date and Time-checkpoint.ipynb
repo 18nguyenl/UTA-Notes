{
 "cells": [
  {
   "cell_type": "markdown",
   "metadata": {},
   "source": [
    "# Date and Time"
   ]
  },
  {
   "cell_type": "markdown",
   "metadata": {},
   "source": [
    "## time.h\n",
    "* functions that allow program to know current date and time\n",
    "`time()`  \n",
    "* measurement of current time  \n",
    "`ctime()`  \n",
    "* accepts address of value return by `time()` & returns string w/ date in readable format\n",
    "`localtime()`  \n",
    "* accepts address of value returned by `time()` and return a `struct` w/ date broken into its components"
   ]
  },
  {
   "cell_type": "code",
   "execution_count": 7,
   "metadata": {},
   "outputs": [],
   "source": [
    "/* time1 Demo */\n",
    "#include <stdio.h>\n",
    "#include <time.h>\n",
    "\n",
    "int main(void)\n",
    "{\n",
    "    // declaring a variable of type time_t\n",
    "\ttime_t TimetVar1, TimetVar2;\n",
    "\t\n",
    "    // address of variable type time_t. Current calendar time returned in timePtr\n",
    "\tTimetVar1 =  time((time_t *)0);\n",
    "\ttime(&TimetVar2);\n",
    "\t\n",
    "\treturn 0;\n",
    "}"
   ]
  },
  {
   "cell_type": "markdown",
   "metadata": {},
   "source": [
    "## epoch\n",
    "* Unix time (also known as POSIX time or UNIX **Epoch** time)\n",
    "  * system for describing a point in time, defined as num of seconds that have elapsed since\n",
    "  00:00:00 Coordinated Universal Time (UTC), Thursday, 1 January 1970\n",
    "  minus the number of leap seconds that have taken place since then"
   ]
  },
  {
   "cell_type": "markdown",
   "metadata": {},
   "source": [
    "## About UNIX Time and Date\n",
    "* early versions of UNIX measure system time in 1/60th s intervals\n",
    "  * meant 32-bit `uint` could only represent a span of time < 829 days\n",
    "* for this reason, time is represented by number 0 (called the *epoch*) had to be set in very recent past\n",
    "  * this was early 1970s\n",
    "  * the epoch was set to 1971-1-1\n",
    "* Later system time changed to increment every second, which increased span of time that could be represented w/ 32-bit `uint` to around 136 years\n",
    "  * since it no longer important to sqeeze every second out of counter, counter was rounded down the nearest decade becoming 1970-1-1\n",
    "* one must assume this was considered a bit neater than 1971-1-1\n",
    "* note that 32-bit *signed* integer using 1970-1-1 as its epoch can reprsent dates up to 2038-1-19 on which date it will wrap around to 1901-12-13"
   ]
  },
  {
   "cell_type": "markdown",
   "metadata": {},
   "source": [
    "## ctime()\n",
    "* accepts address of value returned by `time()` & returns a string w/ date in readable format"
   ]
  },
  {
   "cell_type": "code",
   "execution_count": 5,
   "metadata": {},
   "outputs": [
    {
     "name": "stdout",
     "output_type": "stream",
     "text": [
      "Tue Nov 13 13:09:47 2018\n",
      "\n"
     ]
    }
   ],
   "source": [
    "#include <stdio.h>\n",
    "#include <time.h>\n",
    "\n",
    "int main(void) {\n",
    "    time_t TimeVar;\n",
    "    char *TimeDateString;\n",
    "    time(&TimeVar);\n",
    "    TimeDateString = ctime(&TimeVar);\n",
    "    \n",
    "    printf(\"%s\\n\", TimeDateString);\n",
    "    return 0;\n",
    "}"
   ]
  },
  {
   "cell_type": "markdown",
   "metadata": {},
   "source": [
    "## localtime()\n",
    "* accepts address of val return by `time()` & returns a `ptr*` to a struct `tm` with the date broken into its components"
   ]
  },
  {
   "cell_type": "code",
   "execution_count": 7,
   "metadata": {},
   "outputs": [],
   "source": [
    "#include <stdio.h>\n",
    "#include <time.h>\n",
    "\n",
    "int main(void) {\n",
    "    time_t TimeVar;\n",
    "    struct tm *TimeDatePtr;\n",
    "    \n",
    "    time(&TimeVar);\n",
    "    \n",
    "    TimeDatePtr = localtime(&TimeVar);\n",
    "}"
   ]
  },
  {
   "cell_type": "markdown",
   "metadata": {},
   "source": [
    "## clock()\n",
    "* returns mreasure of processor time used by program since beginning of executiong\n",
    "\n",
    "```C\n",
    "clock_t ProcessorTime;\n",
    "ProcessorTime = clock();\n",
    "```"
   ]
  }
 ],
 "metadata": {
  "kernelspec": {
   "display_name": "C",
   "language": "c",
   "name": "c"
  },
  "language_info": {
   "file_extension": ".c",
   "mimetype": "text/plain",
   "name": "c"
  }
 },
 "nbformat": 4,
 "nbformat_minor": 2
}
