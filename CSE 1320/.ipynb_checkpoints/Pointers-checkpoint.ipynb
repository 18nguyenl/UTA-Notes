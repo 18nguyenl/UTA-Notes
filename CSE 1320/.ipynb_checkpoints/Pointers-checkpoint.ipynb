{
 "cells": [
  {
   "cell_type": "markdown",
   "metadata": {},
   "source": [
    "# Pointers"
   ]
  },
  {
   "cell_type": "markdown",
   "metadata": {},
   "source": [
    "## & and %p\n",
    "The `&` operator used on a variable refers to the address of the variable  \n",
    "`%p` will print out the address of a variable"
   ]
  },
  {
   "cell_type": "code",
   "execution_count": null,
   "metadata": {},
   "outputs": [],
   "source": [
    "int variable1 = 5;\n",
    "printf(\"%p\\n\", &variable1);"
   ]
  },
  {
   "cell_type": "markdown",
   "metadata": {},
   "source": [
    "This is just an observation, but what I think is going is that\n",
    "the & actually returns an integer-typed value that is equal to the\n",
    "hexadecimal representation of the memory adress of the variable\n",
    "%p takes this raw integer value, and formats it into more recognizable\n",
    "memory address values  \n",
    "\n",
    "This statement test that as the value is just 0x5. It is equal to the value\n",
    "stored inside the variable."
   ]
  },
  {
   "cell_type": "code",
   "execution_count": 2,
   "metadata": {},
   "outputs": [
    {
     "name": "stderr",
     "output_type": "stream",
     "text": [
      "/tmp/tmp804zzgd5.c:1:8: error: expected declaration specifiers or ‘...’ before string constant\n",
      " printf(\"%p\\n\", variable1);\n",
      "        ^~~~~~\n",
      "/tmp/tmp804zzgd5.c:1:16: error: unknown type name ‘variable1’\n",
      " printf(\"%p\\n\", variable1);\n",
      "                ^~~~~~~~~\n",
      "[C kernel] GCC exited with code 1, the executable will not be executed"
     ]
    }
   ],
   "source": [
    "printf(\"%p\\n\", variable1);"
   ]
  },
  {
   "cell_type": "markdown",
   "metadata": {},
   "source": [
    "pointers contain an address, but not the value \n",
    "pointers point to another variable\n",
    "this is a direct initialization"
   ]
  },
  {
   "cell_type": "code",
   "execution_count": null,
   "metadata": {},
   "outputs": [],
   "source": []
  }
 ],
 "metadata": {
  "kernelspec": {
   "display_name": "C",
   "language": "c",
   "name": "c"
  },
  "language_info": {
   "file_extension": ".c",
   "mimetype": "text/plain",
   "name": "c"
  }
 },
 "nbformat": 4,
 "nbformat_minor": 2
}
