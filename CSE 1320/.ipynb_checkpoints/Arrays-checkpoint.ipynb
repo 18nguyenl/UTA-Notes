{
 "cells": [
  {
   "cell_type": "markdown",
   "metadata": {},
   "source": [
    "# Arrays"
   ]
  },
  {
   "cell_type": "markdown",
   "metadata": {},
   "source": [
    "When declaring an array, it sets aside memory large enough to store the amount of elements defined in the array.\n",
    "\n",
    "The first cell in the array is also the address of the array\n",
    "* Anywhere an array is not used without the `[]`, the array name evaluates to the address of the first cell in the array"
   ]
  },
  {
   "cell_type": "markdown",
   "metadata": {},
   "source": [
    "# Passing Arrays into Functions"
   ]
  },
  {
   "cell_type": "code",
   "execution_count": 37,
   "metadata": {},
   "outputs": [
    {
     "name": "stdout",
     "output_type": "stream",
     "text": [
      "Passing array references\n",
      "Array b contains: 0 1 2\n",
      "\n",
      "Passing array values\n",
      "Array c in the PassPointFunction contains: 1 2 3 \n",
      "Array c outside the function containscontains: 1 2 3\n",
      "\n"
     ]
    }
   ],
   "source": [
    "// Passing Array2 Demo\n",
    "#include <stdio.h>\n",
    "#include <limits.h>\n",
    "\n",
    "void PassArrayFunction(int a[], int b[])\n",
    "{\n",
    "    int i = 0;\n",
    "    for (i = 0; i < 3; i++) {\n",
    "        b[i] = a[i];\n",
    "    }\n",
    "\treturn;\n",
    "}\n",
    "\n",
    "void PassPointerFunction(int *a, int *b)\n",
    "{\n",
    "    int i = 0;\n",
    "    printf(\"Array c in the PassPointFunction contains: \");\n",
    "    for (i = 0; i < 3; i++) {\n",
    "        b[i] = a[i] + 1;\n",
    "        printf(\"%d \", b[i]);\n",
    "    }   \n",
    "    printf(\"\\n\");\n",
    "\treturn;\n",
    "}\n",
    "\n",
    "int main(void)\n",
    "{\n",
    "    // Passing Array Values\n",
    "    printf(\"Passing array references\\n\");\n",
    "    int a[3] = {0, 1, 2};\n",
    "    int b[3];\n",
    "    PassArrayFunction(a, b);\n",
    "    printf(\"Array b contains: %d %d %d\\n\\n\", b[0], b[1], b[2]);\n",
    "    \n",
    "    // Passing Pointer Values\n",
    "    int c[3];\n",
    "    printf(\"Passing array values\\n\");\n",
    "    PassPointerFunction(a, c);\n",
    "    printf(\"Array c outside the function containscontains: %d %d %d\\n\\n\", c[0], c[1], c[2]);\n",
    "\treturn 0;\n",
    "}\n"
   ]
  },
  {
   "cell_type": "markdown",
   "metadata": {},
   "source": [
    "# Two-dimensional Arrays\n",
    "* It's literally an array of arrays...\n",
    "* It's so straightforward, it's just hard to imagine for the first time\n",
    "* There are so many resources online that explain this topic, just Google or Youtube\n",
    "\n",
    "## Defining 2D Arrays\n",
    "```C\n",
    "int Array[3][3];\n",
    "```\n",
    "\n",
    "## Initializing 2D Arrays\n",
    "```C\n",
    "int Array[3][3] = {};\n",
    "\n",
    "int Array[3][3] = {\n",
    "    {0, 0, 0},\n",
    "    {0, 0, 0},\n",
    "    {0, 0, 0}};\n",
    "```"
   ]
  },
  {
   "cell_type": "markdown",
   "metadata": {},
   "source": [
    "# Multi-Dimensional Arrays\n",
    "* it's arrays of arrays of arrays of arrays of arrays...."
   ]
  },
  {
   "cell_type": "markdown",
   "metadata": {},
   "source": [
    "## Storage Class of Multi-Dimensional Arrays\n",
    "* follow the same fules regarding storage class, scope, and initialization as other types\n",
    "\n",
    "### storage class  \n",
    "* defaults to `auto`\n",
    "* created when block begins and destroyed when block ends\n",
    "* only known inside its block\n",
    "* has no initialization\n",
    "\n",
    "### static  \n",
    "* would exist for entire duration of program\n",
    "* only known inside its block\n",
    "* initialized w/ 0 values in every cell\n",
    "* stored in different part of memory (from heap to data segment)\n"
   ]
  },
  {
   "cell_type": "markdown",
   "metadata": {},
   "source": [
    "## Padding Multi-Dimensional Arrays to Functions\n",
    "* with 1D Arrays, we don't specify elements b/c we are passing a pointer to the array, not the array itself\n",
    "```C\n",
    "void FillOutMultTable(int MultTable[][MAX_COL], int row, int col)\n",
    "{\n",
    "    int i, j;\n",
    "    for (i = 1; i <= row; i++)\n",
    "    {\n",
    "        for (j = 1; j <= col; j++)\n",
    "        {\n",
    "            MultTable[i-1][j-1] = i * j;\n",
    "        }\n",
    "    }\n",
    "    \n",
    "    return;\n",
    "}\n",
    "```  \n",
    "Notice that when we passed `MultTable`, we had to specify the columns\n",
    "\n",
    "* the first dimension isn't needed b/c it's the address where the 2D Array is\n",
    "* when you add more dimensions, the compiler needs to know where each column starts and ends \n",
    " * the compiler needs to know how to divide up the contiguous memory reserved for the array"
   ]
  }
 ],
 "metadata": {
  "kernelspec": {
   "display_name": "C",
   "language": "c",
   "name": "c"
  },
  "language_info": {
   "file_extension": ".c",
   "mimetype": "text/plain",
   "name": "c"
  }
 },
 "nbformat": 4,
 "nbformat_minor": 2
}
