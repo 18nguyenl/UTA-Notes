{
 "cells": [
  {
   "cell_type": "markdown",
   "metadata": {},
   "source": [
    "# Character Variables"
   ]
  },
  {
   "cell_type": "markdown",
   "metadata": {},
   "source": [
    "## ASCII Character Set\n",
    "* 1288 chars.\n",
    "* each char has integer val btwn. 0 and 127\n",
    "* C provides int type `char` to rep. chars.\n",
    "* `char` is stored in one byte of memory\n",
    "* works like Java when it comes to `int` and `char` relationships\n",
    " * `char` can be treated as an `int` depending on context"
   ]
  },
  {
   "cell_type": "markdown",
   "metadata": {},
   "source": [
    "## Unsigned Types"
   ]
  },
  {
   "cell_type": "markdown",
   "metadata": {},
   "source": [
    "### Signed Types\n",
    "* `short`\n",
    "* `int`\n",
    "* `long`\n",
    "\n",
    "### `unsigned` keyword\n",
    "* `unsigned short`\n",
    "* `unsigned int`\n",
    "* `unsigned long`\n",
    "* removes negative values in original signed types to increase the range for unsigned values\n",
    "* adding 1 to unsigned types at maximum loops it back to 0\n",
    "\n",
    "### `sizeof()`\n",
    "* sizeof() signed types is the same as unsigned"
   ]
  },
  {
   "cell_type": "markdown",
   "metadata": {},
   "source": [
    "## ANSI C and Integer Types"
   ]
  },
  {
   "cell_type": "markdown",
   "metadata": {},
   "source": [
    "* there's a file called \"limits.h\" that determines the max and min ranges for many things."
   ]
  },
  {
   "cell_type": "markdown",
   "metadata": {},
   "source": [
    "## printf() - field width specifier"
   ]
  },
  {
   "cell_type": "markdown",
   "metadata": {},
   "source": [
    "### field width\n",
    "* optional\n",
    "* decimal int const. spec. min. field width.\n",
    "* output will be right justified "
   ]
  },
  {
   "cell_type": "markdown",
   "metadata": {},
   "source": [
    "## Floating POint Types"
   ]
  },
  {
   "cell_type": "markdown",
   "metadata": {},
   "source": [
    "### Keywords\n",
    "* `float` - singple precision\n",
    "* `double` - doulbe precision\n",
    "* `long double` - extra precision\n",
    "* `float.h` determines the limits of each type"
   ]
  }
 ],
 "metadata": {
  "kernelspec": {
   "display_name": "C",
   "language": "c",
   "name": "c"
  },
  "language_info": {
   "file_extension": ".c",
   "mimetype": "text/plain",
   "name": "c"
  }
 },
 "nbformat": 4,
 "nbformat_minor": 2
}
