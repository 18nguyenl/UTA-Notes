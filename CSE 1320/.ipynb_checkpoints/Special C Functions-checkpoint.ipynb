{
 "cells": [
  {
   "cell_type": "markdown",
   "metadata": {},
   "source": [
    "# Special C Functions"
   ]
  },
  {
   "cell_type": "markdown",
   "metadata": {},
   "source": [
    "## qsort()"
   ]
  },
  {
   "cell_type": "markdown",
   "metadata": {},
   "source": [
    "* built into C\n",
    "* designed to sort arrays\n",
    "\n",
    "```C\n",
    "void qsort(void *base,\n",
    "           size_t elements,\n",
    "           size_t size,\n",
    "           int (*compare) (const void *, const void*));\n",
    "```\n",
    "\n",
    "### base\n",
    "* pointer to first element of array to be sorted\n",
    " * set to `void` poitner so `qsort()` can handle any type of array\n",
    "\n",
    "### elements\n",
    "* number of elements in array\n",
    "* using `size_t` as type allwos `qsort()` accept any unsigned integer type and handle any size array\n",
    "\n",
    "### size\n",
    "* size in bytes of ea. element in array\n",
    "* using `size_t` as type allows `qsort()` accept any unsigned `int` type and handle any size array\n",
    "\n",
    "### compare\n",
    "* function pointer that ocmpares 2 elements\n",
    "* pointer to function comparing 2 array elements\n",
    "* function parameters set to `const` show that they will not be alter by function\n",
    "* parameters are type `void` allowing arrays of all types to be sorted\n",
    "* compare function returns an `int`\n",
    "\n",
    "#### return value of compare function\n",
    "##### < 0\n",
    "* if 1st parameter points to smaller item\n",
    "##### 0\n",
    "##### > 0\n",
    "* if 2nd parameter points to smaller iterm"
   ]
  }
 ],
 "metadata": {
  "kernelspec": {
   "display_name": "C",
   "language": "c",
   "name": "c"
  },
  "language_info": {
   "file_extension": ".c",
   "mimetype": "text/plain",
   "name": "c"
  }
 },
 "nbformat": 4,
 "nbformat_minor": 2
}
