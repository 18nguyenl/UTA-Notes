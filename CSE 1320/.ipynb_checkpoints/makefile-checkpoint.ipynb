{
 "cells": [
  {
   "cell_type": "markdown",
   "metadata": {},
   "source": [
    "# makefile"
   ]
  },
  {
   "cell_type": "markdown",
   "metadata": {},
   "source": [
    "this is a special file that takes `C` code and compiles the code into an exebutable."
   ]
  },
  {
   "cell_type": "markdown",
   "metadata": {},
   "source": [
    "```bash\n",
    "# Long Nguyen 100124775\n",
    "SRC = Code3_1001247753.c\n",
    "OBJ = $(SRC:.c=.o)\n",
    "EXE = $(SRC:.c=.e)\n",
    "\n",
    "LSRC = MyLib.c\n",
    "LOBJ = $(LSRC:.c=.o)\n",
    "LHDR = $(LSRC:.c=.h)\n",
    "\n",
    "CFLAGS = -g\n",
    "\n",
    "LIBOBJ = $(LOBJ)\n",
    "\n",
    "all : $(EXE)\n",
    "\n",
    "$(EXE): $(OBJ) $(LIBOBJ)\n",
    "\tgcc $(CFLAGS) $(OBJ) $(LIBOBJ) -o $(EXE) \n",
    "\n",
    "$(OBJ) : $(SRC)\n",
    "\tgcc -c $(CFLAGS) $(SRC) -o $(OBJ) \n",
    "\n",
    "$(LOBJ): $(LSRC) $(LHDR) \n",
    "\tgcc -c $(CFLAGS) $(LSRC) -o $(LOBJ)\n",
    "```"
   ]
  },
  {
   "cell_type": "markdown",
   "metadata": {},
   "source": [
    "As one can see, the makefile is basically a bash script running multiple compilation commands to eventually generate the EXE executable. What the makefile and the code above does is generate an Object file that's only readable by the compiler and linker. The compiler and linker takes the object file and generates the executable."
   ]
  },
  {
   "cell_type": "markdown",
   "metadata": {},
   "source": [
    "## Libraries"
   ]
  },
  {
   "cell_type": "markdown",
   "metadata": {},
   "source": [
    "* They don't have a main\n",
    "* They only contain functions and declarations\n",
    "* Sounds like an API"
   ]
  },
  {
   "cell_type": "markdown",
   "metadata": {},
   "source": [
    "## .c and .h files"
   ]
  },
  {
   "cell_type": "markdown",
   "metadata": {},
   "source": [
    "Libraries use 2 files to give functionality as a library.\n",
    "\n",
    "#### <code\\>.c\n",
    "* contains function implementation and declaration  \n",
    "\n",
    "#### <library\\>.h\n",
    "* header file containing function prototypes for my library"
   ]
  },
  {
   "cell_type": "markdown",
   "metadata": {},
   "source": [
    "## Header Files"
   ]
  },
  {
   "cell_type": "markdown",
   "metadata": {},
   "source": [
    "### #include guard\n",
    "* also called:\n",
    " * macro guard\n",
    " * header guard\n",
    "* purpose is to prevent the problem of double \"inclusion\" when using the include directive\n",
    "* using these is one way to make the file idempotent  \n",
    "\n",
    "### Idempotence\n",
    "* properties in math and compsci where certain operations could be applied multiple times without changing the result of the initial application"
   ]
  }
 ],
 "metadata": {
  "kernelspec": {
   "display_name": "C",
   "language": "c",
   "name": "c"
  },
  "language_info": {
   "file_extension": ".c",
   "mimetype": "text/plain",
   "name": "c"
  }
 },
 "nbformat": 4,
 "nbformat_minor": 2
}
