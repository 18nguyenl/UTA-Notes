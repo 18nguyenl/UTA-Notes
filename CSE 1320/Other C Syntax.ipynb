{
 "cells": [
  {
   "cell_type": "markdown",
   "metadata": {},
   "source": [
    "# Other C Syntax"
   ]
  },
  {
   "cell_type": "markdown",
   "metadata": {},
   "source": [
    "## do-while statement\n",
    "* It's a while loop that always executes at least once\n",
    "* evaluation occurs after the statement executes\n",
    "* loop will repeat only if true (if nonzero)"
   ]
  },
  {
   "cell_type": "markdown",
   "metadata": {},
   "source": [
    "## switch statement\n",
    "* it's very very very similar to `java` syntax here\n",
    "* `switch(expression)` where `expression` must be an integer type\n",
    "* `case const_expr: statement`\n",
    " * `const_expr` must be a constant expression and an integer type"
   ]
  },
  {
   "cell_type": "code",
   "execution_count": 4,
   "metadata": {},
   "outputs": [
    {
     "name": "stdout",
     "output_type": "stream",
     "text": [
      "strcat() example\n"
     ]
    }
   ],
   "source": [
    "// case demo\n",
    "\n",
    "#include <stdio.h>\n",
    "\n",
    "int main(void)\n",
    "{\n",
    "\tint MenuChoice = 0;\n",
    "\n",
    "    MenuChoice = 3;\n",
    "\t\n",
    "\tswitch (MenuChoice)\n",
    "\t{\n",
    "\t\tcase 1:\n",
    "\t\t\tprintf(\"strlen() example\\n\");\n",
    "\t\t\tbreak;\n",
    "\t\tcase 2:\n",
    "\t\t\tprintf(\"strcpy() example\\n\");\n",
    "\t\t\tbreak;\n",
    "\t\tcase 3:\n",
    "\t\t\tprintf(\"strcat() example\\n\");\n",
    "\t\t\tbreak;\n",
    "\t\tdefault:\n",
    "\t\t\tprintf(\"Invalid menu choice\\n\");\t\t\t\n",
    "\t}\n",
    "\n",
    "\treturn 0;\n",
    "}"
   ]
  },
  {
   "cell_type": "markdown",
   "metadata": {},
   "source": [
    "## Altering the Flow of Control\n",
    "* continue and break\n",
    "\n",
    "### continue\n",
    "* use in loops\n",
    "* move to next iteration\n",
    " * causes control to pass to the point after the last statement in loop effectively \"moving to next iteration\"\n",
    "\n",
    "### break\n",
    "* exit control\n",
    "* pass to point immediately after the control"
   ]
  },
  {
   "cell_type": "markdown",
   "metadata": {},
   "source": [
    "## return Statement\n",
    "```C\n",
    "return;\n",
    "\n",
    "return expression;\n",
    "```\n",
    "* used in `main()` to termiante program\n",
    "* use to terminate execution of function\n",
    "* causes control to pass from function back to position where it was called\n",
    "* use to provide another point of exit to function besides the end of the block\n",
    "* allows functions to return values"
   ]
  },
  {
   "cell_type": "markdown",
   "metadata": {},
   "source": [
    "## exit() Library Function\n",
    "```C\n",
    "exit(0);\n",
    "exit(1);\n",
    "exit(255);\n",
    "```\n",
    "`exit()` function takes only singple parameter of type `int`\n",
    "* `exit()` causes program to terminate\n",
    "* control return to OS\n",
    "* `<stdlib.h>` must be `included`\n",
    "\n",
    "### return 0 vs exit(0) in main()\n",
    "* `return` is a statement\n",
    " * good practice to do it this style\n",
    "* `exit()` is a function\n",
    " * using this could have a few unusual circumstances\n",
    " * could cause undefined behavior"
   ]
  },
  {
   "cell_type": "markdown",
   "metadata": {},
   "source": [
    "## Automatic versus Static Variables\n",
    "### Automatic Variables\n",
    "| properties            | details                                          |\n",
    "|-----------------------|--------------------------------------------------|\n",
    "| scope                 | inside function = local                          |\n",
    "| default initial value | garbage until explicit intialization             |\n",
    "| lifespan              | create when function called; destroyed upon exit |\n",
    "| storage location      | stack                                            |\n",
    "\n",
    "### Static Variables\n",
    "```C\n",
    "static int IntVar;\n",
    "```\n",
    "| properties            | details                                                |\n",
    "|-----------------------|--------------------------------------------------------|\n",
    "| scope                 | inside function = local                                |\n",
    "| default initial value | 0                                                      |\n",
    "| lifespan              | created when program starts and ends when program ends |\n",
    "| storage location      | data segment                                           |\n",
    "* mem space allocated when program starts and deallocated when program ends \n",
    "* if initializer used, var is initialized at beginning of program\n",
    "* this is an explicitly used keyword\n",
    "\n",
    "### Register Variables\n",
    "```C\n",
    "register int i;\n",
    "```\n",
    "* programmer tells var to be placced in register\n",
    "* usually indicates var wil lbe used frequently\n",
    " * improve speed & performance\n",
    " * ex: indicies and loop counters\n",
    "* no guarantee var will be placed in register\n",
    "* very limited in availability & size\n",
    "* illegal to use address operator & name of register variable"
   ]
  },
  {
   "cell_type": "markdown",
   "metadata": {},
   "source": [
    "# Global vs Local Variables\n",
    "## Local\n",
    "* only know inside function block or compound statement block where they defined\n",
    "* can be referenced any oint from declaration to closing braces of that block or function\n",
    "* works exactly like local Java scopes\n",
    "## Global Variables\n",
    "* can be referenced by more than one function\n",
    "* defined outside function or compound statement blocks\n",
    "* defined before all functions in source code file\n",
    "* can be referenced by all functions in that file\n",
    "* in existence during full execution time of program"
   ]
  }
 ],
 "metadata": {
  "kernelspec": {
   "display_name": "C",
   "language": "c",
   "name": "c"
  },
  "language_info": {
   "file_extension": ".c",
   "mimetype": "text/plain",
   "name": "c"
  }
 },
 "nbformat": 4,
 "nbformat_minor": 2
}
