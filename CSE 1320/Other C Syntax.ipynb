{
 "cells": [
  {
   "cell_type": "markdown",
   "metadata": {},
   "source": [
    "# Other C Syntax"
   ]
  },
  {
   "cell_type": "markdown",
   "metadata": {},
   "source": [
    "## do-while statement\n",
    "* It's a while loop that always executes at least once\n",
    "* evaluation occurs after the statement executes\n",
    "* loop will repeat only if true (if nonzero)"
   ]
  },
  {
   "cell_type": "markdown",
   "metadata": {},
   "source": [
    "## switch statement\n",
    "* it's very very very similar to `java` syntax here\n",
    "* `switch(expression)` where `expression` must be an integer type\n",
    "* `case const_expr: statement`\n",
    " * `const_expr` must be a constant expression and an integer type"
   ]
  },
  {
   "cell_type": "code",
   "execution_count": 4,
   "metadata": {},
   "outputs": [
    {
     "name": "stdout",
     "output_type": "stream",
     "text": [
      "strcat() example\n"
     ]
    }
   ],
   "source": [
    "// case demo\n",
    "\n",
    "#include <stdio.h>\n",
    "\n",
    "int main(void)\n",
    "{\n",
    "\tint MenuChoice = 0;\n",
    "\n",
    "    MenuChoice = 3;\n",
    "\t\n",
    "\tswitch (MenuChoice)\n",
    "\t{\n",
    "\t\tcase 1:\n",
    "\t\t\tprintf(\"strlen() example\\n\");\n",
    "\t\t\tbreak;\n",
    "\t\tcase 2:\n",
    "\t\t\tprintf(\"strcpy() example\\n\");\n",
    "\t\t\tbreak;\n",
    "\t\tcase 3:\n",
    "\t\t\tprintf(\"strcat() example\\n\");\n",
    "\t\t\tbreak;\n",
    "\t\tdefault:\n",
    "\t\t\tprintf(\"Invalid menu choice\\n\");\t\t\t\n",
    "\t}\n",
    "\n",
    "\treturn 0;\n",
    "}"
   ]
  },
  {
   "cell_type": "markdown",
   "metadata": {},
   "source": [
    "## Altering the Flow of Control\n",
    "* continue and break\n",
    "\n",
    "### continue\n",
    "* use in loops\n",
    "* move to next iteration\n",
    " * causes control to pass to the point after the last statement in loop effectively \"moving to next iteration\"\n",
    "\n",
    "### break\n",
    "* exit control\n",
    "* pass to point immediately after the control"
   ]
  },
  {
   "cell_type": "markdown",
   "metadata": {},
   "source": [
    "## return Statement\n",
    "```C\n",
    "return;\n",
    "\n",
    "return expression;\n",
    "```\n",
    "* used in `main()` to termiante program\n",
    "* use to terminate execution of function\n",
    "* causes control to pass from function back to position where it was called\n",
    "* use to provide another point of exit to function besides the end of the block\n",
    "* allows functions to return values"
   ]
  },
  {
   "cell_type": "markdown",
   "metadata": {},
   "source": [
    "## exit() Library Function\n",
    "```C\n",
    "exit(0);\n",
    "exit(1);\n",
    "exit(255);\n",
    "```\n",
    "`exit()` function takes only singple parameter of type `int`\n",
    "* `exit()` causes program to terminate\n",
    "* control return to OS\n",
    "* `<stdlib.h>` must be `included`\n",
    "\n",
    "### return 0 vs exit(0) in main()\n",
    "* `return` is a statement\n",
    " * good practice to do it this style\n",
    "* `exit()` is a function\n",
    " * using this could have a few unusual circumstances\n",
    " * could cause undefined behavior"
   ]
  },
  {
   "cell_type": "markdown",
   "metadata": {},
   "source": [
    "## Automatic versus Static Variables\n",
    "### Automatic Variables\n",
    "| properties            | details                                          |\n",
    "|-----------------------|--------------------------------------------------|\n",
    "| scope                 | inside function = local                          |\n",
    "| default initial value | garbage until explicit intialization             |\n",
    "| lifespan              | create when function called; destroyed upon exit |\n",
    "| storage location      | stack                                            |\n",
    "\n",
    "### Static Variables\n",
    "```C\n",
    "static int IntVar;\n",
    "```\n",
    "| properties            | details                                                |\n",
    "|-----------------------|--------------------------------------------------------|\n",
    "| scope                 | inside function = local                                |\n",
    "| default initial value | 0                                                      |\n",
    "| lifespan              | created when program starts and ends when program ends |\n",
    "| storage location      | data segment                                           |\n",
    "\n",
    "* mem space allocated when program starts and deallocated when program ends \n",
    "* if initializer used, var is initialized at beginning of program\n",
    "* this is an explicitly used keyword\n",
    "\n",
    "### Register Variables\n",
    "```C\n",
    "register int i;\n",
    "```\n",
    "* programmer tells var to be placced in register\n",
    "* usually indicates var wil lbe used frequently\n",
    " * improve speed & performance\n",
    " * ex: indicies and loop counters\n",
    "* no guarantee var will be placed in register\n",
    "* very limited in availability & size\n",
    "* illegal to use address operator & name of register variable"
   ]
  },
  {
   "cell_type": "markdown",
   "metadata": {},
   "source": [
    "# Global vs Local Variables\n",
    "## Local\n",
    "* only know inside function block or compound statement block where they defined\n",
    "* can be referenced any oint from declaration to closing braces of that block or function\n",
    "* works exactly like local Java scopes\n",
    "\n",
    "## Global Variables\n",
    "* can be referenced by more than one function\n",
    "* defined outside function or compound statement blocks\n",
    "* defined before all functions in source code file\n",
    "* can be referenced by all functions in that file\n",
    "* in existence during full execution time of program"
   ]
  },
  {
   "cell_type": "markdown",
   "metadata": {},
   "source": [
    "# Enumerated Types"
   ]
  },
  {
   "cell_type": "markdown",
   "metadata": {},
   "source": [
    "* scalar types in C\n",
    "* used to designate set of integer constants\n",
    "* enumerated declaration roughly = `#define`"
   ]
  },
  {
   "cell_type": "markdown",
   "metadata": {},
   "source": [
    "## enums vs #define\n",
    "* `enum` can be used to define variables of that type  \n",
    "\n",
    "```C\n",
    "enum boolean {\n",
    "    true, false\n",
    "};\n",
    "\n",
    "enum boolean correct;\n",
    "```\n",
    "\n",
    "the variable `correct` is supposed to take only `true` or `false`, but compilers aren't required to check what the value is in the declared list\n",
    "* this means you could unintentionally put in the wrong value in these variables and screw something up"
   ]
  },
  {
   "cell_type": "markdown",
   "metadata": {},
   "source": [
    "## Usage of enums\n",
    "```C\n",
    "enum colors1\n",
    "{\n",
    "    red,orange,yellow,blue,green,indigo,violet\n",
    "};\n",
    "    \n",
    "enum colors rainbow;\n",
    "```\n",
    "## Or\n",
    "```C\n",
    "enum colors\n",
    "{\n",
    "    red,orange,yellow,blue,green,indigo,violet\n",
    "} \n",
    "rainbow;\n",
    "```\n",
    "## Default values of enums\n",
    "* The default values assigned starting at 0\n",
    "* The succeeding identifier are identified succeeding `int` values after 0  \n",
    "\n",
    "|colors | value|\n",
    "|-------|------|\n",
    "|red    |0     |\n",
    "|orange |1     |\n",
    "|yellow |2     |\n",
    "|blue   |3     |\n",
    "|green  |4     |\n",
    "|indigo |5     |\n",
    "|violet |6     |\n",
    "\n",
    "## Overriding default values of enums\n",
    "```C \n",
    "enum colors\n",
    "{\n",
    "    red=3,orange=6,yellow=6,blue=4,green=5,indigo,violet\n",
    "}\n",
    "rainbow;\n",
    "```\n",
    "\n",
    "* more than 1 identifier can be assigned w/ same value\n",
    " * `orange` and `yellow` are both 6\n",
    "* `indigo` will be set to 6 since it appears after `green` which is assigned 5\n",
    "* `violet` will be set to 7 since it appears after `indigo` which is 6"
   ]
  },
  {
   "cell_type": "code",
   "execution_count": 6,
   "metadata": {},
   "outputs": [
    {
     "name": "stdout",
     "output_type": "stream",
     "text": [
      "color1 = 1\n",
      "color2 = 1\n",
      "color3 = 77\n"
     ]
    }
   ],
   "source": [
    "#include <stdio.h>\n",
    "\n",
    "int main (void) {\n",
    "    enum colors\n",
    "    {\n",
    "        red,orange,yellow,blue,green,indigo,violet\n",
    "    };\n",
    "    \n",
    "    enum colors color1;\n",
    "    enum colors color2;\n",
    "    enum colors color3;\n",
    "    \n",
    "    // Values are assigned outside of range\n",
    "    color1 = orange;\n",
    "    color2 = 1;\n",
    "    color3 = 77;\n",
    "    \n",
    "    printf(\"color1 = %d\\ncolor2 = %d\\ncolor3 = %d\\n\", color1, color2, color3);\n",
    "    return 0;\n",
    "}"
   ]
  },
  {
   "cell_type": "markdown",
   "metadata": {},
   "source": [
    "## More on enums\n",
    "* operations w/ `enum` is limited\n",
    "* identifiers are treated as type `int` constant & can appear anywhere an `int` appears\n",
    "* other than assignment and equality tests, no other operations must be supported by ANSI C Compiler\n",
    " * other operations may be supported but is discouraged b/c of portability issues\n",
    "\n",
    "## If they're so limited, why use them?\n",
    "* improve readability\n",
    "* improve usability\n",
    "* auto assigning of values and accounting of values"
   ]
  },
  {
   "cell_type": "markdown",
   "metadata": {},
   "source": [
    "# typedefs"
   ]
  },
  {
   "cell_type": "markdown",
   "metadata": {},
   "source": [
    "```C\n",
    "typedef old_type new_type;\n",
    "```\n",
    "\n",
    "* storage class\n",
    "* associate an identifier with a type\n",
    "* does not cause any storage to be allocated\n",
    "* `typedef` is a keyword\n",
    "* `typedef` appears in declarations"
   ]
  },
  {
   "cell_type": "markdown",
   "metadata": {},
   "source": [
    "## typedef vs #define\n",
    "### typedef\n",
    "* processed by compiler\n",
    "* only used to define data types\n",
    "### #define\n",
    "* processed by preprocessor\n",
    "* used to define constants, macros, and other entities as well as data types"
   ]
  },
  {
   "cell_type": "code",
   "execution_count": 10,
   "metadata": {},
   "outputs": [
    {
     "name": "stdout",
     "output_type": "stream",
     "text": [
      "Scooby Snacks YUM!\n"
     ]
    }
   ],
   "source": [
    "#include <stdio.h>\n",
    "#include <string.h>\n",
    "\n",
    "int main(void) {\n",
    "    typedef short Velma;\n",
    "    typedef int Daphne;\n",
    "    typedef long Fred;\n",
    "    typedef char Shaggy[100];\n",
    "    typedef char Scooby;\n",
    "    Velma Dinkley;\n",
    "    Daphne Blake;\n",
    "    Fred Jones;\n",
    "    Shaggy Rogers;\n",
    "    Scooby Doo;\n",
    "    \n",
    "    Dinkley = 10;\n",
    "    Blake = 1;\n",
    "    Jones = 3;\n",
    "    Doo = (Dinkley*Jones+Jones);\n",
    "    \n",
    "    strcpy(Rogers, \"Scooby Snacks\");\n",
    "    \n",
    "    printf(\"%s %c%c%c%c\\n\", Rogers, (Dinkley*9-1), (Blake+'T'), (Jones*Dinkley+'/'), Doo);\n",
    "    \n",
    "    return 0;\n",
    "}"
   ]
  },
  {
   "cell_type": "markdown",
   "metadata": {},
   "source": [
    "* the example above explains everything\n",
    "* you take an old type and name it something else for convenience\n",
    "## notes from the idiot that writes this stuff\n",
    "* `typedefs`, `struct`, and `union` in combination remind me an awful lot about Objects and Inheritance in OOP"
   ]
  },
  {
   "cell_type": "markdown",
   "metadata": {},
   "source": [
    "## Notes about C Math Library\n",
    "* you must include it like this to use math functions like `pow()` properly\n",
    "```bash\n",
    "$ gcc your_code.c -lm\n",
    "```\n",
    "\n",
    "* Math library is just too big to just `#include` it in  \n",
    "* If we did include it, runtime would increase marginally for a bunch of functions we may or may not use"
   ]
  }
 ],
 "metadata": {
  "kernelspec": {
   "display_name": "C",
   "language": "c",
   "name": "c"
  },
  "language_info": {
   "file_extension": ".c",
   "mimetype": "text/plain",
   "name": "c"
  }
 },
 "nbformat": 4,
 "nbformat_minor": 2
}
