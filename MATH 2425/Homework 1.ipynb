{
 "cells": [
  {
   "cell_type": "markdown",
   "metadata": {},
   "source": [
    "# Basic Approaches to Integration"
   ]
  },
  {
   "cell_type": "markdown",
   "metadata": {},
   "source": [
    "## Dear lord.. Have mercy on me this is actually hell. It is living hell. I hate all of this"
   ]
  },
  {
   "cell_type": "code",
   "execution_count": 1,
   "metadata": {},
   "outputs": [
    {
     "data": {
      "text/html": [
       "<html><script type=\"math/tex; mode=display\">\\newcommand{\\Bold}[1]{\\mathbf{#1}}-2 \\, \\log\\left(3\\right) + 2 \\, \\log\\left(2\\right) - 2</script></html>"
      ],
      "text/plain": [
       "-2*log(3) + 2*log(2) - 2"
      ]
     },
     "metadata": {},
     "output_type": "display_data"
    }
   ],
   "source": [
    "x = var('x');\n",
    "show(integral((1/(1-sqrt(x))), x, 9, 16))"
   ]
  },
  {
   "cell_type": "code",
   "execution_count": 4,
   "metadata": {},
   "outputs": [
    {
     "data": {
      "text/html": [
       "<html><script type=\"math/tex; mode=display\">\\newcommand{\\Bold}[1]{\\mathbf{#1}}15 \\, \\sin\\left(2 \\, x\\right) \\sin\\left(x\\right)</script></html>"
      ],
      "text/plain": [
       "15*sin(2*x)*sin(x)"
      ]
     },
     "metadata": {},
     "output_type": "display_data"
    },
    {
     "data": {
      "text/html": [
       "<html><script type=\"math/tex; mode=display\">\\newcommand{\\Bold}[1]{\\mathbf{#1}}-\\frac{5}{2} \\, \\sin\\left(3 \\, x\\right) + \\frac{15}{2} \\, \\sin\\left(x\\right)</script></html>"
      ],
      "text/plain": [
       "-5/2*sin(3*x) + 15/2*sin(x)"
      ]
     },
     "metadata": {},
     "output_type": "display_data"
    }
   ],
   "source": [
    "show(15*sin(x)*sin(2*x))\n",
    "show(integral(15*sin(x)*sin(2*x), x))"
   ]
  },
  {
   "cell_type": "code",
   "execution_count": 1,
   "metadata": {},
   "outputs": [
    {
     "data": {
      "text/html": [
       "<html><script type=\"math/tex; mode=display\">\\newcommand{\\Bold}[1]{\\mathbf{#1}}-\\frac{2}{e^{x} + 3}</script></html>"
      ],
      "text/plain": [
       "-2/(e^x + 3)"
      ]
     },
     "metadata": {},
     "output_type": "display_data"
    },
    {
     "data": {
      "text/html": [
       "<html><script type=\"math/tex; mode=display\">\\newcommand{\\Bold}[1]{\\mathbf{#1}}e^{\\left(2 \\, x\\right)}</script></html>"
      ],
      "text/plain": [
       "e^(2*x)"
      ]
     },
     "metadata": {},
     "output_type": "display_data"
    }
   ],
   "source": [
    "show(integral((2*e^x)/(e^(2*x)+6*e^x+9), x))\n",
    "show(e^x*e^x)"
   ]
  },
  {
   "cell_type": "code",
   "execution_count": null,
   "metadata": {},
   "outputs": [
    {
     "data": {
      "text/html": [
       "<html><script type=\"math/tex; mode=display\">\\newcommand{\\Bold}[1]{\\mathbf{#1}}\\frac{x^{2}}{x^{3} - 3 \\, x}</script></html>"
      ],
      "text/plain": [
       "x^2/(x^3 - 3*x)"
      ]
     },
     "metadata": {},
     "output_type": "display_data"
    },
    {
     "data": {
      "text/html": [
       "<html><script type=\"math/tex; mode=display\">\\newcommand{\\Bold}[1]{\\mathbf{#1}}\\frac{1}{x^{3} - 3 \\, x}</script></html>"
      ],
      "text/plain": [
       "1/(x^3 - 3*x)"
      ]
     },
     "metadata": {},
     "output_type": "display_data"
    }
   ],
   "source": [
    "top = (x^2)/(x^3-3*x)\n",
    "bottom = (1)/(x^3-3*x)\n",
    "show(top)\n",
    "show(bottom)\n",
    "show(integral((x^2)/(x^3-3*x) - (1)/(x^3-3*x), x, 2, 8))"
   ]
  }
 ],
 "metadata": {
  "kernelspec": {
   "display_name": "SageMath 8.1",
   "language": "",
   "name": "sagemath"
  },
  "language_info": {
   "codemirror_mode": {
    "name": "ipython",
    "version": 2
   },
   "file_extension": ".py",
   "mimetype": "text/x-python",
   "name": "python",
   "nbconvert_exporter": "python",
   "pygments_lexer": "ipython2",
   "version": "2.7.15"
  }
 },
 "nbformat": 4,
 "nbformat_minor": 2
}
