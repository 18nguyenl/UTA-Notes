{
 "cells": [
  {
   "cell_type": "markdown",
   "metadata": {},
   "source": [
    "# Enumeration Classes"
   ]
  },
  {
   "cell_type": "markdown",
   "metadata": {},
   "source": [
    "## enum class\n",
    "* a *managed* user-defined type\n",
    "* specifies a set of values\n",
    "* **class enums cannot be interchanged w/ enums or other class enums**"
   ]
  },
  {
   "cell_type": "code",
   "execution_count": 1,
   "metadata": {},
   "outputs": [
    {
     "name": "stdout",
     "output_type": "stream",
     "text": [
      "0\n",
      "2\n",
      "0"
     ]
    }
   ],
   "source": [
    "#include <iostream>\n",
    "\n",
    "enum Color { red, green, blue };                 // plain enum \n",
    "enum Currency { dollar, pound, yen };            // plain enum\n",
    "\n",
    "std::cout << Color::red << std::endl;\n",
    "std::cout << Color::blue << std::endl;\n",
    "std::cout << Currency::dollar << std::endl;"
   ]
  },
  {
   "cell_type": "code",
   "execution_count": null,
   "metadata": {},
   "outputs": [],
   "source": [
    "enum class Horse { pony, clydesdale, mustang};   // enum class\n",
    "enum class Car { mustang, tesla, model_t};       // enum class"
   ]
  },
  {
   "cell_type": "code",
   "execution_count": null,
   "metadata": {},
   "outputs": [],
   "source": [
    "int main() {\n",
    "    Color color = Color::red;  // OK\n",
    "    int num = color;           // OK but bad (color is not an int!)\n",
    "    std::cout << (color == Currency::dollar) << std::endl;  // OK but REALLY bad\n",
    "\n",
    "    Horse h = Horse::mustang;\n",
    "    Car c = Car::mustang;\n",
    "\n",
    "    int i = h;                           // error – h is not an int, but a Horse\n",
    "    std::cout << (c == h) << std::endl;  // error – c and h are different mustang types\n",
    "}"
   ]
  }
 ],
 "metadata": {
  "kernelspec": {
   "display_name": "C++17",
   "language": "C++17",
   "name": "xeus-cling-cpp17"
  },
  "language_info": {
   "codemirror_mode": "text/x-c++src",
   "file_extension": ".cpp",
   "mimetype": "text/x-c++src",
   "name": "c++",
   "version": "-std=c++17"
  }
 },
 "nbformat": 4,
 "nbformat_minor": 2
}
