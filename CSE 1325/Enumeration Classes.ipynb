{
 "cells": [
  {
   "cell_type": "markdown",
   "metadata": {},
   "source": [
    "# Enumeration Classes"
   ]
  },
  {
   "cell_type": "markdown",
   "metadata": {},
   "source": [
    "## enum class\n",
    "* a *managed* user-defined type\n",
    "* specifies a set of values\n",
    "* **has no methods**\n",
    "* **class enums cannot be interchanged w/ enums or other class enums**"
   ]
  },
  {
   "cell_type": "markdown",
   "metadata": {},
   "source": [
    "## My Definition\n",
    "* it's a collected group of more abstract user defined types\n",
    "* they're not just integers, they can represent Month::Mar\n",
    "  * which in turn represents the Month of March\n",
    "* it's a layer of abstraction that offers innate data validation with enforced abstraction"
   ]
  },
  {
   "cell_type": "code",
   "execution_count": 12,
   "metadata": {},
   "outputs": [
    {
     "name": "stderr",
     "output_type": "stream",
     "text": [
      "\u001b[1minput_line_21:2:7: \u001b[0m\u001b[0;1;31merror: \u001b[0m\u001b[1mredefinition of 'Color'\u001b[0m\n",
      " enum Color { red, green, blue };                 // plain enum \n",
      "\u001b[0;1;32m      ^\n",
      "\u001b[0m\u001b[1minput_line_8:2:7: \u001b[0m\u001b[0;1;30mnote: \u001b[0mprevious definition is here\u001b[0m\n",
      " enum Color { red, green, blue };                 // plain enum \n",
      "\u001b[0;1;32m      ^\n",
      "\u001b[0m"
     ]
    },
    {
     "ename": "Interpreter Error",
     "evalue": "",
     "output_type": "error",
     "traceback": [
      "Interpreter Error: "
     ]
    }
   ],
   "source": [
    "#include <iostream>\n",
    "\n",
    "enum Color { red, green, blue };                 // plain enum \n",
    "enum Currency { dollar, pound, yen };            // plain enum"
   ]
  },
  {
   "cell_type": "code",
   "execution_count": 13,
   "metadata": {},
   "outputs": [
    {
     "name": "stdout",
     "output_type": "stream",
     "text": [
      "0\n",
      "2\n",
      "0\n"
     ]
    }
   ],
   "source": [
    "std::cout << Color::red << std::endl;\n",
    "std::cout << Color::blue << std::endl;\n",
    "std::cout << Currency::dollar << std::endl;"
   ]
  },
  {
   "cell_type": "code",
   "execution_count": 14,
   "metadata": {},
   "outputs": [
    {
     "name": "stderr",
     "output_type": "stream",
     "text": [
      "\u001b[1minput_line_23:2:13: \u001b[0m\u001b[0;1;31merror: \u001b[0m\u001b[1mredefinition of 'Horse'\u001b[0m\n",
      " enum class Horse { pony, clydesdale, mustang};   // enum class\n",
      "\u001b[0;1;32m            ^\n",
      "\u001b[0m\u001b[1minput_line_10:2:13: \u001b[0m\u001b[0;1;30mnote: \u001b[0mprevious definition is here\u001b[0m\n",
      " enum class Horse { pony, clydesdale, mustang};   // enum class\n",
      "\u001b[0;1;32m            ^\n",
      "\u001b[0m"
     ]
    },
    {
     "ename": "Interpreter Error",
     "evalue": "",
     "output_type": "error",
     "traceback": [
      "Interpreter Error: "
     ]
    }
   ],
   "source": [
    "enum class Horse { pony, clydesdale, mustang};   // enum class\n",
    "enum class Car { mustang, tesla, model_t};       // enum class"
   ]
  },
  {
   "cell_type": "code",
   "execution_count": null,
   "metadata": {},
   "outputs": [],
   "source": [
    "int main() {\n",
    "    Color color = Color::red;  // OK\n",
    "    int num = color;           // OK but bad (color is not an int!)\n",
    "    // this will even throw a warning std::cout << (color == Currency::dollar) << std::endl;  // OK but REALLY bad\n",
    "    \n",
    "    // enum classes aren't really integers\n",
    "    Horse h = Horse::mustang;\n",
    "    Car c = Car::mustang;\n",
    "\n",
    "    //int i = h;                           // error – h is not an int, but a Horse\n",
    "    //std::cout << (c == h) << std::endl;  // error – c and h are different mustang types\n",
    "}"
   ]
  },
  {
   "cell_type": "markdown",
   "metadata": {},
   "source": [
    "## Using enum classes\n",
    "* sometimes require helper methods to properly utilize them\n",
    "* common example `string_to_string`\n",
    "\n",
    "#### Without Map\n",
    "```C++\n",
    "std::string to_string(Month m) {\n",
    "    switch(m) {\n",
    "        case Month::Jan: return \"January\"; break;\n",
    "        case Month::Feb: return \"February\"; break;\n",
    "        case Month::Mar: return \"March\"; break;\n",
    "        case Month::Apr: return \"April\"; break;\n",
    "        case Month::May: return \"May\"; break;\n",
    "        case Month::Jun: return \"June\"; break;\n",
    "        case Month::Jul: return \"July\"; break;\n",
    "        case Month::Aug: return \"August\"; break;\n",
    "        case Month::Sep: return \"September\"; break;\n",
    "        case Month::Oct: return \"October\"; break;\n",
    "        case Month::Nov: return \"November\"; break;\n",
    "        case Month::Dec: return \"December\"; break;\n",
    "        default: throw std::runtime_error{\"Invalid month\"};\n",
    "    }\n",
    "}\n",
    "```\n",
    "\n",
    "#### With Map\n",
    "```C++\n",
    "std::string to_string(Month m) {\n",
    "  std::map<Month, std::string> month_to_str =\n",
    "  {\n",
    "     {Month::Jan, \"January\"},\n",
    "     {Month::Feb, \"February\"},\n",
    "     {Month::Mar, \"March\"},\n",
    "     {Month::Apr, \"April\"},\n",
    "     {Month::May, \"May\"},\n",
    "     {Month::Jun, \"June\"},\n",
    "     {Month::Jul, \"July\"},\n",
    "     {Month::Aug, \"August\"},\n",
    "     {Month::Sep, \"September\"},\n",
    "     {Month::Oct, \"October\"},\n",
    "     {Month::Nov, \"November\"},\n",
    "     {Month::Dec, \"December\"},\n",
    "  };\n",
    "  return month_to_str[m];\n",
    "}\n",
    "```"
   ]
  },
  {
   "cell_type": "code",
   "execution_count": null,
   "metadata": {},
   "outputs": [],
   "source": [
    "enum class Month {Jan, Feb, Mar, Apr, May, Jun,\n",
    "                  Jul, Aug, Sep, Oct, Nov, Dec};"
   ]
  },
  {
   "cell_type": "code",
   "execution_count": 15,
   "metadata": {},
   "outputs": [],
   "source": [
    "std::string to_string(Month m) {\n",
    "  std::map<Month, std::string> month_to_str =\n",
    "  {\n",
    "     {Month::Jan, \"January\"},\n",
    "     {Month::Feb, \"February\"},\n",
    "     {Month::Mar, \"March\"},\n",
    "     {Month::Apr, \"April\"},\n",
    "     {Month::May, \"May\"},\n",
    "     {Month::Jun, \"June\"},\n",
    "     {Month::Jul, \"July\"},\n",
    "     {Month::Aug, \"August\"},\n",
    "     {Month::Sep, \"September\"},\n",
    "     {Month::Oct, \"October\"},\n",
    "     {Month::Nov, \"November\"},\n",
    "     {Month::Dec, \"December\"},\n",
    "  };\n",
    "  return month_to_str[m];\n",
    "}"
   ]
  },
  {
   "cell_type": "code",
   "execution_count": 18,
   "metadata": {},
   "outputs": [
    {
     "name": "stdout",
     "output_type": "stream",
     "text": [
      "March"
     ]
    }
   ],
   "source": [
    "std::cout << to_string(Month::Mar);"
   ]
  },
  {
   "cell_type": "code",
   "execution_count": null,
   "metadata": {},
   "outputs": [],
   "source": []
  }
 ],
 "metadata": {
  "kernelspec": {
   "display_name": "C++17",
   "language": "C++17",
   "name": "xeus-cling-cpp17"
  },
  "language_info": {
   "codemirror_mode": "text/x-c++src",
   "file_extension": ".cpp",
   "mimetype": "text/x-c++src",
   "name": "c++",
   "version": "-std=c++17"
  }
 },
 "nbformat": 4,
 "nbformat_minor": 2
}
